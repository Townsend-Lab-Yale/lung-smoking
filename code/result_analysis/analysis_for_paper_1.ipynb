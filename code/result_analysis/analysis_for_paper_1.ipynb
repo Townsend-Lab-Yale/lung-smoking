{
 "cells": [
  {
   "cell_type": "code",
   "execution_count": 2,
   "metadata": {},
   "outputs": [],
   "source": [
    "model_results_extension = \"model_results\""
   ]
  },
  {
   "cell_type": "markdown",
   "metadata": {},
   "source": [
    "Write data in numpy files to CSV for analysis in R"
   ]
  },
  {
   "cell_type": "code",
   "execution_count": null,
   "metadata": {},
   "outputs": [],
   "source": [
    "from numpy_to_csv import convert_all_numpy_to_csv\n",
    "convert_all_numpy_to_csv(extension=model_results_extension)"
   ]
  },
  {
   "cell_type": "markdown",
   "metadata": {},
   "source": [
    "Plot evolutionary trajectories"
   ]
  },
  {
   "cell_type": "code",
   "execution_count": 3,
   "metadata": {},
   "outputs": [],
   "source": [
    "import os\n",
    "import sys\n",
    "\n",
    "sys.path.insert(0, '../')\n",
    "from load_results import load_results\n",
    "from plot_trajectories import plot_trajectory\n",
    "\n",
    "subset_extension = os.path.join(model_results_extension, \"subset\")\n",
    "mu_method = \"variant\"\n",
    "\n",
    "fluxes_mles = load_results('fluxes', 'mles',subset_extension)\n",
    "fluxes_cis = load_results('fluxes','cis',subset_extension)\n",
    "\n",
    "selection_mles = load_results('selections', 'mles',subset_extension)\n",
    "selection_cis = load_results('selections', 'cis',subset_extension)\n",
    "\n",
    "if mu_method == \"cesR\":\n",
    "    mu_dict = load_results('mutations','cesR',extension=\"corrected_final\")\n",
    "elif mu_method == \"variant\":\n",
    "    mu_dict = load_results('mutations','variant',extension=\"corrected_final\")\n",
    "\n",
    "all_samples = load_results('samples', extension=subset_extension)"
   ]
  },
  {
   "cell_type": "code",
   "execution_count": 6,
   "metadata": {},
   "outputs": [],
   "source": [
    "for dataset_key in [\"smoking_plus\",\"nonsmoking_plus\"]:\n",
    "    for param in [\"fixation\",\"mutation\",\"selection\"]:\n",
    "        plot_trajectory(['TP53','KRAS'],dataset_key=dataset_key,param=param,mu_method=\"variant\",\n",
    "                        fluxes_mles=fluxes_mles, selection_mles=selection_mles, mu_dict=mu_dict, all_samples=all_samples)"
   ]
  },
  {
   "cell_type": "code",
   "execution_count": 7,
   "metadata": {},
   "outputs": [],
   "source": [
    "for param in [\"fixation\",\"mutation\",\"selection\"]:\n",
    "    plot_trajectory(['KRAS','KEAP1','STK11'],dataset_key=\"smoking_plus\",param=param,mu_method=\"variant\",\n",
    "                    fluxes_mles=fluxes_mles, selection_mles=selection_mles, mu_dict=mu_dict, all_samples=all_samples)"
   ]
  },
  {
   "cell_type": "code",
   "execution_count": null,
   "metadata": {},
   "outputs": [],
   "source": [
    "plot_trajectory(['KRAS','SMARCA4','APC'],\"smoking_plus\",param='selection',\n",
    "                selection_mles=selection_mles,all_samples=all_samples)"
   ]
  },
  {
   "cell_type": "code",
   "execution_count": null,
   "metadata": {},
   "outputs": [],
   "source": [
    "plot_trajectory(['TP53','KRAS','ARID1A'],\"smoking_plus\",param='selection',\n",
    "                selection_mles=selection_mles,all_samples=all_samples)"
   ]
  },
  {
   "cell_type": "code",
   "execution_count": null,
   "metadata": {},
   "outputs": [],
   "source": [
    "plot_trajectory(['TP53','KRAS','EGFR'],\"smoking_plus\",param='selection',\n",
    "                selection_mles=selection_mles,all_samples=all_samples)"
   ]
  },
  {
   "cell_type": "code",
   "execution_count": null,
   "metadata": {},
   "outputs": [],
   "source": [
    "plot_trajectory(['EGFR','PIK3CA','ARID1A'],\"nonsmoking_plus\",param='selection',\n",
    "                selection_mles=selection_mles,all_samples=all_samples)"
   ]
  },
  {
   "cell_type": "markdown",
   "metadata": {},
   "source": [
    "Plot matrix of pairwise epistatic effects"
   ]
  },
  {
   "cell_type": "code",
   "execution_count": null,
   "metadata": {},
   "outputs": [],
   "source": [
    "import sys\n",
    "sys.path.insert(0, '../')\n",
    "from matrix_plotting import plot_epistatic_ratios_2_matrices\n",
    "from order_results import order_genes_by_result_values\n",
    "\n",
    "gene_list_by_selection = order_genes_by_result_values(selection_mles['pan_data'])\n",
    "\n",
    "plot_epistatic_ratios_2_matrices(selection_mles['nonsmoking_plus'],\n",
    "                                 selection_cis['nonsmoking_plus'],\n",
    "                                 selection_mles['smoking_plus'],\n",
    "                                 selection_cis['smoking_plus'],\n",
    "                                 gene_list_by_selection)"
   ]
  }
 ],
 "metadata": {
  "kernelspec": {
   "display_name": ".venv",
   "language": "python",
   "name": "python3"
  },
  "language_info": {
   "codemirror_mode": {
    "name": "ipython",
    "version": 3
   },
   "file_extension": ".py",
   "mimetype": "text/x-python",
   "name": "python",
   "nbconvert_exporter": "python",
   "pygments_lexer": "ipython3",
   "version": "3.9.5"
  }
 },
 "nbformat": 4,
 "nbformat_minor": 2
}
