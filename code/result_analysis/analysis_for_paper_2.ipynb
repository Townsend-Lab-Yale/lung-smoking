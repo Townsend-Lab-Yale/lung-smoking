{
 "cells": [
  {
   "cell_type": "code",
   "execution_count": null,
   "metadata": {
    "vscode": {
     "languageId": "r"
    }
   },
   "outputs": [],
   "source": [
    "source('results_and_plotting.R')\n",
    "library(RColorBrewer)\n",
    "library(latex2exp)\n",
    "\n",
    "location_figures = \"../../figures/\""
   ]
  },
  {
   "cell_type": "code",
   "execution_count": null,
   "metadata": {
    "vscode": {
     "languageId": "r"
    }
   },
   "outputs": [],
   "source": [
    "M1_results = load_M1_results(\"variant\")"
   ]
  },
  {
   "cell_type": "markdown",
   "metadata": {},
   "source": [
    "# Figure 1: G"
   ]
  },
  {
   "cell_type": "code",
   "execution_count": null,
   "metadata": {
    "vscode": {
     "languageId": "r"
    }
   },
   "outputs": [],
   "source": [
    "key = \"pan_data\"\n",
    "method = \"variant\"\n",
    "\n",
    "options(repr.plot.width = 12, repr.plot.height = 5)\n",
    "\n",
    "gamma_plot = plot_M1_results(M1_results, key, method, \"selection\", show_genes = FALSE)\n",
    "legend = get_legend(gamma_plot + theme(legend.title = element_blank(), legend.text = element_text(size=14)))#theme(legend.title = element_text(size=16), legend.text = element_text(size=14)))\n",
    "gamma_plot = gamma_plot + theme(legend.position='none') + \n",
    "                # scale_y_continuous(labels=function(x){x/1e6}, limits=c(0,5e6), breaks=c(0,0.25,0.5,1,1.5,2)*1e6) +\n",
    "                scale_y_log10(labels=function(x){x/1e6}, limits=c(NA,8e6)) +\n",
    "                ylab(TeX(r'(Scaled selection coefficient $(\\times 10^{6})$)'))\n",
    "                # ylab(TeX(r'(Scaled selection coefficient)'))\n",
    "flux_plot = plot_M1_results(M1_results, key, method, \"fixation\",show_freq_legend = FALSE) + \n",
    "                theme(axis.ticks.y=element_line(), axis.title.y = element_blank()) + \n",
    "                scale_y_continuous(limits = c(0, NA)) +\n",
    "                ylab(TeX(r'(Fixation rate ($\\propto$mutation prevalence))'))\n",
    "mu_plot = plot_M1_results(M1_results, key, method, \"mutation\",show_freq_legend = FALSE, show_genes = FALSE) + \n",
    "            scale_y_continuous(labels=function(x){x/1e-6}, limits=c(0,NA), breaks=seq(0,2.1e-6,0.3e-6)) + \n",
    "            ylab(TeX(r'(Mutation rate $(\\times 10^{-6})$)'))\n",
    "\n",
    "\n",
    "p = plot_grid(flux_plot, mu_plot, gamma_plot, ncol=3, rel_widths=c(1.25,1,1))\n",
    "p = plot_grid(p, legend, ncol=1, rel_heights=c(1,0.1))\n",
    "p"
   ]
  },
  {
   "cell_type": "code",
   "execution_count": null,
   "metadata": {
    "vscode": {
     "languageId": "r"
    }
   },
   "outputs": [],
   "source": [
    "M1_results %>% filter(key==\"pan_data\") %>% arrange(desc(freq))"
   ]
  },
  {
   "cell_type": "code",
   "execution_count": null,
   "metadata": {
    "vscode": {
     "languageId": "r"
    }
   },
   "outputs": [],
   "source": [
    "M1_results %>% filter(key==\"pan_data\") %>% arrange(mu)"
   ]
  },
  {
   "cell_type": "code",
   "execution_count": null,
   "metadata": {
    "vscode": {
     "languageId": "r"
    }
   },
   "outputs": [],
   "source": [
    "cor.test(M1_results[key==\"pan_data\", log10(gamma_mle)], M1_results[key==\"pan_data\", log10(freq)])"
   ]
  },
  {
   "cell_type": "code",
   "execution_count": null,
   "metadata": {
    "vscode": {
     "languageId": "r"
    }
   },
   "outputs": [],
   "source": [
    "options(repr.plot.width = 5.5, repr.plot.height = 7)\n",
    "mod <- lm(log10(gamma_mle)~log10(freq),data=M1_results[key==\"pan_data\"])\n",
    "\n",
    "p <- ggplot(M1_results[key==\"pan_data\"], aes(x=freq, y=gamma_mle)) + \n",
    "    geom_smooth(method=lm, formula=y~x, alpha=0.2, linewidth=2) +\n",
    "    geom_point(size=3) +#, shape=21, stroke=3) +\n",
    "    ggrepel::geom_text_repel(data = M1_results[key==\"pan_data\"][order(-abs(mod$residuals))[1:5]], aes(label=gene), size=8) +\n",
    "    ggrepel::geom_text_repel(data=M1_results[key==\"pan_data\" & gene ==\"BRCA2\"], aes(label=gene), size=8, nudge_x=-0.1, nudge_y=0.1) +\n",
    "    scale_y_log10(breaks=scales::log_breaks(), labels=function(x){x/1e6}) +# scientific_expr) +\n",
    "    scale_x_log10() +\n",
    "    annotation_logticks(base=10, sides=\"bl\") +\n",
    "    labs(x=\"Mutation prevalence\", y=TeX(r'(Scaled selection coefficient $(\\times 10^{6})$)')) +\n",
    "    theme_bw() + \n",
    "    theme(axis.text = element_text(size=24), axis.title = element_text(size=28),\n",
    "        panel.border = element_blank(), axis.line = element_line(linewidth=0.4),\n",
    "        panel.grid.minor = element_blank(), panel.grid.major = element_blank())\n",
    "p"
   ]
  },
  {
   "cell_type": "markdown",
   "metadata": {
    "vscode": {
     "languageId": "r"
    }
   },
   "source": [
    "# Figure 2: GxE"
   ]
  },
  {
   "cell_type": "code",
   "execution_count": null,
   "metadata": {
    "vscode": {
     "languageId": "r"
    }
   },
   "outputs": [],
   "source": [
    "options(repr.plot.width = 7, repr.plot.height = 4.25)\n",
    "p = M1_results %>%\n",
    "    filter(method == \"variant\") %>%\n",
    "    filter(key %in% c(\"smoking_plus\",\"nonsmoking_plus\")) %>%\n",
    "    pivot_wider(\n",
    "                names_from = key,\n",
    "                id_cols = gene,\n",
    "                values_from = mu\n",
    "            ) %>% {\n",
    "    ggplot(data=.,aes(x=nonsmoking_plus,y=smoking_plus)) +\n",
    "        geom_abline(slope=1,intercept=0,lty=2) +\n",
    "        theme_classic() +\n",
    "        labs(x=TeX(r'(Mutation rate in NS-LUAD $(\\times 10^{-7})$)'),\n",
    "             y=TeX(r'(Mutation rate in ES-LUAD $(\\times 10^{-7})$)'))+\n",
    "        scale_y_continuous(labels=function(x){x/1e-7}, breaks=c(1,5,10,15,20,37,40)*1e-7, limits=c(1e-8,39e-7)) + \n",
    "        scale_x_continuous(labels=function(x){x/1e-7}, breaks=c(0.1, seq(0.5,3,0.5))*1e-7, limits=c(1e-8,NA), expand=c(0,5e-9)) +\n",
    "        scale_y_break(breaks=c(18,37)*1e-7) +\n",
    "        # scale_y_continuous(labels=function(x){x/1e-7}, breaks=c(1,5,10,15,20,35,40)*1e-7, limits=c(0,15*1e-7)) + \n",
    "        geom_text_repel(aes(label=gene), fontface=\"italic\",point.padding = 3) +\n",
    "        # geom_text(data=.%>%filter(gene==\"ALK\"), aes(label=gene,x=nonsmoking_plus,y=smoking_plus), fontface=\"italic\") +\n",
    "        # geom_text(aes(label=gene), fontface=\"italic\", nudge_y = 9e-8) + \n",
    "        geom_rect(xmin=2.3e-7,xmax=2.5e-7,ymin=17.6e-7,ymax=19e-7, fill=\"white\") +\n",
    "        geom_rect(xmin=0,xmax=3e-7,ymin=19e-7,ymax=39e-7, fill=\"white\") +\n",
    "        geom_text(data=.%>%filter(gene==\"ALK\"), aes(label=gene,x=nonsmoking_plus,y=smoking_plus), fontface=\"italic\", nudge_x=-1.5e-8) +\n",
    "        geom_point(size=4, color=\"#7373d2\") +\n",
    "        theme(axis.title = element_text(size=18),\n",
    "              axis.text = element_text(size=16),\n",
    "              axis.line.y.right = element_blank(), axis.text.y.right = element_blank(), axis.ticks.y.right = element_blank(),\n",
    "              axis.line.x.top = element_blank(), axis.text.x.top = element_blank(), axis.ticks.x.top = element_blank())\n",
    "    }\n",
    "p"
   ]
  },
  {
   "cell_type": "code",
   "execution_count": null,
   "metadata": {
    "vscode": {
     "languageId": "r"
    }
   },
   "outputs": [],
   "source": [
    "options(repr.plot.width=10, repr.plot.height=5.6)\n",
    "p = plot_GxE_results(M1_results,\"variant\",ratio_plot = F) + \n",
    "    labs(x=\"Mutated gene\",title=\"\", y=TeX(r'(Scaled selection coefficient $(\\times 10^{6})$)')) +\n",
    "    scale_y_continuous(trans = scales::sqrt_trans(), labels = function(x){x/1e6}, breaks=c(0.01,0.1,0.25,0.5,1,1.5,2,3,4)*1e6) +\n",
    "     theme(legend.position = c(0.85,0.9), axis.title.x=element_blank(), axis.text.x = element_text(color=\"black\"))\n",
    "p"
   ]
  },
  {
   "cell_type": "markdown",
   "metadata": {
    "vscode": {
     "languageId": "r"
    }
   },
   "source": [
    "## Analysis for results text"
   ]
  },
  {
   "cell_type": "code",
   "execution_count": null,
   "metadata": {
    "vscode": {
     "languageId": "r"
    }
   },
   "outputs": [],
   "source": [
    "M1_results %>% filter(key %in% c(\"smoking_plus\",\"nonsmoking_plus\")) %>%\n",
    "    pivot_wider(\n",
    "        names_from = key,\n",
    "        id_cols = gene,\n",
    "        values_from = mu\n",
    "    ) %>%\n",
    "    mutate(per_inc = round((smoking_plus-nonsmoking_plus)/nonsmoking_plus * 100,1)) %>%\n",
    "    arrange(desc(per_inc))"
   ]
  },
  {
   "cell_type": "code",
   "execution_count": null,
   "metadata": {
    "vscode": {
     "languageId": "r"
    }
   },
   "outputs": [],
   "source": [
    "M1_results %>% filter(key %in% c(\"smoking_plus\",\"nonsmoking_plus\")) %>%\n",
    "    pivot_wider(\n",
    "        names_from = key,\n",
    "        id_cols = gene,\n",
    "        values_from = gamma_mle\n",
    "    ) %>%\n",
    "    mutate(\n",
    "        ns_over_s = nonsmoking_plus/smoking_plus,\n",
    "        s_over_ns = 1/ns_over_s,\n",
    "        percent_diff = round(100*(smoking_plus - nonsmoking_plus)/nonsmoking_plus,2)) %>%\n",
    "    # arrange(desc(abs(percent_diff)))\n",
    "    # arrange(desc(nonsmoking_plus))\n",
    "    arrange(desc(ns_over_s))"
   ]
  },
  {
   "cell_type": "markdown",
   "metadata": {},
   "source": [
    "## Supplementary Figure 1"
   ]
  },
  {
   "cell_type": "code",
   "execution_count": null,
   "metadata": {
    "vscode": {
     "languageId": "r"
    }
   },
   "outputs": [],
   "source": [
    "M1_all_results = load_M1_all_results(\"variant\")"
   ]
  },
  {
   "cell_type": "code",
   "execution_count": null,
   "metadata": {
    "vscode": {
     "languageId": "r"
    }
   },
   "outputs": [],
   "source": [
    "options(repr.plot.width = 8,repr.plot.height = 8)\n",
    "\n",
    "alpha_palette = c(\"TRUE\"=0.8,\"FALSE\"=0.025)\n",
    "color_palette = c('1'='blue','2'='red')\n",
    "fill_palette = c(\"TRUE\"=\"yellow\",\"FALSE\"=\"#ffffff\")\n",
    "\n",
    "p = M1_all_results %>%\n",
    "  filter(gamma_ci_low >= 1) %>%\n",
    "  pivot_wider(names_from = key, values_from = c(gamma_mle, gamma_ci_low, gamma_ci_high), id_cols = gene) %>%\n",
    "  mutate(selection_ratio = gamma_mle_nonsmoking_plus/gamma_mle_smoking_plus,\n",
    "          signif_diff = (gamma_ci_low_nonsmoking_plus > gamma_ci_high_smoking_plus | gamma_ci_low_smoking_plus > gamma_ci_high_nonsmoking_plus)\n",
    "          ) %>% {\n",
    "              ggplot(.,aes(x=gamma_mle_nonsmoking_plus,y=gamma_mle_smoking_plus, alpha=signif_diff)) +\n",
    "              geom_errorbarh(aes(xmin=gamma_ci_low_nonsmoking_plus,xmax=gamma_ci_high_nonsmoking_plus),\n",
    "                              height=0, linewidth=0.3) + \n",
    "              geom_errorbar(aes(ymin=gamma_ci_low_smoking_plus,ymax=gamma_ci_high_smoking_plus),\n",
    "                              width=0, linewidth=0.3) + \n",
    "              geom_point(aes(fill=signif_diff),shape=21, size=2) + \n",
    "              geom_abline(slope = 1, intercept = 0, lty=2) +\n",
    "              #geom_point(aes(x=1,y=1),color=\"white\") + \n",
    "              ggrepel::geom_text_repel(data = . %>% filter(signif_diff) %>% filter(selection_ratio<1 | selection_ratio>5 | (selection_ratio>1 & gamma_mle_nonsmoking_plus>3e5)),\n",
    "                  \n",
    "                  #(abs(log10(selection_ratio)) > log10(8) | gamma_mle_smoking_plus > 1e6 | gamma_mle_nonsmoking_plus > 5e6 ), signif_diff),\n",
    "                              aes(label=gene, color = ifelse(selection_ratio>1,'1','2')),\n",
    "                              alpha=1,\n",
    "                              size=5,\n",
    "                              max.overlaps = 100) + \n",
    "              scale_alpha_manual(values=alpha_palette) +\n",
    "              scale_color_manual(values=color_palette) +\n",
    "              scale_fill_manual(values=fill_palette) +\n",
    "              scale_x_log10(labels=log_labels, limits=c(3e2,NA)) + scale_y_log10(labels=log_labels,limits=c(3e2,NA)) +\n",
    "              annotation_logticks() +\n",
    "              labs(x=\"Scaled selection coefficient in never-smoker LUAD\",y=\"Scaled selection coefficient in ever-smoker LUAD\", alpha = \"Significant Difference\") +\n",
    "              theme_classic() + \n",
    "              theme(axis.title = element_text(size=18),\n",
    "                      axis.text = element_text(size=16),\n",
    "                      legend.position=\"none\")\n",
    "          }\n",
    "\n",
    "p"
   ]
  },
  {
   "cell_type": "code",
   "execution_count": null,
   "metadata": {
    "vscode": {
     "languageId": "r"
    }
   },
   "outputs": [],
   "source": [
    "M1_all_results %>%\n",
    "    filter(key %in% c(\"smoking_plus\",\"nonsmoking_plus\")) %>%\n",
    "    pivot_wider(names_from = key, id_cols = gene, values_from = c(gamma_mle, gamma_ci_low, gamma_ci_high)) %>%\n",
    "    mutate(signif = (gamma_ci_low_smoking_plus > gamma_ci_high_nonsmoking_plus | gamma_ci_low_nonsmoking_plus > gamma_ci_high_smoking_plus),\n",
    "            ratio = gamma_mle_smoking_plus/gamma_mle_nonsmoking_plus) %>%\n",
    "    filter(signif, ratio<1, gamma_mle_smoking_plus>0, gamma_mle_nonsmoking_plus>0) %>%\n",
    "    arrange((ratio)) %>%\n",
    "    select(gene, starts_with(\"gamma_mle\"), ratio) %>%\n",
    "    head(20)"
   ]
  },
  {
   "cell_type": "markdown",
   "metadata": {},
   "source": [
    "# Figure 3: TP53 + RB1"
   ]
  },
  {
   "cell_type": "code",
   "execution_count": null,
   "metadata": {
    "vscode": {
     "languageId": "r"
    }
   },
   "outputs": [],
   "source": [
    "M1_results %>% filter(key %in% c(\"smoking_plus\",\"nonsmoking_plus\"), gene %in% c('TP53','RB1')) %>% select(gene, key, mu) "
   ]
  },
  {
   "cell_type": "code",
   "execution_count": null,
   "metadata": {
    "vscode": {
     "languageId": "r"
    }
   },
   "outputs": [],
   "source": [
    "M2_results = load_M2_results(\"variant\")\n",
    "variant_M2_smoking_interaction_df = get_interaction_df(M2_results %>% filter(key == \"smoking_plus\", method==\"variant\"))\n",
    "variant_M2_nonsmoking_interaction_df = get_interaction_df(M2_results %>% filter(key == \"nonsmoking_plus\", method==\"variant\"))"
   ]
  },
  {
   "cell_type": "code",
   "execution_count": null,
   "metadata": {
    "vscode": {
     "languageId": "r"
    }
   },
   "outputs": [],
   "source": [
    "variant_M2_smoking_interaction_df %>% filter(gene_set ==\"TP53_RB1\")\n",
    "variant_M2_nonsmoking_interaction_df %>% filter(gene_set ==\"TP53_RB1\")"
   ]
  },
  {
   "cell_type": "markdown",
   "metadata": {},
   "source": [
    "# Figure 4: GxG"
   ]
  },
  {
   "cell_type": "markdown",
   "metadata": {
    "vscode": {
     "languageId": "r"
    }
   },
   "source": [
    "## Panels A and B"
   ]
  },
  {
   "cell_type": "code",
   "execution_count": null,
   "metadata": {
    "vscode": {
     "languageId": "r"
    }
   },
   "outputs": [],
   "source": [
    "source('results_and_plotting.R')"
   ]
  },
  {
   "cell_type": "code",
   "execution_count": null,
   "metadata": {
    "vscode": {
     "languageId": "r"
    }
   },
   "outputs": [],
   "source": [
    "options(repr.plot.width = 15, repr.plot.height = 20)\n",
    "\n",
    "ceiling = 1.6e6\n",
    "p = plot_all_pairwise_epistatic_effects(variant_M2_smoking_interaction_df,\n",
    "                                    M1_results %>% filter(key==\"smoking_plus\", method==\"variant\"),\n",
    "                                    ceiling=NULL, low_gamma_label_adjustment = 1e5) + \n",
    "    scale_y_continuous(labels = scientific_expr, breaks = c(seq(0,ceiling-1,3e5),3.3e6)) + \n",
    "    ggbreak::scale_y_break(c(ceiling,3e6), scales=0.1) + \n",
    "    theme(axis.title.x = element_text(hjust=0.35),\n",
    "            axis.text.x.top = element_blank(),\n",
    "            axis.line.x.top = element_blank(),\n",
    "            axis.ticks.x.top = element_blank())\n",
    "p"
   ]
  },
  {
   "cell_type": "code",
   "execution_count": null,
   "metadata": {
    "vscode": {
     "languageId": "r"
    }
   },
   "outputs": [],
   "source": [
    "genes_to_exclude <- setdiff(subset_genes, c(\"KRAS\",variant_M2_nonsmoking_interaction_df %>% filter(signif, ratio>1) %>% pull(mutated_gene) %>% unique()))"
   ]
  },
  {
   "cell_type": "code",
   "execution_count": null,
   "metadata": {
    "vscode": {
     "languageId": "r"
    }
   },
   "outputs": [],
   "source": [
    "options(repr.plot.width = 11, repr.plot.height = 12)\n",
    "\n",
    "ceiling = 3.8e6\n",
    "p = plot_all_pairwise_epistatic_effects(variant_M2_nonsmoking_interaction_df %>% filter(!mutated_gene %in% genes_to_exclude),\n",
    "                                    M1_results %>% filter(key==\"nonsmoking_plus\", method==\"variant\", !gene %in% genes_to_exclude),\n",
    "                                    ceiling=ceiling) + \n",
    "    scale_y_continuous(labels = scientific_expr, breaks = seq(0,ceiling-1,6e5))\n",
    "p = p + theme(legend.position=\"none\")\n",
    "p"
   ]
  },
  {
   "cell_type": "markdown",
   "metadata": {},
   "source": [
    "## Analysis for results text"
   ]
  },
  {
   "cell_type": "code",
   "execution_count": null,
   "metadata": {
    "vscode": {
     "languageId": "r"
    }
   },
   "outputs": [],
   "source": [
    "ranked_smoking_genes = M1_results %>% filter(key==\"smoking_plus\") %>% arrange(desc(gamma_mle)) %>% pull(gene)\n",
    "ranked_nonsmoking_genes = M1_results %>% filter(key==\"nonsmoking_plus\") %>% arrange(desc(gamma_mle)) %>% pull(gene)\n",
    "\n",
    "oncogenes = c(\"KRAS\", \"BRAF\", \"EGFR\", \"CTNNB1\", \"PIK3CA\", \"MET\", \"GNAS\", \"ALK\")\n",
    "tsgs = c(\"TP53\", \"KEAP1\", \"ATM\", \"STK11\", \"BRCA2\", \"SETD2\", \"RBM10\", \"APC\", \"MGA\", \"RB1\", \"SMAD4\")\n",
    "chromatin_remodelers = c(\"SMARCA4\", \"ARID1A\")"
   ]
  },
  {
   "cell_type": "markdown",
   "metadata": {},
   "source": [
    "Epistatic patterns of strongly selected genes in ES-LUAD"
   ]
  },
  {
   "cell_type": "code",
   "execution_count": null,
   "metadata": {
    "vscode": {
     "languageId": "r"
    }
   },
   "outputs": [],
   "source": [
    "variant_M2_smoking_interaction_df %>% filter(signif, epistatic_gt != \"WT\") %>%\n",
    "    filter(mutated_gene %in% ranked_smoking_genes[1:9], ratio > 1) %>%\n",
    "    arrange(ratio)\n",
    "    # filter(epistatic_gt %in% c(\"TP53\",\"KRAS\"))"
   ]
  },
  {
   "cell_type": "markdown",
   "metadata": {},
   "source": [
    "Epistatic patterns of chromatin remodeling genes and moderately strongly selected tumor suppressor genes"
   ]
  },
  {
   "cell_type": "code",
   "execution_count": null,
   "metadata": {
    "vscode": {
     "languageId": "r"
    }
   },
   "outputs": [],
   "source": [
    "variant_M2_smoking_interaction_df %>% filter(signif, epistatic_gt != \"WT\") %>%\n",
    "    filter(mutated_gene %in% c(\"BRCA2\", \"SETD2\", \"RBM10\", \"APC\", \"MGA\", \"RB1\"),\n",
    "            epistatic_gt %in% c(\"TP53\",\"EGFR\")) %>%\n",
    "    count(mutated_gene) %>% arrange(n)"
   ]
  },
  {
   "cell_type": "code",
   "execution_count": null,
   "metadata": {
    "vscode": {
     "languageId": "r"
    }
   },
   "outputs": [],
   "source": [
    "variant_M2_smoking_interaction_df %>% filter(signif, epistatic_gt != \"WT\") %>%\n",
    "    filter(mutated_gene %in% c(\"BRCA2\", \"SETD2\", \"RBM10\", \"APC\", \"MGA\", \"RB1\")) %>%\n",
    "    #filter(mutated_gene %in% chromatin_remodelers) %>%\n",
    "    arrange(ratio) %>%\n",
    "    count(epistatic_gt) %>%\n",
    "    arrange(desc(n))"
   ]
  },
  {
   "cell_type": "markdown",
   "metadata": {},
   "source": [
    "Epistatic patterns of oncogenes"
   ]
  },
  {
   "cell_type": "code",
   "execution_count": null,
   "metadata": {
    "vscode": {
     "languageId": "r"
    }
   },
   "outputs": [],
   "source": [
    "variant_M2_smoking_interaction_df %>% filter(signif, epistatic_gt != \"WT\") %>%\n",
    "    filter(mutated_gene %in% oncogenes) %>% \n",
    "        group_by(ratio>1) %>% \n",
    "        count(epistatic_gt) %>%\n",
    "        arrange(desc(n))\n",
    "        # group_by(ratio<1) %>% \n",
    "        # count(epistatic_gt) %>%\n",
    "        # arrange(desc(n))\n",
    "        # filter(ratio>1) %>%\n",
    "        # count(mutated_gene) %>% \n",
    "        # arrange(desc(n))"
   ]
  },
  {
   "cell_type": "code",
   "execution_count": null,
   "metadata": {
    "vscode": {
     "languageId": "r"
    }
   },
   "outputs": [],
   "source": [
    "variant_M2_smoking_interaction_df %>% filter(signif, epistatic_gt != \"WT\") %>%\n",
    "    filter(mutated_gene %in% oncogenes) %>% \n",
    "    arrange(mutated_gene) %>% \n",
    "    group_by(mutated_gene) %>%\n",
    "    filter((all(ratio<1)|all(ratio>1)))"
   ]
  },
  {
   "cell_type": "markdown",
   "metadata": {},
   "source": [
    "Median effect of synergistic epistasis"
   ]
  },
  {
   "cell_type": "code",
   "execution_count": null,
   "metadata": {
    "vscode": {
     "languageId": "r"
    }
   },
   "outputs": [],
   "source": [
    "print(\"Median effect of synergistic epistasis in ES-LUAD\")\n",
    "variant_M2_smoking_interaction_df %>% filter(signif, epistatic_gt != \"WT\", ratio>1) %>%\n",
    "    pull(ratio) %>% summary\n",
    "\n",
    "print(\"Median effect of synergistic epistasis in NS-LUAD\")\n",
    "variant_M2_nonsmoking_interaction_df %>% filter(signif, epistatic_gt != \"WT\", ratio>1) %>%\n",
    "    pull(ratio) %>% summary"
   ]
  },
  {
   "cell_type": "markdown",
   "metadata": {},
   "source": [
    "Correlation of strength of synergistic epistasis with ..."
   ]
  },
  {
   "cell_type": "markdown",
   "metadata": {},
   "source": [
    "1) Strength of selection on prior mutation"
   ]
  },
  {
   "cell_type": "code",
   "execution_count": null,
   "metadata": {
    "vscode": {
     "languageId": "r"
    }
   },
   "outputs": [],
   "source": [
    "options(repr.plot.width = 6, repr.plot.height = 6)\n",
    "\n",
    "tmp = variant_M2_smoking_interaction_df %>% filter(epistatic_gt != \"WT\", signif, ratio>1) %>%\n",
    "    select(gene_set, epistatic_gt, ratio) %>% rename(mutated_gene = epistatic_gt) %>% mutate(epistatic_gt = \"WT\") %>%\n",
    "    left_join(variant_M2_smoking_interaction_df %>% select(gene_set, epistatic_gt, mutated_gene, gamma_mle), \n",
    "                by=c(\"gene_set\",\"epistatic_gt\",\"mutated_gene\"))\n",
    "\n",
    "tmp %>%\n",
    "    ggplot(aes(x=log(gamma_mle),y=ratio)) + \n",
    "        geom_point() +\n",
    "        geom_smooth(method=\"lm\", formula = y~log(x), alpha=0.5) + \n",
    "        labs(x=\"log(Selection coefficient) for prior mutation\",y=\"Epistatic ratio\") +\n",
    "        theme_bw()\n",
    "\n",
    "ratio_model = lm(ratio~log(gamma_mle), data=tmp)\n",
    "summary(ratio_model)"
   ]
  },
  {
   "cell_type": "code",
   "execution_count": null,
   "metadata": {
    "vscode": {
     "languageId": "r"
    }
   },
   "outputs": [],
   "source": [
    "cor.test(tmp$gamma_mle,tmp$ratio)"
   ]
  },
  {
   "cell_type": "markdown",
   "metadata": {},
   "source": [
    "2) Strength of selection on secondary mutation"
   ]
  },
  {
   "cell_type": "code",
   "execution_count": null,
   "metadata": {
    "vscode": {
     "languageId": "r"
    }
   },
   "outputs": [],
   "source": [
    "cor.test(\n",
    "    variant_M2_smoking_interaction_df %>% filter(epistatic_gt == \"WT\", signif, ratio>1) %>% filter(ratio<20) %>% pull(gamma_mle),\n",
    "    variant_M2_smoking_interaction_df %>% filter(epistatic_gt == \"WT\", signif, ratio>1) %>% filter(ratio<20) %>% pull(ratio)\n",
    ")"
   ]
  },
  {
   "cell_type": "code",
   "execution_count": null,
   "metadata": {
    "vscode": {
     "languageId": "r"
    }
   },
   "outputs": [],
   "source": [
    "options(repr.plot.width=6, repr.plot.height=6)\n",
    "variant_M2_smoking_interaction_df %>% filter(epistatic_gt == \"WT\", signif, ratio>1) %>% \n",
    "    filter(ratio<20) %>%\n",
    "    ggplot(aes(x=gamma_mle, y=ratio)) +\n",
    "        geom_point() + theme_bw() + geom_smooth(method=\"lm\", formula = y~x) + \n",
    "        geom_hline(yintercept = 3, linetype=\"dashed\") + geom_hline(yintercept = 8, linetype=\"dashed\") +\n",
    "        labs(x=\"Baseline selection coefficient for affected mutation\", y=\"Epistatic ratio\") +\n",
    "        theme_bw()\n",
    "        \n",
    "ratio_model = lm(ratio~gamma_mle, \n",
    "                data=variant_M2_smoking_interaction_df %>% filter(epistatic_gt == \"WT\", signif, ratio>1) %>% filter(ratio<20))\n",
    "summary(ratio_model)"
   ]
  },
  {
   "cell_type": "markdown",
   "metadata": {},
   "source": [
    "Antagonistic sign epistasis"
   ]
  },
  {
   "cell_type": "code",
   "execution_count": null,
   "metadata": {
    "vscode": {
     "languageId": "r"
    }
   },
   "outputs": [],
   "source": [
    "variant_M2_smoking_interaction_df %>% filter(epistatic_gt != \"WT\", gamma_ci_high<1, signif) %>% arrange(gene_set)\n",
    "# variant_M2_smoking_interaction_df %>% filter(epistatic_gt != \"WT\", gamma_mle<1)"
   ]
  },
  {
   "cell_type": "markdown",
   "metadata": {},
   "source": [
    "Antagonistic magnitude epistasis"
   ]
  },
  {
   "cell_type": "code",
   "execution_count": null,
   "metadata": {
    "vscode": {
     "languageId": "r"
    }
   },
   "outputs": [],
   "source": [
    "variant_M2_smoking_interaction_df %>% filter(epistatic_gt != \"WT\", gamma_mle>1, ratio<1)"
   ]
  },
  {
   "cell_type": "markdown",
   "metadata": {},
   "source": [
    "Synergistic and antagonistic epistasis in NS-LUAD"
   ]
  },
  {
   "cell_type": "code",
   "execution_count": null,
   "metadata": {
    "vscode": {
     "languageId": "r"
    }
   },
   "outputs": [],
   "source": [
    "tmp = variant_M2_smoking_interaction_df %>% full_join(variant_M2_nonsmoking_interaction_df, by=c(\"tested_combo\", \"epistatic_gt\"), suffix = c(\"_smoking\", \"_nonsmoking\")) %>%\n",
    "  filter(epistatic_gt != \"WT\") %>%\n",
    "  select(tested_combo, ratio_smoking, ratio_nonsmoking, signif_smoking, signif_nonsmoking) %>%\n",
    "  mutate(syn_smoking = ratio_smoking > 1, syn_nonsmoking = ratio_nonsmoking > 1) %>%\n",
    "  select(-c(ratio_smoking, ratio_nonsmoking)) \n",
    "\n",
    "dcast(setDT(tmp), syn_smoking + signif_smoking ~ syn_nonsmoking + signif_nonsmoking)\n",
    "dcast(setDT(tmp), syn_nonsmoking + signif_nonsmoking ~ syn_smoking + signif_smoking)"
   ]
  },
  {
   "cell_type": "code",
   "execution_count": null,
   "metadata": {
    "vscode": {
     "languageId": "r"
    }
   },
   "outputs": [],
   "source": [
    "dcast(setDT(tmp %>% filter(signif_nonsmoking, signif_smoking)), syn_nonsmoking ~ syn_smoking)"
   ]
  },
  {
   "cell_type": "code",
   "execution_count": null,
   "metadata": {
    "vscode": {
     "languageId": "r"
    }
   },
   "outputs": [],
   "source": [
    "tmp %>% filter(syn_smoking, signif_smoking, !syn_nonsmoking, signif_nonsmoking) %>% mutate(gene = str_split_i(tested_combo,\"_\",2)) %>% count(gene) %>% arrange(desc(n))"
   ]
  },
  {
   "cell_type": "code",
   "execution_count": null,
   "metadata": {
    "vscode": {
     "languageId": "r"
    }
   },
   "outputs": [],
   "source": [
    "tmp %>% filter(syn_smoking, signif_smoking, !syn_nonsmoking, signif_nonsmoking)# %>% mutate(gene = str_split_i(tested_combo,\"_\",2)) %>% count(gene) %>% arrange(desc(n))"
   ]
  },
  {
   "cell_type": "code",
   "execution_count": null,
   "metadata": {
    "vscode": {
     "languageId": "r"
    }
   },
   "outputs": [],
   "source": [
    "variant_M2_nonsmoking_interaction_df %>% filter(epistatic_gt != \"WT\", ratio>1, signif) %>% arrange(ratio) # %>% pull(ratio) %>% summary"
   ]
  },
  {
   "cell_type": "markdown",
   "metadata": {},
   "source": [
    "Asymmetric epistasis"
   ]
  },
  {
   "cell_type": "code",
   "execution_count": null,
   "metadata": {
    "vscode": {
     "languageId": "r"
    }
   },
   "outputs": [],
   "source": [
    "variant_M2_smoking_interaction_df %>% filter(epistatic_gt != \"WT\", signif) %>%\n",
    "  group_by(gene_set) %>% filter(n() == 2) %>%\n",
    "  filter(!all(gamma_mle < 1))"
   ]
  },
  {
   "cell_type": "code",
   "execution_count": null,
   "metadata": {
    "vscode": {
     "languageId": "r"
    }
   },
   "outputs": [],
   "source": [
    "variant_M2_smoking_interaction_df %>% filter(gene_set == \"KEAP1_STK11\")"
   ]
  },
  {
   "cell_type": "code",
   "execution_count": null,
   "metadata": {
    "vscode": {
     "languageId": "r"
    }
   },
   "outputs": [],
   "source": [
    "variant_M2_smoking_interaction_df %>% filter(gene_set == \"KRAS_KEAP1\")"
   ]
  },
  {
   "cell_type": "code",
   "execution_count": null,
   "metadata": {
    "vscode": {
     "languageId": "r"
    }
   },
   "outputs": [],
   "source": [
    "mod_plot_gge_interaction = function(mg, gt, smoking_df, nonsmoking_df){\n",
    "    scale_factor<-1\n",
    "\n",
    "    smoking_df %>% bind_rows(nonsmoking_df, .id=\"key\") %>% filter(tested_combo == paste0(gt,\"_\",mg)) %>%\n",
    "    mutate(key = ifelse(key==1, \"Ever-smoker\",\"Never-smoker\")) %>%\n",
    "    mutate(y_label = ifelse(epistatic_gt == \"WT\", \"WT\", \"*TP53*\"),\n",
    "           y_label = ifelse(key == \"Ever-smoker\", paste(\"ES\",\"|\",y_label), paste(\"NS\",\"|\",y_label)),\n",
    "           y_label = factor(y_label, levels = c(\"NS | *TP53*\",\"NS | WT\",\"ES | *TP53*\",\"ES | WT\"))) %>% {\n",
    "        ggplot(.,aes(x=gamma_mle, y=y_label)) + \n",
    "            geom_errorbarh(aes(xmin=gamma_ci_low,xmax=gamma_ci_high),\n",
    "                            height=0,linewidth=0.3) + \n",
    "            geom_point(aes(fill=key, size=to_count),\n",
    "                            color=\"black\",\n",
    "                            shape=21) + \n",
    "            geom_hline(yintercept = 2.5, lty=2,col=\"grey\") +\n",
    "            scale_size_continuous(range=c(3,10)) +\n",
    "            scale_fill_manual(values = c(\"Ever-smoker\"=\"#e39c9b\",\"Never-smoker\"=\"#99c9e4\")) +\n",
    "            expand_limits(y = 0) +\n",
    "            scale_x_continuous(labels=function(x)x*scale_factor) +\n",
    "            labs(x=\"Scaled selection coefficient for *EGFR* mutations\", y=paste0('Smoking history and genotype'), size=\"Sample count\") +\n",
    "            guides(size=guide_legend(nrow=1), fill=\"none\") +#guide_legend(override.aes = list(size=6))) +\n",
    "            theme_classic() +\n",
    "            theme(\n",
    "                axis.text.y = ggtext::element_markdown(size=20), \n",
    "                axis.text.x = element_text(size=20), \n",
    "                axis.title = ggtext::element_markdown(size = 20),\n",
    "                legend.text = element_text(size=18),\n",
    "                legend.title = element_text(size=20, hjust=0.5),\n",
    "                legend.position = c(0.6,0.8))\n",
    "    }\n",
    "}\n",
    "\n",
    "options(repr.plot.width=8.3, repr.plot.height = 6)\n",
    "mg = \"EGFR\"; gt = \"TP53\"\n",
    "p=mod_plot_gge_interaction(mg, gt, variant_M2_smoking_interaction_df, variant_M2_nonsmoking_interaction_df) + \n",
    "    scale_x_continuous(breaks=c(0,4,10,16,24,32)*1e5, labels=scientific_expr)\n",
    "p"
   ]
  },
  {
   "cell_type": "markdown",
   "metadata": {},
   "source": [
    "## Supplementary Figure 2: GxGxE"
   ]
  },
  {
   "cell_type": "code",
   "execution_count": null,
   "metadata": {
    "vscode": {
     "languageId": "r"
    }
   },
   "outputs": [],
   "source": [
    "options(repr.plot.width = 20, repr.plot.height = 6)\n",
    "\n",
    "env1_df = variant_M2_smoking_interaction_df\n",
    "env2_df = variant_M2_nonsmoking_interaction_df\n",
    "\n",
    "mg = \"RB1\"; gt = \"KRAS\"\n",
    "a = plot_gge_interaction(mg, gt, env1_df, env2_df)\n",
    "mg = \"RB1\"; gt = \"EGFR\"\n",
    "b = plot_gge_interaction(mg, gt, env1_df, env2_df) + theme(axis.title.y = element_blank())\n",
    "mg = \"MET\"; gt = \"TP53\"\n",
    "c = plot_gge_interaction(mg, gt, env1_df, env2_df) + theme(axis.title.y = element_blank())\n",
    "mg = \"STK11\"; gt = \"KEAP1\"\n",
    "d = plot_gge_interaction(mg, gt, env1_df, env2_df) + theme(axis.title.y = element_blank())# + scale_y_continuous(breaks=seq(0,25,5)*1e5,labels=function(y)y*1e-5)\n",
    "\n",
    "p = plot_grid(a,b,c,d,nrow=1,rel_widths = c(1.08,1,1,1),label_size = 25)\n",
    "p"
   ]
  },
  {
   "cell_type": "markdown",
   "metadata": {},
   "source": [
    "# Figure 5: GxGxG for KRAS, KEAP1, and STK11"
   ]
  },
  {
   "cell_type": "code",
   "execution_count": null,
   "metadata": {
    "vscode": {
     "languageId": "r"
    }
   },
   "outputs": [],
   "source": [
    "variant_M3_data = load_M3_results(\"variant\")\n",
    "\n",
    "variant_M3_smoking_interaction_df = get_interaction_df(variant_M3_data %>% filter(key == \"smoking_plus\"))\n",
    "variant_M3_nonsmoking_interaction_df = get_interaction_df(variant_M3_data %>% filter(key == \"nonsmoking_plus\"))"
   ]
  },
  {
   "cell_type": "code",
   "execution_count": null,
   "metadata": {
    "vscode": {
     "languageId": "r"
    }
   },
   "outputs": [],
   "source": [
    "smoking_plotting_df = get_multi_gene_effects_2(variant_M2_smoking_interaction_df %>% pull(tested_combo) %>% unique, variant_M3_smoking_interaction_df)\n",
    "nonsmoking_plotting_df = get_multi_gene_effects_2(variant_M2_nonsmoking_interaction_df %>% pull(tested_combo) %>% unique, variant_M3_nonsmoking_interaction_df)"
   ]
  },
  {
   "cell_type": "code",
   "execution_count": null,
   "metadata": {
    "vscode": {
     "languageId": "r"
    }
   },
   "outputs": [],
   "source": [
    "variant_M3_smoking_interaction_df %>% filter(gene_set == \"KRAS_KEAP1_STK11\") %>% distinct(epistatic_gt,mutated_gene, .keep_all = T)"
   ]
  },
  {
   "cell_type": "code",
   "execution_count": null,
   "metadata": {
    "vscode": {
     "languageId": "r"
    }
   },
   "outputs": [],
   "source": [
    "M1_results %>% filter(key==\"smoking_plus\",gene %in% c(\"KRAS\",\"KEAP1\",\"STK11\")) %>% select(gene, mu) %>% arrange(desc(mu))"
   ]
  },
  {
   "cell_type": "code",
   "execution_count": null,
   "metadata": {
    "vscode": {
     "languageId": "r"
    }
   },
   "outputs": [],
   "source": [
    "variant_M3_smoking_interaction_df %>% filter(gene_set == \"KRAS_KEAP1_STK11\", mutated_gene == \"KRAS\") %>% distinct(epistatic_gt, .keep_all = T)"
   ]
  },
  {
   "cell_type": "code",
   "execution_count": null,
   "metadata": {
    "vscode": {
     "languageId": "r"
    }
   },
   "outputs": [],
   "source": [
    "variant_M3_smoking_interaction_df %>% filter(gene_set == \"KRAS_KEAP1_STK11\", mutated_gene == \"STK11\") %>% distinct(epistatic_gt, .keep_all = T)"
   ]
  },
  {
   "cell_type": "markdown",
   "metadata": {},
   "source": [
    "# Figure 6: GxGxG"
   ]
  },
  {
   "cell_type": "code",
   "execution_count": null,
   "metadata": {
    "vscode": {
     "languageId": "r"
    }
   },
   "outputs": [],
   "source": [
    "smoking_plotting_df %>% filter(extra_effect_strict) %>% select(gene_set, mutated_gene) %>% distinct() %>%\n",
    "    left_join(variant_M3_smoking_interaction_df, by = c(\"gene_set\", \"mutated_gene\")) %>% \n",
    "    filter(epistatic_gt != \"WT\") %>% \n",
    "    arrange(gene_set) %>%\n",
    "    select(gene_set, mutated_gene, epistatic_gt, starts_with(\"gamma\"), ratio, signif)"
   ]
  },
  {
   "cell_type": "code",
   "execution_count": null,
   "metadata": {
    "vscode": {
     "languageId": "r"
    }
   },
   "outputs": [],
   "source": [
    "nonsmoking_plotting_df %>% filter(extra_effect_strict) %>% select(gene_set, mutated_gene) %>% distinct() %>%\n",
    "    left_join(variant_M3_nonsmoking_interaction_df, by = c(\"gene_set\", \"mutated_gene\")) %>% \n",
    "    filter(epistatic_gt != \"WT\") %>% \n",
    "    arrange(gene_set) %>%\n",
    "    select(gene_set, mutated_gene, epistatic_gt, starts_with(\"gamma\"), ratio, signif) %>%\n",
    "    group_by(gene_set, mutated_gene)"
   ]
  },
  {
   "cell_type": "markdown",
   "metadata": {
    "vscode": {
     "languageId": "r"
    }
   },
   "source": [
    "Higher order epistasis"
   ]
  },
  {
   "cell_type": "code",
   "execution_count": null,
   "metadata": {
    "vscode": {
     "languageId": "r"
    }
   },
   "outputs": [],
   "source": [
    "options(repr.plot.width=10, repr.plot.height=10)\n",
    "# only need to look at synergistic mutations\n",
    "# - defining sub-additive epistasis as synergistic effect of\n",
    "#   two mutations on a third that is less than the product of\n",
    "#   the individual synergistic effects of the two mutations\n",
    "exp_and_obs_ratios_smoking = \n",
    "    variant_M3_smoking_interaction_df %>% \n",
    "    filter(epistatic_gt != \"WT\", ratio > 1) %>% \n",
    "    filter(case_when(!str_detect(epistatic_gt,'_') ~ signif,\n",
    "                     TRUE ~ TRUE)) %>%\n",
    "    group_by(gene_set, mutated_gene) %>%\n",
    "    filter(n()==3) %>%\n",
    "    mutate(num_mutations = str_detect(epistatic_gt,'_')+1) %>%\n",
    "    select(gene_set, num_mutations, mutated_gene, ratio, signif) %>%\n",
    "    group_by(gene_set, mutated_gene, num_mutations) %>%\n",
    "    summarize(combined_effect=prod(ratio), .groups=\"drop_last\") %>%\n",
    "    spread(key = num_mutations, value = combined_effect) %>%\n",
    "    mutate(obs_over_exp_ratio = `2`/`1`) %>% \n",
    "    arrange(obs_over_exp_ratio)\n",
    "\n",
    "exp_and_obs_ratios_nonsmoking = \n",
    "    variant_M3_nonsmoking_interaction_df %>% \n",
    "    filter(epistatic_gt != \"WT\", ratio > 1) %>% \n",
    "    filter(case_when(!str_detect(epistatic_gt,'_') ~ signif,\n",
    "                     TRUE ~ TRUE)) %>%\n",
    "    group_by(gene_set, mutated_gene) %>%\n",
    "    filter(n()==3) %>%\n",
    "    mutate(num_mutations = str_detect(epistatic_gt,'_')+1) %>%\n",
    "    select(gene_set, num_mutations, mutated_gene, ratio, signif) %>%\n",
    "    group_by(gene_set, mutated_gene, num_mutations) %>%\n",
    "    summarize(combined_effect=prod(ratio), .groups=\"drop_last\") %>%\n",
    "    spread(key = num_mutations, value = combined_effect) %>%\n",
    "    mutate(obs_over_exp_ratio = `2`/`1`) %>% \n",
    "    arrange(obs_over_exp_ratio)\n",
    "\n",
    "a = exp_and_obs_ratios_smoking %>%\n",
    "    select(gene_set, mutated_gene, obs_over_exp_ratio) %>%\n",
    "    ggplot(aes(x=reorder(paste0(mutated_gene,' [',gene_set,']'), -obs_over_exp_ratio), y=obs_over_exp_ratio)) +\n",
    "        geom_bar(stat='identity') + \n",
    "        geom_hline(yintercept = 1, lty=2, color=\"red\") +\n",
    "        theme_bw() +\n",
    "        labs(x=\"Gene triads\",y=\"Observed epistatic ratio / Expected epistatic ratio from individual synergistic effects\", title=\"ES-LUAD\") +\n",
    "        theme(axis.title.x=element_blank(), axis.text.x = element_blank(), axis.ticks.x = element_blank())\n",
    "b = exp_and_obs_ratios_nonsmoking %>%\n",
    "    select(gene_set, mutated_gene, obs_over_exp_ratio) %>%\n",
    "    ggplot(aes(x=reorder(paste0(mutated_gene,' [',gene_set,']'), -obs_over_exp_ratio), y=obs_over_exp_ratio)) +\n",
    "        geom_bar(stat='identity') + \n",
    "        geom_hline(yintercept = 1, lty=2, color=\"red\") +\n",
    "        theme_bw() +\n",
    "        labs(x=\"Gene triads\",y=\"Observed epistatic ratio / Expected epistatic ratio from individual synergistic effects\", title=\"NS-LUAD\") +\n",
    "        theme(axis.title.x=element_blank(), axis.text.x = element_blank(), axis.ticks.x = element_blank())\n",
    "plot_grid(a,b,nrow=1, rel_widths=c(1,.2))"
   ]
  },
  {
   "cell_type": "code",
   "execution_count": null,
   "metadata": {
    "vscode": {
     "languageId": "r"
    }
   },
   "outputs": [],
   "source": [
    "options(repr.plot.width = 22, repr.plot.height = 5.1)\n",
    "# smoking_interactions_to_plot =c(\"KRAS [TP53]\", \"STK11 [KRAS]\", \"SMARCA4 [KRAS]\", \"BRCA2 [KEAP1]\",\n",
    "#                                 \"BRCA2 [TP53]\", \"SETD2 [TP53]\", \"APC [STK11]\", \"APC [KRAS]\",\n",
    "#                                 \"RB1 [KEAP1]\", \"EGFR [TP53]\")\n",
    "shape_palette = c(\"Wild-type\"=21, \"Single-mutant\"=22, \"Double-mutant\"=23)\n",
    "fill_palette = c(\"TP53_KRAS_EGFR_EGFR\"=\"springgreen3\", \"KRAS_SMARCA4_APC_APC\"=\"plum2\", \"TP53_KRAS_ARID1A_ARID1A\"=\"mediumpurple2\")\n",
    "\n",
    "tmp_df = \n",
    "    smoking_plotting_df %>% filter(extra_effect_strict) %>%\n",
    "    bind_rows(variant_M3_smoking_interaction_df %>% filter(epistatic_gt==\"WT\") %>% mutate(pairwise_combo = combo_name)) %>%\n",
    "    #filter(pairwise_combo %in% smoking_interactions_to_plot) %>% \n",
    "    group_by(gene_set, pairwise_combo) %>% filter(n()==3) %>% ungroup() %>%\n",
    "    mutate(group = ifelse(epistatic_gt==\"WT\",\"Wild-type\", ifelse(str_detect(epistatic_gt, \"_\"), \"Double-mutant\",\"Single-mutant\")),\n",
    "            nudge_dist = ifelse(group==\"Double-mutant\",0.1,ifelse(group==\"Wild-type\",-0.1,0)), \n",
    "            label_nudge_dist = case_when(\n",
    "                nudge_dist<0 ~ nudge_dist-0.1,\n",
    "                nudge_dist==0 ~ 0.2,\n",
    "                nudge_dist>0 ~ nudge_dist+0.3#+0.27\n",
    "            )) %>%\n",
    "    select(gene_set, pairwise_combo, epistatic_gt, mutated_gene, starts_with(\"gamma\"), from_count, to_count, extra_effect_strict, group, ends_with(\"nudge_dist\")) %>%\n",
    "    #mutate(label = ifelse(epistatic_gt==\"WT\",'\\u00D8',gsub('_','+\\n',epistatic_gt))) %>%\n",
    "    rowwise() %>% mutate(label = ifelse(epistatic_gt==\"WT\",'',paste(sapply(strsplit(epistatic_gt, \"_\")[[1]], function(x) substr(x, 1, 1)), collapse = '+'))) %>% ungroup() %>%\n",
    "    group_by(gene_set, pairwise_combo) %>% mutate(max_gamma = max(gamma_mle)) %>% ungroup() %>%\n",
    "    mutate(order = ifelse(group==\"Double-mutant\", ifelse(gamma_mle == max_gamma, gamma_mle, -max_gamma), -Inf)) %>%\n",
    "    group_by(gene_set, pairwise_combo) %>% mutate(order = max(order), max_gamma = NULL) %>% ungroup() %>% \n",
    "    rowwise() %>% mutate(other_genes = gsub('(__|_)',',<br>',trimws(gsub(mutated_gene, '',gene_set), \"right\", '_'))) %>% ungroup() %>% \n",
    "    arrange(mutated_gene, other_genes, group) %>% mutate_cond(mutated_gene == \"SMARCA4\" & gene_set == \"KRAS_KEAP1_SMARCA4\" & group != \"Wild-type\", label = c('KE+KR','KR'), label_nudge_dist = label_nudge_dist + c(0.15,0.075))\n",
    "\n",
    "p = tmp_df %>%\n",
    "    ggplot(aes(x=\n",
    "    reorder(paste0('**',mutated_gene,'**','<br>-------<br>',stringr::str_wrap(other_genes,10)),order), y=gamma_mle)) +\n",
    "        geom_errorbar(aes(ymin = gamma_ci_low, ymax = gamma_ci_high), position=position_nudge(tmp_df$nudge_dist), width=0) +\n",
    "        geom_point(aes(shape=group, fill=paste0(gene_set,'_',mutated_gene)),position=position_nudge(tmp_df$nudge_dist),size=5, color=\"black\") +\n",
    "        geom_text(aes(label=stringr::str_wrap(label,6)), nudge_x=tmp_df$label_nudge_dist, size=6,fontface=\"italic\") +\n",
    "        # scale_fill_brewer(palette = \"YlGnBu\",direction=1) +\n",
    "        scale_fill_manual(values=fill_palette, na.value = \"darkgray\", guide=\"none\") +\n",
    "        scale_shape_manual(values=shape_palette, name=\"Somatic genotype\") +\n",
    "        ggbreak::scale_y_break(c(2.1e6, 3e6)) + \n",
    "        scale_y_continuous(breaks=c(seq(0,2e6,5e5),3e6), labels=scientific_expr) +\n",
    "        labs(x=\"Mutations within neighboring genotypes\",y=\"Scaled selection coefficient\") +\n",
    "        theme_classic() +\n",
    "        theme(axis.title = element_text(size = 22),\n",
    "                axis.text = element_text(size = 18),\n",
    "                axis.text.x = ggtext::element_markdown(size=18,face=\"italic\"),\n",
    "                axis.text.y.right = element_blank(),\n",
    "                axis.line.y.right = element_blank(),\n",
    "                axis.ticks.y.right = element_blank(),\n",
    "                legend.text = element_text(size = 16),\n",
    "                legend.title = element_text(size = 18),\n",
    "                legend.position.inside = c(0.7, 0.7))\n",
    "                #panel.grid.major.x = element_line(color=\"gray\",linewidth=0.75, linetype=3))\n",
    "p = p + theme(legend.position = \"none\")\n",
    "p"
   ]
  },
  {
   "cell_type": "code",
   "execution_count": null,
   "metadata": {
    "vscode": {
     "languageId": "r"
    }
   },
   "outputs": [],
   "source": [
    "options(repr.plot.width = 22, repr.plot.height = 5.1)\n",
    "\n",
    "shape_palette = c(\"Wild-type\"=21, \"Single-mutant\"=22, \"Double-mutant\"=23)\n",
    "fill_palette = c(\"TP53_KRAS_EGFR_EGFR\"=\"springgreen3\", \"KRAS_SMARCA4_APC_APC\"=\"plum2\", \"TP53_KRAS_ARID1A_ARID1A\"=\"mediumpurple2\")\n",
    "\n",
    "tmp_df = \n",
    "    smoking_plotting_df %>% filter(extra_effect_strict) %>%\n",
    "    bind_rows(variant_M3_smoking_interaction_df %>% filter(epistatic_gt==\"WT\") %>% mutate(pairwise_combo = combo_name)) %>%\n",
    "    #filter(pairwise_combo %in% smoking_interactions_to_plot) %>% \n",
    "    group_by(gene_set, pairwise_combo) %>% filter(n()==3) %>% ungroup() %>%\n",
    "    mutate(group = ifelse(epistatic_gt==\"WT\",\"Wild-type\", ifelse(str_detect(epistatic_gt, \"_\"), \"Double-mutant\",\"Single-mutant\")),\n",
    "            nudge_dist = ifelse(group==\"Double-mutant\",0.1,ifelse(group==\"Wild-type\",-0.1,0)), \n",
    "            label_nudge_dist = case_when(\n",
    "                nudge_dist<0 ~ nudge_dist-0.1,\n",
    "                nudge_dist==0 ~ 0.2,\n",
    "                nudge_dist>0 ~ nudge_dist+0.3#+0.27\n",
    "            )) %>%\n",
    "    select(gene_set, pairwise_combo, epistatic_gt, mutated_gene, starts_with(\"gamma\"), from_count, to_count, extra_effect_strict, group, ends_with(\"nudge_dist\")) %>%\n",
    "    #mutate(label = ifelse(epistatic_gt==\"WT\",'\\u00D8',gsub('_','+\\n',epistatic_gt))) %>%\n",
    "    rowwise() %>% mutate(label = ifelse(epistatic_gt==\"WT\",'',paste(sapply(strsplit(epistatic_gt, \"_\")[[1]], function(x) substr(x, 1, 1)), collapse = '+'))) %>% ungroup() %>%\n",
    "    group_by(gene_set, pairwise_combo) %>% mutate(max_gamma = max(gamma_mle)) %>% ungroup() %>%\n",
    "    mutate(order = ifelse(group==\"Double-mutant\", ifelse(gamma_mle == max_gamma, gamma_mle, -max_gamma), -Inf)) %>%\n",
    "    group_by(gene_set, pairwise_combo) %>% mutate(order = max(order), max_gamma = NULL) %>% ungroup() %>% \n",
    "    rowwise() %>% mutate(other_genes = gsub('(__|_)',',<br>',trimws(gsub(mutated_gene, '',gene_set), \"right\", '_'))) %>% ungroup() %>% \n",
    "    arrange(mutated_gene, other_genes, group) %>% mutate_cond(mutated_gene == \"SMARCA4\" & gene_set == \"KRAS_KEAP1_SMARCA4\" & group != \"Wild-type\", label = c('KE+KR','KR'), label_nudge_dist = label_nudge_dist + c(0.15,0.075))\n",
    "\n",
    "p = tmp_df %>%\n",
    "    ggplot(aes(x=\n",
    "    reorder(paste0('**',mutated_gene,'**','<br>-------<br>',stringr::str_wrap(other_genes,10)),order), y=gamma_mle)) +\n",
    "        geom_errorbar(aes(ymin = gamma_ci_low, ymax = gamma_ci_high), position=position_nudge(tmp_df$nudge_dist), width=0) +\n",
    "        geom_point(aes(shape=group, fill=paste0(gene_set,'_',mutated_gene)),position=position_nudge(tmp_df$nudge_dist),size=5, color=\"black\") +\n",
    "        geom_text(aes(label=stringr::str_wrap(label,6)), nudge_x=tmp_df$label_nudge_dist, size=6,fontface=\"italic\") +\n",
    "        # scale_fill_brewer(palette = \"YlGnBu\",direction=1) +\n",
    "        scale_fill_manual(values=fill_palette, na.value = \"darkgray\", guide=\"none\") +\n",
    "        scale_shape_manual(values=shape_palette, name=\"Somatic genotype\") +\n",
    "        # ggbreak::scale_y_break(c(2.1e6, 3e6)) + \n",
    "        # scale_y_continuous(breaks=c(seq(0,2e6,5e5),3e6), labels=scientific_expr) +\n",
    "        scale_y_continuous(trans=scales::sqrt_trans(), labels=scientific_expr, breaks=c(0,0.1,0.5,1,2,3,4)*1e6) +\n",
    "        labs(x=\"Mutations within neighboring genotypes\",y=\"Scaled selection coefficient\") +\n",
    "        theme_classic() +\n",
    "        theme(axis.title = element_text(size = 22),\n",
    "                axis.text = element_text(size = 18),\n",
    "                axis.text.x = ggtext::element_markdown(size=18,face=\"italic\"),\n",
    "                axis.text.y.right = element_blank(),\n",
    "                axis.line.y.right = element_blank(),\n",
    "                axis.ticks.y.right = element_blank(),\n",
    "                legend.text = element_text(size = 16),\n",
    "                legend.title = element_text(size = 18),\n",
    "                legend.position.inside = c(0.7, 0.7))\n",
    "                #panel.grid.major.x = element_line(color=\"gray\",linewidth=0.75, linetype=3))\n",
    "p = p + theme(legend.position = \"none\")\n",
    "p"
   ]
  },
  {
   "cell_type": "code",
   "execution_count": null,
   "metadata": {
    "vscode": {
     "languageId": "r"
    }
   },
   "outputs": [],
   "source": [
    "options(repr.plot.width = 5, repr.plot.height = 5.6)\n",
    "shape_palette = c(\"Wild-type\"=21, \"Single-mutant\"=22, \"Double-mutant\"=23)\n",
    "fill_palette = c(\"EGFR_PIK3CA_ARID1A_ARID1A\"=\"mediumpurple2\")\n",
    "\n",
    "tmp_df = \n",
    "    nonsmoking_plotting_df %>% filter(extra_effect_strict) %>%\n",
    "    bind_rows(variant_M3_nonsmoking_interaction_df %>% filter(epistatic_gt==\"WT\") %>% mutate(pairwise_combo = combo_name)) %>%\n",
    "    group_by(gene_set, pairwise_combo) %>% filter(n()==3) %>% ungroup() %>%\n",
    "    mutate(group = ifelse(epistatic_gt==\"WT\",\"Wild-type\", ifelse(str_detect(epistatic_gt, \"_\"), \"Double-mutant\",\"Single-mutant\")),\n",
    "            nudge_dist = ifelse(group==\"Double-mutant\",0.15,ifelse(group==\"Wild-type\",-0.15,0)), \n",
    "            label_nudge_dist = case_when(\n",
    "                nudge_dist<0 ~ nudge_dist-0.1,\n",
    "                nudge_dist==0 ~ 0.2,\n",
    "                nudge_dist>0 ~ nudge_dist+0.33#+0.27\n",
    "            )) %>%\n",
    "    select(gene_set, pairwise_combo, epistatic_gt, mutated_gene, starts_with(\"gamma\"), from_count, to_count, extra_effect_strict, group, ends_with(\"nudge_dist\")) %>%\n",
    "    #mutate(label = ifelse(epistatic_gt==\"WT\",'\\u00D8',gsub('_','+\\n',epistatic_gt))) %>%\n",
    "    rowwise() %>% mutate(label = ifelse(epistatic_gt==\"WT\",'',paste(sapply(strsplit(epistatic_gt, \"_\")[[1]], function(x) substr(x, 1, 1)), collapse = '+'))) %>% ungroup() %>%\n",
    "    rowwise() %>% mutate(other_genes = gsub('(__|_)',',<br>',trimws(gsub(mutated_gene, '',gene_set), \"right\", '_'))) %>% ungroup()\n",
    "\n",
    "p = tmp_df %>%\n",
    "    ggplot(aes(x=paste0('**',mutated_gene,'**','<br>-------<br>',stringr::str_wrap(other_genes,12)), y=gamma_mle)) +\n",
    "        geom_errorbar(aes(ymin = gamma_ci_low, ymax = gamma_ci_high), position=position_nudge(tmp_df$nudge_dist), width=0) +\n",
    "        geom_point(aes(shape=group, fill=paste0(gene_set,'_',mutated_gene)),position=position_nudge(tmp_df$nudge_dist),size=5, color=\"black\") +\n",
    "        geom_text(aes(label=stringr::str_wrap(label,6)), nudge_x=tmp_df$label_nudge_dist, size=6, fontface=\"italic\") +\n",
    "        scale_fill_manual(values=fill_palette, na.value = \"darkgray\", guide=\"none\") +\n",
    "        scale_shape_manual(values=shape_palette, name=\"Somatic genotype\") +\n",
    "        # ggbreak::scale_y_break(c(7e6, 1.9e7)) + \n",
    "        # scale_y_continuous(breaks=c(seq(0,7e6,2e6),1.9e7), labels=scientific_expr) +\n",
    "        scale_y_continuous(trans=scales::sqrt_trans(), labels=scientific_expr , breaks=c(0,1,3,6,9,15,21,27)*1e6) +\n",
    "        labs(x=stringr::str_wrap(\"Mutations within neighboring genotypes\",25),y=\"Scaled selection coefficient\") +\n",
    "        theme_classic() +\n",
    "        theme(axis.title = element_text(size = 22),\n",
    "                axis.text.y = element_text(size = 18),\n",
    "                axis.text.x = ggtext::element_markdown(size=18, face=\"italic\"),\n",
    "                axis.text.y.right = element_blank(),\n",
    "                axis.line.y.right = element_blank(),\n",
    "                axis.ticks.y.right = element_blank(),\n",
    "                legend.position = \"none\")\n",
    "                #panel.grid.major.x = element_line(color=\"gray\",linewidth=0.75, linetype=3))\n",
    "p"
   ]
  },
  {
   "cell_type": "code",
   "execution_count": null,
   "metadata": {
    "vscode": {
     "languageId": "r"
    }
   },
   "outputs": [],
   "source": [
    "options(repr.plot.width = 4, repr.plot.height = 6)\n",
    "variant_M3_nonsmoking_interaction_df %>% filter(gene_set == \"EGFR_PIK3CA_ARID1A\", mutated_gene == \"ARID1A\") %>% distinct(epistatic_gt, .keep_all = T) %>%\n",
    "ggplot(aes(x=epistatic_gt, y=gamma_mle)) + \n",
    "    geom_point() +\n",
    "    geom_errorbar(aes(ymin=gamma_ci_low, ymax=gamma_ci_high), width=0) +\n",
    "    theme_bw()"
   ]
  },
  {
   "cell_type": "code",
   "execution_count": null,
   "metadata": {
    "vscode": {
     "languageId": "r"
    }
   },
   "outputs": [],
   "source": [
    "create_ho_v_p_plotting_df <- function(df){\n",
    "    df %>%\n",
    "        filter(epistatic_gt != \"WT\") %>%\n",
    "        mutate(num_mutations = str_detect(epistatic_gt,'_')+1,\n",
    "                ratio_low = ratio/(gamma_mle/gamma_ci_low), ratio_high = ratio/(gamma_mle/gamma_ci_high)) %>%\n",
    "        select(gene_set, num_mutations, mutated_gene, starts_with(\"ratio\"), signif) %>%\n",
    "        group_by(gene_set, mutated_gene, num_mutations) %>%\n",
    "        summarize(combined_effect=max(prod(ratio),1e-1), \n",
    "                    combined_effect_low=max(prod(ratio_low),1e-1),\n",
    "                    combined_effect_high=max(prod(ratio_high),1e-1),\n",
    "                    num_signif=sum(signif),\n",
    "                    .groups=\"drop_last\") %>%\n",
    "        mutate(combined_effect_low = ifelse(num_mutations==1,NA,combined_effect_low),\n",
    "            combined_effect_high = ifelse(num_mutations==1,NA,combined_effect_high)) %>%\n",
    "        pivot_wider(id_cols = c(gene_set, mutated_gene), names_from = num_mutations, values_from = c(combined_effect,combined_effect_low,combined_effect_high, num_signif)) %>%\n",
    "        rename(expected = \"combined_effect_1\", observed = \"combined_effect_2\", num_pairwise_signif = \"num_signif_1\", num_higher_order_signif = \"num_signif_2\") %>%\n",
    "        # rename(c(\"combined_effect_1\"=\"expected\", \"combined_effect_2\"=\"observed\", \"num_signif_1\"=\"num_pairwise_signif\", \"num_signif_2\"=\"num_higher_order_signif\")) %>%\n",
    "        mutate(combined_effect_low_1 = NULL, combined_effect_high_1 = NULL,\n",
    "                higher_order_signif = num_higher_order_signif==1, \n",
    "                num_higher_order_signif = NULL,\n",
    "                obs_over_exp_ratio = observed/expected, \n",
    "                which_signif = case_when(.default = \"None\",\n",
    "                                        num_pairwise_signif==2 & higher_order_signif ~ \"All\",\n",
    "                                        num_pairwise_signif==2 & !higher_order_signif ~ \"Both pairwise only\", \n",
    "                                        num_pairwise_signif==1 & !higher_order_signif ~ \"Single pairwise\",\n",
    "                                        num_pairwise_signif==1 & higher_order_signif ~ \"Single pairwise & higher-order\",\n",
    "                                        num_pairwise_signif==0 & higher_order_signif ~ \"Higher-order only\"),\n",
    "                other_genes = str_remove_all(gene_set,mutated_gene)) %>% \n",
    "        mutate(other_genes = gsub('(__|_)',' + ',trimws(other_genes,which=\"both\",whitespace='_')),\n",
    "                other_genes_short = sapply(str_split(other_genes, ' \\\\+ '), function(genes) {\n",
    "                    paste(substr(genes, 1, 2), collapse = '+')\n",
    "                })) %>%\n",
    "        ungroup()\n",
    "}\n",
    "\n",
    "ho_v_p_s <- create_ho_v_p_plotting_df(variant_M3_smoking_interaction_df)\n",
    "ho_v_p_n <- create_ho_v_p_plotting_df(variant_M3_nonsmoking_interaction_df)"
   ]
  },
  {
   "cell_type": "code",
   "execution_count": null,
   "metadata": {
    "vscode": {
     "languageId": "r"
    }
   },
   "outputs": [],
   "source": [
    "color_palette <- c(\"All\"=\"red\",\"Both pairwise only\"=\"steelblue1\",\"Higher-order only\"=\"limegreen\", \"Single pairwise & higher-order\"=\"darkgoldenrod1\")\n",
    "alpha_palette <- c(\"All\"=1,\"Both pairwise only\"=0.75,\"Higher-order only\"=0.75, \"Single pairwise & higher-order\"=0.5)"
   ]
  },
  {
   "cell_type": "code",
   "execution_count": null,
   "metadata": {
    "vscode": {
     "languageId": "r"
    }
   },
   "outputs": [],
   "source": [
    "options(repr.plot.width = 18, repr.plot.height=6)\n",
    "to_plot <- ho_v_p_s %>% filter(num_pairwise_signif==2 | (num_pairwise_signif==0 & higher_order_signif))\n",
    "#to_plot <- to_plot %>% filter(expected<1e3)\n",
    "to_plot_special_attention <- \n",
    "    to_plot %>% \n",
    "        filter(which_signif %in% c(\"All\",\"Higher-order only\") & \n",
    "                ((obs_over_exp_ratio>1 & (combined_effect_low_2 > expected | combined_effect_low_2/expected>0.5)) | \n",
    "                (obs_over_exp_ratio<1 & combined_effect_high_2 < expected)))\n",
    "to_plot_normal <- to_plot %>% filter(!(which_signif %in% c(\"All\",\"Higher-order only\") & ((obs_over_exp_ratio>1 & combined_effect_low_2 > expected) | (obs_over_exp_ratio<1 & combined_effect_high_2 < expected))))\n",
    "\n",
    "p = ggplot(to_plot, aes(x=expected,y=observed)) + \n",
    "    geom_point(aes(color=which_signif, alpha=which_signif), size=3) +\n",
    "    geom_errorbar(data=to_plot_normal %>% filter(which_signif %in% c(\"All\",\"Higher-order only\")),\n",
    "                    aes(ymin=combined_effect_low_2, ymax=combined_effect_high_2), width=0, alpha=0.5, color=\"gray\") +\n",
    "    geom_errorbar(data=to_plot_special_attention,\n",
    "                    aes(ymin=combined_effect_low_2, ymax=combined_effect_high_2), width=0, alpha=0.5, color=\"black\") +\n",
    "    geom_abline(intercept = 0, slope = 1, linetype = 2, color='red') +\n",
    "    ggbreak::scale_x_break(c(1.5e2,1.5e3)) +\n",
    "    scale_x_log10(breaks=c(1e0,3e0,5e0,1e1,3e1,5e1,1e2,2e3), limits=c(5e-1,3e3)) + # labels=scales::trans_format(\"log10\", scales::math_format(10^.x)), \n",
    "    scale_y_log10(breaks=c(1e0,3e0,5e0,1e1,3e1,5e1,1e2,2e2), limits=c(5e-1,NA)) + # labels=scales::trans_format(\"log10\", scales::math_format(10^.x))\n",
    "    # coord_cartesian(xlim=c(5e-1,NA), ylim=c(5e-1,NA)) +\n",
    "    ggrepel::geom_text_repel(data=to_plot_special_attention %>% filter(!(obs_over_exp_ratio<1 & mutated_gene %in% c(\"MGA\",\"APC\",\"RB1\"))) %>% arrange(desc(which_signif),abs(log10(obs_over_exp_ratio))) %>% distinct(mutated_gene,.keep_all = T),\n",
    "                                aes(label=paste0(mutated_gene,'\\n[',other_genes_short,']')), \n",
    "                                size=5,\n",
    "                                # min.segment.length = 0.25,\n",
    "                                force = 50,\n",
    "                                # max.overlaps = 5,\n",
    "                                color=\"grey30\") +\n",
    "    geom_text(data=to_plot_special_attention %>% filter(mutated_gene == \"RB1\"),\n",
    "                aes(label=paste0(mutated_gene,'\\n[',other_genes_short,']')),\n",
    "                nudge_x=-1e-1, \n",
    "                size=5, color=\"grey30\") +\n",
    "    geom_rect(xmin=3, xmax=3.5, ymin=-1, ymax=1.64, fill=\"white\") +\n",
    "    geom_rect(xmin=3, xmax=3.33, ymin=1.6, ymax=1.9, fill=\"white\") +\n",
    "    scale_color_manual(values=color_palette) +\n",
    "    scale_alpha_manual(values=alpha_palette) +\n",
    "    guides(color=guide_legend(override.aes=list(size=4))) +\n",
    "    labs(x=\"Expected epistatic ratio of selection for double-mutant given additive pairwise effects\", y=\"Inferred epistatic ratio of selection\\nfor double-mutant\", color=\"Significant epistasis\", alpha=\"Significant epistasis\") +\n",
    "    theme_classic() + \n",
    "    theme(axis.text=element_text(size=18), axis.title = element_text(size=22), axis.title.x = element_text(hjust=0.2),\n",
    "            axis.text.x.top = element_blank(), axis.ticks.x.top = element_blank(), axis.line.x.top = element_blank(),\n",
    "            legend.title=element_text(size=18), legend.text=element_text(size=16))\n",
    "\n",
    "p"
   ]
  },
  {
   "cell_type": "markdown",
   "metadata": {},
   "source": [
    "As additive pairwise effects get larger, the likelihood that the higher order epistasis is sub-additive increases."
   ]
  }
 ],
 "metadata": {
  "kernelspec": {
   "display_name": "R",
   "language": "R",
   "name": "ir"
  },
  "language_info": {
   "codemirror_mode": "r",
   "file_extension": ".r",
   "mimetype": "text/x-r-source",
   "name": "R",
   "pygments_lexer": "r",
   "version": "4.3.0"
  }
 },
 "nbformat": 4,
 "nbformat_minor": 2
}
