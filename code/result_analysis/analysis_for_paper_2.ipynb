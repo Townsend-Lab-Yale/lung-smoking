{
 "cells": [
  {
   "cell_type": "code",
   "execution_count": null,
   "metadata": {
    "vscode": {
     "languageId": "r"
    }
   },
   "outputs": [],
   "source": [
    "source('results_and_plotting.R')\n",
    "library(RColorBrewer)\n",
    "library(latex2exp)\n",
    "\n",
    "location_figures = \"../../figures/\""
   ]
  },
  {
   "cell_type": "code",
   "execution_count": 2,
   "metadata": {
    "vscode": {
     "languageId": "r"
    }
   },
   "outputs": [],
   "source": [
    "M1_results = load_M1_results(\"variant\")"
   ]
  },
  {
   "cell_type": "markdown",
   "metadata": {},
   "source": [
    "# Figure 1: G"
   ]
  },
  {
   "cell_type": "code",
   "execution_count": null,
   "metadata": {
    "vscode": {
     "languageId": "r"
    }
   },
   "outputs": [],
   "source": [
    "key = \"pan_data\"\n",
    "method = \"variant\"\n",
    "\n",
    "options(repr.plot.width = 12, repr.plot.height = 5)\n",
    "\n",
    "gamma_plot = plot_M1_results(M1_results, key, method, \"selection\", show_genes = FALSE)\n",
    "legend = get_legend(gamma_plot + theme(legend.title = element_blank(), legend.text = element_text(size=14)))#theme(legend.title = element_text(size=16), legend.text = element_text(size=14)))\n",
    "gamma_plot = gamma_plot + theme(legend.position='none') + \n",
    "                scale_y_continuous(labels=function(x){x/1e6}, limits=c(0,NA), breaks=c(0,0.25,0.5,1,1.5,2)*1e6) + \n",
    "                ylab(TeX(r'(Scaled selection coefficient $(\\times 10^{6})$)'))\n",
    "flux_plot = plot_M1_results(M1_results, key, method, \"fixation\",show_freq_legend = FALSE) + \n",
    "                theme(axis.ticks.y=element_line(), axis.title.y = element_blank()) + \n",
    "                scale_y_continuous(limits = c(0, NA)) +\n",
    "                ylab(TeX(r'(Fixation rate $(1^{!}$)'))\n",
    "mu_plot = plot_M1_results(M1_results, key, method, \"mutation\",show_freq_legend = FALSE, show_genes = FALSE) + \n",
    "            scale_y_continuous(labels=function(x){x/1e-6}, limits=c(0,NA), breaks=seq(0,2e-6,0.3e-6)) + \n",
    "            ylab(TeX(r'(Mutation rate $(\\times 10^{-6})$)'))\n",
    "\n",
    "\n",
    "p = plot_grid(flux_plot, mu_plot, gamma_plot, ncol=3, rel_widths=c(1.25,1,1))\n",
    "p = plot_grid(p, legend, ncol=1, rel_heights=c(1,0.1))\n",
    "p"
   ]
  },
  {
   "cell_type": "code",
   "execution_count": 11,
   "metadata": {
    "vscode": {
     "languageId": "r"
    }
   },
   "outputs": [],
   "source": [
    "ggsave(paste0(location_figures, 'G.png'),p, width = 12, height=5)"
   ]
  },
  {
   "cell_type": "markdown",
   "metadata": {
    "vscode": {
     "languageId": "r"
    }
   },
   "source": [
    "## Analysis for results text"
   ]
  },
  {
   "cell_type": "code",
   "execution_count": null,
   "metadata": {
    "vscode": {
     "languageId": "r"
    }
   },
   "outputs": [],
   "source": [
    "M1_results %>% filter(key==\"pan_data\") %>% arrange(mu)"
   ]
  },
  {
   "cell_type": "code",
   "execution_count": null,
   "metadata": {
    "vscode": {
     "languageId": "r"
    }
   },
   "outputs": [],
   "source": [
    "M1_results %>% filter(key==\"pan_data\") %>% arrange(freq)"
   ]
  },
  {
   "cell_type": "markdown",
   "metadata": {
    "vscode": {
     "languageId": "r"
    }
   },
   "source": [
    "# Figure 2: GxE"
   ]
  },
  {
   "cell_type": "code",
   "execution_count": null,
   "metadata": {
    "vscode": {
     "languageId": "r"
    }
   },
   "outputs": [],
   "source": [
    "a = M1_results %>%\n",
    "    filter(method == \"variant\") %>%\n",
    "    filter(key %in% c(\"smoking\",\"nonsmoking\")) %>%\n",
    "    pivot_wider(\n",
    "                names_from = key,\n",
    "                id_cols = gene,\n",
    "                values_from = mu\n",
    "            ) %>%\n",
    "    ggplot(aes(x=nonsmoking,y=smoking)) +\n",
    "        geom_point(,size=4, color=\"#7373d2\") +\n",
    "        geom_abline(slope=1,intercept=0,lty=2) +\n",
    "        geom_text_repel(aes(label=gene), fontface=\"italic\") +\n",
    "        theme_classic() +\n",
    "        labs(x=TeX(r'(Oncogenic mutation rate in NS-LUAD $(\\times 10^{-7})$)'),\n",
    "             y=TeX(r'(Oncogenic mutation rate in ES-LUAD $(\\times 10^{-7})$)'))+\n",
    "        scale_y_continuous(labels=function(x){x/1e-7}, breaks=c(1,5,10,15,25,35)*1e-7) + \n",
    "        scale_x_continuous(labels=function(x){x/1e-7}, breaks=seq(1,3,0.5)*1e-7, limits=c(1e-7,NA)) +\n",
    "        theme(axis.title = element_text(size=18),\n",
    "              axis.text = element_text(size=16))\n",
    "\n",
    "b = plot_GxE_results(M1_results,\"variant\",ratio_plot = F) + \n",
    "    labs(x=\"Mutated gene\",title=\"\", y=TeX(r'(Scaled selection coefficient $(\\times 10^{6})$)')) +\n",
    "    theme(legend.position=c(0.5,0.9)) +\n",
    "    scale_y_continuous(labels = function(x){x/1e6}, breaks=seq(0,2,0.3)*1e6)\n",
    "\n",
    "\n",
    "options(repr.plot.width=17, repr.plot.height=6)\n",
    "p = plot_grid(a,b,ncol=2, rel_widths = c(7,10), label_size = 20)\n",
    "p"
   ]
  },
  {
   "cell_type": "code",
   "execution_count": 13,
   "metadata": {
    "vscode": {
     "languageId": "r"
    }
   },
   "outputs": [],
   "source": [
    "ggsave(paste0(location_figures, 'GxE.png'),p, width = 17, height=6)"
   ]
  },
  {
   "cell_type": "markdown",
   "metadata": {
    "vscode": {
     "languageId": "r"
    }
   },
   "source": [
    "## Analysis for results text"
   ]
  },
  {
   "cell_type": "code",
   "execution_count": null,
   "metadata": {
    "vscode": {
     "languageId": "r"
    }
   },
   "outputs": [],
   "source": [
    "M1_results %>% filter(key %in% c(\"smoking_plus\",\"nonsmoking_plus\")) %>%\n",
    "    pivot_wider(\n",
    "        names_from = key,\n",
    "        id_cols = gene,\n",
    "        values_from = mu\n",
    "    ) %>%\n",
    "    mutate(ratio = round(smoking_plus/nonsmoking_plus,2)) %>%\n",
    "    arrange(desc(ratio))"
   ]
  },
  {
   "cell_type": "code",
   "execution_count": null,
   "metadata": {
    "vscode": {
     "languageId": "r"
    }
   },
   "outputs": [],
   "source": [
    "M1_results %>% filter(key %in% c(\"smoking_plus\",\"nonsmoking_plus\")) %>%\n",
    "    pivot_wider(\n",
    "        names_from = key,\n",
    "        id_cols = gene,\n",
    "        values_from = gamma_mle\n",
    "    ) %>%\n",
    "    mutate(\n",
    "        ns_over_s = nonsmoking_plus/smoking_plus,\n",
    "        s_over_ns = 1/ns_over_s,\n",
    "        percent_diff = round(100*(smoking_plus - nonsmoking_plus)/nonsmoking_plus,2)) %>%\n",
    "    #arrange(abs(percent_diff))\n",
    "    arrange(desc(nonsmoking_plus))"
   ]
  },
  {
   "cell_type": "markdown",
   "metadata": {},
   "source": [
    "## Supplementary Figure 1"
   ]
  },
  {
   "cell_type": "code",
   "execution_count": 14,
   "metadata": {
    "vscode": {
     "languageId": "r"
    }
   },
   "outputs": [],
   "source": [
    "M1_all_results = load_M1_all_results(\"variant\")"
   ]
  },
  {
   "cell_type": "code",
   "execution_count": null,
   "metadata": {
    "vscode": {
     "languageId": "r"
    }
   },
   "outputs": [],
   "source": [
    "options(repr.plot.width = 8,repr.plot.height = 8)\n",
    "\n",
    "alpha_palette = c(\"TRUE\"=0.8,\"FALSE\"=0.025)\n",
    "color_palette = c('1'='blue','2'='red')\n",
    "fill_palette = c(\"TRUE\"=\"yellow\",\"FALSE\"=\"#ffffff\")\n",
    "\n",
    "p = M1_all_results %>%\n",
    "  filter(gamma_ci_low >= 1) %>%\n",
    "  pivot_wider(names_from = key, values_from = c(gamma_mle, gamma_ci_low, gamma_ci_high), id_cols = gene) %>%\n",
    "  mutate(selection_ratio = gamma_mle_nonsmoking_plus/gamma_mle_smoking_plus,\n",
    "          signif_diff = (gamma_ci_low_nonsmoking_plus > gamma_ci_high_smoking_plus | gamma_ci_low_smoking_plus > gamma_ci_high_nonsmoking_plus)\n",
    "          ) %>% {\n",
    "              ggplot(.,aes(x=gamma_mle_nonsmoking_plus,y=gamma_mle_smoking_plus, alpha=signif_diff)) +\n",
    "              geom_errorbarh(aes(xmin=gamma_ci_low_nonsmoking_plus,xmax=gamma_ci_high_nonsmoking_plus),\n",
    "                              height=0, linewidth=0.3) + \n",
    "              geom_errorbar(aes(ymin=gamma_ci_low_smoking_plus,ymax=gamma_ci_high_smoking_plus),\n",
    "                              width=0, linewidth=0.3) + \n",
    "              geom_point(aes(fill=signif_diff),shape=21, size=2) + \n",
    "              geom_abline(slope = 1, intercept = 0, lty=2) +\n",
    "              #geom_point(aes(x=1,y=1),color=\"white\") + \n",
    "              ggrepel::geom_text_repel(data = . %>% filter(signif_diff) %>% filter(selection_ratio<1 | selection_ratio>5 | (selection_ratio>1 & gamma_mle_nonsmoking_plus>3e5)),\n",
    "                  \n",
    "                  #(abs(log10(selection_ratio)) > log10(8) | gamma_mle_smoking_plus > 1e6 | gamma_mle_nonsmoking_plus > 5e6 ), signif_diff),\n",
    "                              aes(label=gene, color = ifelse(selection_ratio>1,'1','2')),\n",
    "                              alpha=1,\n",
    "                              size=5,\n",
    "                              max.overlaps = 100) + \n",
    "              scale_alpha_manual(values=alpha_palette) +\n",
    "              scale_color_manual(values=color_palette) +\n",
    "              scale_fill_manual(values=fill_palette) +\n",
    "              scale_x_log10(labels=log_labels, limits=c(3e2,2e6)) + scale_y_log10(labels=log_labels,limits=c(3e2,2e6)) +\n",
    "              annotation_logticks() +\n",
    "              labs(x=\"Scaled selection coefficient in never-smoker LUAD\",y=\"Scaled selection coefficient in ever-smoker LUAD\", alpha = \"Significant Difference\") +\n",
    "              theme_classic() + \n",
    "              theme(axis.title = element_text(size=18),\n",
    "                      axis.text = element_text(size=16),\n",
    "                      legend.position=\"none\")\n",
    "          }\n",
    "\n",
    "p"
   ]
  },
  {
   "cell_type": "code",
   "execution_count": null,
   "metadata": {
    "vscode": {
     "languageId": "r"
    }
   },
   "outputs": [],
   "source": [
    "ggsave(paste0(location_figures, 'GxE_scatter.png'),p, width = 8, height=8)"
   ]
  },
  {
   "cell_type": "code",
   "execution_count": null,
   "metadata": {
    "vscode": {
     "languageId": "r"
    }
   },
   "outputs": [],
   "source": [
    "M1_all_results %>%\n",
    "    filter(key %in% c(\"smoking_plus\",\"nonsmoking_plus\")) %>%\n",
    "    pivot_wider(names_from = key, id_cols = gene, values_from = c(gamma_mle, gamma_ci_low, gamma_ci_high)) %>%\n",
    "    mutate(signif = (gamma_ci_low_smoking_plus > gamma_ci_high_nonsmoking_plus | gamma_ci_low_nonsmoking_plus > gamma_ci_high_smoking_plus),\n",
    "            ratio = gamma_mle_smoking_plus/gamma_mle_nonsmoking_plus) %>%\n",
    "    filter(signif, ratio<1, gamma_mle_smoking_plus>0, gamma_mle_nonsmoking_plus>0) %>%\n",
    "    arrange((ratio))"
   ]
  },
  {
   "cell_type": "markdown",
   "metadata": {},
   "source": [
    "# Figure 3: TP53 + KRAS"
   ]
  },
  {
   "cell_type": "code",
   "execution_count": null,
   "metadata": {
    "vscode": {
     "languageId": "r"
    }
   },
   "outputs": [],
   "source": [
    "M1_results %>% filter(key %in% c(\"smoking_plus\",\"nonsmoking_plus\"), gene %in% c('TP53','KRAS')) %>% select(gene, key, mu) "
   ]
  },
  {
   "cell_type": "code",
   "execution_count": null,
   "metadata": {
    "vscode": {
     "languageId": "r"
    }
   },
   "outputs": [],
   "source": [
    "M2_results = load_M2_results(\"variant\")"
   ]
  },
  {
   "cell_type": "code",
   "execution_count": 20,
   "metadata": {
    "vscode": {
     "languageId": "r"
    }
   },
   "outputs": [],
   "source": [
    "variant_M2_smoking_interaction_df = get_interaction_df(M2_results %>% filter(key == \"smoking_plus\", method==\"variant\"))\n",
    "variant_M2_nonsmoking_interaction_df = get_interaction_df(M2_results %>% filter(key == \"nonsmoking_plus\", method==\"variant\"))"
   ]
  },
  {
   "cell_type": "code",
   "execution_count": null,
   "metadata": {
    "vscode": {
     "languageId": "r"
    }
   },
   "outputs": [],
   "source": [
    "variant_M2_smoking_interaction_df %>% filter(gene_set ==\"TP53_KRAS\") %>% arrange(desc(gamma_mle))"
   ]
  },
  {
   "cell_type": "code",
   "execution_count": null,
   "metadata": {
    "vscode": {
     "languageId": "r"
    }
   },
   "outputs": [],
   "source": [
    "variant_M2_nonsmoking_interaction_df %>% filter(gene_set ==\"TP53_KRAS\")"
   ]
  },
  {
   "cell_type": "markdown",
   "metadata": {},
   "source": [
    "# Figure 4: GxG"
   ]
  },
  {
   "cell_type": "markdown",
   "metadata": {},
   "source": [
    "### Options for Panel A"
   ]
  },
  {
   "cell_type": "code",
   "execution_count": null,
   "metadata": {
    "vscode": {
     "languageId": "r"
    }
   },
   "outputs": [],
   "source": [
    "variant_M2_nonsmoking_interaction_df %>% filter(signif, epistatic_gt != \"WT\") %>%\n",
    "    arrange(mutated_gene) %>%\n",
    "    group_by(mutated_gene) %>%\n",
    "    filter(!(all(ratio<1)|all(ratio>1))) %>%\n",
    "    bind_rows(variant_M2_smoking_interaction_df %>% \n",
    "                filter(signif, epistatic_gt != \"WT\") %>%\n",
    "                arrange(mutated_gene) %>%\n",
    "                group_by(mutated_gene) %>%\n",
    "                filter(!(all(ratio<1)|all(ratio>1)))) %>%\n",
    "    group_by(epistatic_gt, mutated_gene) %>%\n",
    "    filter(n() == 2) %>%\n",
    "    select(key, epistatic_gt, mutated_gene, starts_with('gamma'), ratio, signif) %>%\n",
    "    arrange(mutated_gene)"
   ]
  },
  {
   "cell_type": "markdown",
   "metadata": {
    "vscode": {
     "languageId": "r"
    }
   },
   "source": [
    "## Panel A"
   ]
  },
  {
   "cell_type": "code",
   "execution_count": null,
   "metadata": {
    "vscode": {
     "languageId": "r"
    }
   },
   "outputs": [],
   "source": [
    "options(repr.plot.width = 15, repr.plot.height = 2)\n",
    "\n",
    "mg = \"EGFR\"\n",
    "epistatic_gts = c(\"KRAS\",\"TP53\")\n",
    "cohort = \"smoking_plus\"\n",
    "\n",
    "alpha_palette = c(\"TRUE\" = 1, \"FALSE\" = 0.1)\n",
    "fill_palette = c(\"WT\" = \"purple\", \"Antagonism\" = brewer.pal(n = 3, name = \"RdYlBu\")[1], \"Synergism\"=brewer.pal(n = 3, name = \"RdYlBu\")[3])\n",
    "\n",
    "if(cohort == \"smoking_plus\"){\n",
    "   tmp = variant_M2_smoking_interaction_df %>%\n",
    "        filter(mutated_gene == mg, epistatic_gt %in% c(epistatic_gts,\"WT\"))\n",
    "} else if(cohort == \"nonsmoking_plus\"){\n",
    "   tmp = variant_M2_nonsmoking_interaction_df %>%\n",
    "        filter(mutated_gene == mg, epistatic_gt %in% c(epistatic_gts,\"WT\"))\n",
    "}\n",
    "\n",
    "    \n",
    "tmp = tmp %>%\n",
    "    filter(epistatic_gt != \"WT\") %>%\n",
    "    bind_rows(M1_results %>% \n",
    "        filter(gene == mg) %>%\n",
    "        filter(key == cohort) %>%\n",
    "        mutate(mutated_gene=gene, epistatic_gt=\"WT\", signif=TRUE) %>% \n",
    "        left_join(tmp %>% filter(epistatic_gt == \"WT\") %>% group_by(mutated_gene) %>% summarize(to_count=mean(to_count)), by = \"mutated_gene\")) %>% \n",
    "    mutate(context = ifelse(epistatic_gt == \"WT\",\"WT\",\"Non-WT\\n([gene] mutated)\"),\n",
    "            color = ifelse(epistatic_gt==\"WT\",\"WT\",ifelse(ratio>1,\"Synergism\",\"Antagonism\"))) %>%\n",
    "    mutate(nudge_dist = case_when(epistatic_gt == \"KRAS\" ~ -0.1, epistatic_gt == \"TP53\" ~ 0.1, TRUE ~ 0)) %>%\n",
    "    mutate(epistatic_gt = ifelse(epistatic_gt==\"WT\",\"Wild-type\",paste0(epistatic_gt,\"-mutant\")))\n",
    "\n",
    "p = tmp %>%\n",
    "    ggplot(aes(x=mutated_gene, y=gamma_mle, size=to_count, alpha=signif)) + \n",
    "            geom_errorbar(aes(ymin=gamma_ci_low,ymax=gamma_ci_high),\n",
    "                        width=0.1,\n",
    "                        linewidth=0.2, \n",
    "                        position = position_nudge(tmp %>% pull(nudge_dist))) + \n",
    "            geom_point(aes(fill=color),\n",
    "                        shape=21, color=\"black\", \n",
    "                        position = position_nudge(tmp %>% pull(nudge_dist))) + \n",
    "            geom_text(data=tmp %>% filter(signif), \n",
    "                                            aes(label=epistatic_gt),\n",
    "                                            size = 5,\n",
    "                                            nudge_x=-0.25,\n",
    "                                            check_overlap=FALSE) +\n",
    "            labs(x=\"\", y=glue(\"Scaled selection coefficient for *{mg}* mutation in somatic genotype\"),# title=\"Pairwise epistatic interactions in never-smoker LUAD\",\n",
    "                    size=\"Sample count\") +\n",
    "            scale_alpha_manual(values = alpha_palette, name=\"Significant difference in selection\") +\n",
    "            scale_fill_manual(values = fill_palette, name = \"Genetic context\") +\n",
    "            #scale_fill_viridis_c(name=\"Ratio of Selection\") +\n",
    "            scale_y_continuous(labels = scientific_expr, breaks=seq(0,2e5,3e4))+#, breaks = seq(0,ceiling, 1e6), limits = c(0, ceiling)) +\n",
    "            theme_classic() +\n",
    "            theme(plot.title = element_text(size = 24, hjust=0.5),\n",
    "                    axis.title = ggtext::element_markdown(size = 24),\n",
    "                    axis.text = element_text(size = 20, face=\"italic\"),\n",
    "                    #axis.ticks.x = element_blank(),\n",
    "                    legend.position = c(0.8,0.2),\n",
    "                    #legend.direction=\"horizontal\",\n",
    "                    legend.key.size = unit(1.5, 'cm'),\n",
    "                    legend.text = element_text(size = 20),\n",
    "                    legend.title = element_text(size = 20)) +\n",
    "            guides(fill = \"none\",\n",
    "                    size = \"none\",\n",
    "                    alpha = \"none\")+#guide_legend(title.position=\"top\", title.hjust = 0.5)) + \n",
    "            coord_flip()\n",
    "p"
   ]
  },
  {
   "cell_type": "code",
   "execution_count": 85,
   "metadata": {
    "vscode": {
     "languageId": "r"
    }
   },
   "outputs": [],
   "source": [
    "ggsave(paste0(location_figures, 'pairwise_epistasis_explainer_smoker_template.png'),p,width = 15, height=2)"
   ]
  },
  {
   "cell_type": "code",
   "execution_count": null,
   "metadata": {
    "vscode": {
     "languageId": "r"
    }
   },
   "outputs": [],
   "source": [
    "options(repr.plot.width = 15, repr.plot.height = 2)\n",
    "\n",
    "alpha_palette = c(\"TRUE\" = 1, \"FALSE\" = 0.1)\n",
    "fill_palette = c(\"WT\" = \"purple\", \"Antagonism\" = brewer.pal(n = 3, name = \"RdYlBu\")[1], \"Synergism\"=brewer.pal(n = 3, name = \"RdYlBu\")[3])\n",
    "\n",
    "mg = \"EGFR\"\n",
    "epistatic_gts = c(\"KRAS\",\"TP53\")\n",
    "cohort = \"nonsmoking_plus\"\n",
    "\n",
    "if(cohort == \"smoking_plus\"){\n",
    "   tmp = variant_M2_smoking_interaction_df %>%\n",
    "        filter(mutated_gene == mg, epistatic_gt %in% c(epistatic_gts,\"WT\"))\n",
    "} else if(cohort == \"nonsmoking_plus\"){\n",
    "   tmp = variant_M2_nonsmoking_interaction_df %>%\n",
    "        filter(mutated_gene == mg, epistatic_gt %in% c(epistatic_gts,\"WT\"))\n",
    "}\n",
    "\n",
    "tmp = tmp %>%\n",
    "    filter(epistatic_gt != \"WT\") %>%\n",
    "    bind_rows(M1_results %>% \n",
    "        filter(gene == mg) %>%\n",
    "        filter(key == cohort) %>%\n",
    "        mutate(mutated_gene=gene, epistatic_gt=\"WT\", signif=TRUE) %>% \n",
    "        left_join(tmp %>% filter(epistatic_gt == \"WT\") %>% group_by(mutated_gene) %>% summarize(to_count=mean(to_count)), by = \"mutated_gene\")) %>% \n",
    "    mutate(context = ifelse(epistatic_gt == \"WT\",\"WT\",\"Non-WT\\n([gene] mutated)\"),\n",
    "            color = ifelse(epistatic_gt==\"WT\",\"WT\",ifelse(ratio>1,\"Synergism\",\"Antagonism\"))) %>%\n",
    "    mutate(nudge_dist = case_when(epistatic_gt == \"KRAS\" ~ -0.1, epistatic_gt == \"TP53\" ~ 0.1, TRUE ~ 0)) %>%\n",
    "    mutate(epistatic_gt = ifelse(epistatic_gt==\"WT\",\"Wild-type\",paste0(epistatic_gt,\"-mutant\")))\n",
    "\n",
    "p = tmp %>%\n",
    "    ggplot(aes(x=mutated_gene, y=gamma_mle, size=to_count, alpha=signif)) + \n",
    "            geom_errorbar(aes(ymin=gamma_ci_low,ymax=gamma_ci_high),\n",
    "                        width=0.1,\n",
    "                        linewidth=0.2,\n",
    "                        position = position_nudge(tmp %>% pull(nudge_dist))) + \n",
    "            geom_point(aes(fill=color),\n",
    "                        shape=21, color=\"black\",\n",
    "                        position = position_nudge(tmp %>% pull(nudge_dist))) + \n",
    "            geom_text(data=tmp %>% filter(signif), \n",
    "                                            aes(label=epistatic_gt),\n",
    "                                            size = 5,\n",
    "                                            nudge_x=-0.25,\n",
    "                                            check_overlap=FALSE) +\n",
    "            labs(x=\"\", y=\"Scaled selection coefficient for *EGFR* mutation in somatic genotype\",# title=\"Pairwise epistatic interactions in never-smoker LUAD\",\n",
    "                    size=\"Sample count\") +\n",
    "            scale_alpha_manual(values = alpha_palette, name=\"Significant difference in selection\") +\n",
    "            scale_fill_manual(values = fill_palette, name = \"Genetic context\") +\n",
    "            #scale_fill_viridis_c(name=\"Ratio of Selection\") +\n",
    "            scale_y_continuous(labels = scientific_expr, breaks=seq(0,2.5e6,5e5))+#, breaks = seq(0,ceiling, 1e6), limits = c(0, ceiling)) +\n",
    "            theme_classic() +\n",
    "            theme(plot.title = element_text(size = 24, hjust=0.5),\n",
    "                    axis.title = ggtext::element_markdown(size = 24),\n",
    "                    axis.text = element_text(size = 20, face=\"italic\"),\n",
    "                    #axis.ticks.x = element_blank(),\n",
    "                    legend.position = c(0.8,0.2),\n",
    "                    #legend.direction=\"horizontal\",\n",
    "                    legend.key.size = unit(1.5, 'cm'),\n",
    "                    legend.text = element_text(size = 20),\n",
    "                    legend.title = element_text(size = 20)) +\n",
    "            guides(fill = \"none\",\n",
    "                    size = \"none\",\n",
    "                    alpha = \"none\")+#guide_legend(title.position=\"top\", title.hjust = 0.5)) + \n",
    "            coord_flip()\n",
    "p"
   ]
  },
  {
   "cell_type": "code",
   "execution_count": 87,
   "metadata": {
    "vscode": {
     "languageId": "r"
    }
   },
   "outputs": [],
   "source": [
    "ggsave(paste0(location_figures, 'pairwise_epistasis_explainer_nonsmoker_template.png'),p,width = 15, height=2)"
   ]
  },
  {
   "cell_type": "markdown",
   "metadata": {
    "vscode": {
     "languageId": "r"
    }
   },
   "source": [
    "## Panels B and C"
   ]
  },
  {
   "cell_type": "code",
   "execution_count": null,
   "metadata": {
    "vscode": {
     "languageId": "r"
    }
   },
   "outputs": [],
   "source": [
    "options(repr.plot.width = 15, repr.plot.height = 20)\n",
    "\n",
    "ceiling = 1.5e6\n",
    "p = plot_all_pairwise_epistatic_effects(variant_M2_smoking_interaction_df,\n",
    "                                    M1_results %>% filter(key==\"smoking_plus\", method==\"variant\"),\n",
    "                                    ceiling=ceiling) + \n",
    "    scale_y_continuous(labels = scientific_expr, breaks = seq(0,ceiling-1,3e5))\n",
    "p = p + theme(legend.position=\"none\")\n",
    "p"
   ]
  },
  {
   "cell_type": "code",
   "execution_count": 103,
   "metadata": {
    "vscode": {
     "languageId": "r"
    }
   },
   "outputs": [],
   "source": [
    "ggsave(paste0(location_figures, 'GxG_smoker.png'),p,width = 15, height=20)"
   ]
  },
  {
   "cell_type": "code",
   "execution_count": null,
   "metadata": {
    "vscode": {
     "languageId": "r"
    }
   },
   "outputs": [],
   "source": [
    "ceiling = 4e6\n",
    "p = plot_all_pairwise_epistatic_effects(variant_M2_nonsmoking_interaction_df,\n",
    "                                    M1_results %>% filter(key==\"nonsmoking_plus\", method==\"variant\"),\n",
    "                                    ceiling=ceiling) + \n",
    "    scale_y_continuous(labels = scientific_expr, breaks = seq(0,ceiling-1,6e5))\n",
    "p = p + theme(legend.position=\"none\")\n",
    "p"
   ]
  },
  {
   "cell_type": "code",
   "execution_count": 105,
   "metadata": {
    "vscode": {
     "languageId": "r"
    }
   },
   "outputs": [],
   "source": [
    "ggsave(paste0(location_figures, 'GxG_nonsmoker.png'),p,width = 15, height=20)"
   ]
  },
  {
   "cell_type": "markdown",
   "metadata": {},
   "source": [
    "## Analysis for results text"
   ]
  },
  {
   "cell_type": "code",
   "execution_count": 23,
   "metadata": {
    "vscode": {
     "languageId": "r"
    }
   },
   "outputs": [],
   "source": [
    "ranked_smoking_genes = M1_results %>% filter(key==\"smoking_plus\") %>% arrange(desc(gamma_mle)) %>% pull(gene)\n",
    "ranked_nonsmoking_genes = M1_results %>% filter(key==\"nonsmoking_plus\") %>% arrange(desc(gamma_mle)) %>% pull(gene)\n",
    "\n",
    "oncogenes = c(\"KRAS\", \"BRAF\", \"EGFR\", \"CTNNB1\", \"PIK3CA\", \"MET\", \"GNAS\", \"ALK\")\n",
    "tsgs = c(\"TP53\", \"KEAP1\", \"ATM\", \"STK11\", \"BRCA2\", \"SETD2\", \"RBM10\", \"APC\", \"MGA\", \"RB1\", \"SMAD4\")\n",
    "chromatin_remodelers = c(\"SMARCA4\", \"ARID1A\")"
   ]
  },
  {
   "cell_type": "markdown",
   "metadata": {},
   "source": [
    "Epistatic patterns of strongly selected genes in ES-LUAD"
   ]
  },
  {
   "cell_type": "code",
   "execution_count": null,
   "metadata": {
    "vscode": {
     "languageId": "r"
    }
   },
   "outputs": [],
   "source": [
    "variant_M2_smoking_interaction_df %>% filter(signif, epistatic_gt != \"WT\") %>%\n",
    "    filter(mutated_gene %in% ranked_smoking_genes[1:9], ratio > 1) %>%\n",
    "    arrange(ratio)"
   ]
  },
  {
   "cell_type": "markdown",
   "metadata": {},
   "source": [
    "Epistatic patterns of chromatin remodeling genes and moderately strongly selected tumor suppressor genes"
   ]
  },
  {
   "cell_type": "code",
   "execution_count": null,
   "metadata": {
    "vscode": {
     "languageId": "r"
    }
   },
   "outputs": [],
   "source": [
    "variant_M2_smoking_interaction_df %>% filter(signif, epistatic_gt != \"WT\") %>%\n",
    "    #filter(mutated_gene %in% c(\"BRCA2\", \"SETD2\", \"RBM10\", \"APC\", \"MGA\", \"RB1\")) %>%\n",
    "    filter(mutated_gene %in% chromatin_remodelers) %>%\n",
    "    arrange(ratio) %>%\n",
    "    count(epistatic_gt) %>%\n",
    "    arrange(desc(n))"
   ]
  },
  {
   "cell_type": "markdown",
   "metadata": {},
   "source": [
    "Epistatic patterns of oncogenes"
   ]
  },
  {
   "cell_type": "code",
   "execution_count": null,
   "metadata": {
    "vscode": {
     "languageId": "r"
    }
   },
   "outputs": [],
   "source": [
    "variant_M2_smoking_interaction_df %>% filter(signif, epistatic_gt != \"WT\") %>%\n",
    "    filter(mutated_gene %in% oncogenes) %>% \n",
    "        group_by(ratio>1) %>% \n",
    "        count(epistatic_gt) %>%\n",
    "        arrange(desc(n))\n",
    "        # filter(ratio>1) %>%\n",
    "        # count(mutated_gene) %>% \n",
    "        # arrange(desc(n))"
   ]
  },
  {
   "cell_type": "code",
   "execution_count": null,
   "metadata": {
    "vscode": {
     "languageId": "r"
    }
   },
   "outputs": [],
   "source": [
    "variant_M2_smoking_interaction_df %>% filter(signif, epistatic_gt != \"WT\") %>%\n",
    "    filter(mutated_gene %in% oncogenes) %>% \n",
    "    arrange(mutated_gene) %>% \n",
    "    group_by(mutated_gene) %>%\n",
    "    filter((all(ratio<1)|all(ratio>1)))"
   ]
  },
  {
   "cell_type": "markdown",
   "metadata": {},
   "source": [
    "Median effect of synergistic epistasis"
   ]
  },
  {
   "cell_type": "code",
   "execution_count": null,
   "metadata": {
    "vscode": {
     "languageId": "r"
    }
   },
   "outputs": [],
   "source": [
    "variant_M2_smoking_interaction_df %>% filter(signif, epistatic_gt != \"WT\", ratio>1) %>%\n",
    "    pull(ratio) %>% summary"
   ]
  },
  {
   "cell_type": "markdown",
   "metadata": {},
   "source": [
    "Correlation of strength of synergistic epistasis with ..."
   ]
  },
  {
   "cell_type": "markdown",
   "metadata": {},
   "source": [
    "1) Strength of selection on prior mutation"
   ]
  },
  {
   "cell_type": "code",
   "execution_count": null,
   "metadata": {
    "vscode": {
     "languageId": "r"
    }
   },
   "outputs": [],
   "source": [
    "options(repr.plot.width = 6, repr.plot.height = 6)\n",
    "\n",
    "tmp = variant_M2_smoking_interaction_df %>% filter(epistatic_gt != \"WT\", signif, ratio>1) %>%\n",
    "    select(gene_set, epistatic_gt, ratio) %>% rename(mutated_gene = epistatic_gt) %>% mutate(epistatic_gt = \"WT\") %>%\n",
    "    left_join(variant_M2_smoking_interaction_df %>% select(gene_set, epistatic_gt, mutated_gene, gamma_mle), \n",
    "                by=c(\"gene_set\",\"epistatic_gt\",\"mutated_gene\"))\n",
    "\n",
    "tmp %>%\n",
    "    ggplot(aes(x=log(gamma_mle),y=ratio)) + \n",
    "        geom_point() +\n",
    "        geom_smooth(method=\"lm\", formula = y~log(x), alpha=0.5) + \n",
    "        labs(x=\"log(Selection coefficient) for prior mutation\",y=\"Epistatic ratio\") +\n",
    "        theme_bw()\n",
    "\n",
    "ratio_model = lm(ratio~log(gamma_mle), data=tmp)\n",
    "summary(ratio_model)"
   ]
  },
  {
   "cell_type": "markdown",
   "metadata": {},
   "source": [
    "2) Strength of selection on secondary mutation"
   ]
  },
  {
   "cell_type": "code",
   "execution_count": null,
   "metadata": {
    "vscode": {
     "languageId": "r"
    }
   },
   "outputs": [],
   "source": [
    "options(repr.plot.width=6, repr.plot.height=6)\n",
    "variant_M2_smoking_interaction_df %>% filter(epistatic_gt == \"WT\", signif, ratio>1) %>% \n",
    "    filter(ratio<20) %>%\n",
    "    ggplot(aes(x=gamma_mle, y=ratio)) +\n",
    "        geom_point() + theme_bw() + geom_smooth(method=\"lm\", formula = y~x) + \n",
    "        geom_hline(yintercept = 3, linetype=\"dashed\") + geom_hline(yintercept = 8, linetype=\"dashed\") +\n",
    "        labs(x=\"Baseline selection coefficient for affected mutation\", y=\"Epistatic ratio\") +\n",
    "        theme_bw()\n",
    "        \n",
    "ratio_model = lm(ratio~gamma_mle, \n",
    "                data=variant_M2_smoking_interaction_df %>% filter(epistatic_gt == \"WT\", signif, ratio>1) %>% filter(ratio<20))\n",
    "summary(ratio_model)"
   ]
  },
  {
   "cell_type": "markdown",
   "metadata": {},
   "source": [
    "Antagonistic sign epistasis"
   ]
  },
  {
   "cell_type": "code",
   "execution_count": null,
   "metadata": {
    "vscode": {
     "languageId": "r"
    }
   },
   "outputs": [],
   "source": [
    "# variant_M2_smoking_interaction_df %>% filter(epistatic_gt != \"WT\", gamma_mle<1)\n",
    "variant_M2_smoking_interaction_df %>% filter(epistatic_gt != \"WT\", gamma_ci_high<1, signif) %>% arrange(mutated_gene)"
   ]
  },
  {
   "cell_type": "markdown",
   "metadata": {},
   "source": [
    "Antagonistic magnitude epistasis"
   ]
  },
  {
   "cell_type": "code",
   "execution_count": null,
   "metadata": {
    "vscode": {
     "languageId": "r"
    }
   },
   "outputs": [],
   "source": [
    "variant_M2_smoking_interaction_df %>% filter(epistatic_gt != \"WT\", gamma_mle>1, ratio<1)"
   ]
  },
  {
   "cell_type": "code",
   "execution_count": null,
   "metadata": {
    "vscode": {
     "languageId": "r"
    }
   },
   "outputs": [],
   "source": [
    "variant_M2_smoking_interaction_df %>% \n",
    "    filter(epistatic_gt != \"WT\", ratio<1, signif) %>% \n",
    "    filter(mutated_gene %in% c(\"TP53\",\"KRAS\")) %>%\n",
    "    count(epistatic_gt) %>% arrange(desc(n))"
   ]
  },
  {
   "cell_type": "markdown",
   "metadata": {},
   "source": [
    "Synergistic and antagonistic epistasis in NS-LUAD"
   ]
  },
  {
   "cell_type": "code",
   "execution_count": null,
   "metadata": {
    "vscode": {
     "languageId": "r"
    }
   },
   "outputs": [],
   "source": [
    "tmp = variant_M2_smoking_interaction_df %>% full_join(variant_M2_nonsmoking_interaction_df, by=c(\"tested_combo\", \"epistatic_gt\"), suffix = c(\"_smoking\", \"_nonsmoking\")) %>%\n",
    "  filter(epistatic_gt != \"WT\") %>%\n",
    "  select(tested_combo, ratio_smoking, ratio_nonsmoking, signif_smoking, signif_nonsmoking) %>%\n",
    "  mutate(syn_smoking = ratio_smoking > 1, syn_nonsmoking = ratio_nonsmoking > 1) %>%\n",
    "  select(-c(ratio_smoking, ratio_nonsmoking)) \n",
    "\n",
    "dcast(setDT(tmp), syn_smoking + signif_smoking ~ syn_nonsmoking + signif_nonsmoking)\n",
    "dcast(setDT(tmp), syn_nonsmoking + signif_nonsmoking ~ syn_smoking + signif_smoking)"
   ]
  },
  {
   "cell_type": "code",
   "execution_count": null,
   "metadata": {
    "vscode": {
     "languageId": "r"
    }
   },
   "outputs": [],
   "source": [
    "tmp %>% filter(syn_smoking, signif_smoking, !syn_nonsmoking, signif_nonsmoking) %>% mutate(gene = str_split_i(tested_combo,\"_\",2)) %>% count(gene) %>% arrange(desc(n))"
   ]
  },
  {
   "cell_type": "code",
   "execution_count": null,
   "metadata": {
    "vscode": {
     "languageId": "r"
    }
   },
   "outputs": [],
   "source": [
    "variant_M2_nonsmoking_interaction_df %>% filter(epistatic_gt != \"WT\", ratio>1, signif) %>% arrange(ratio) # %>% pull(ratio) %>% summary"
   ]
  },
  {
   "cell_type": "markdown",
   "metadata": {},
   "source": [
    "Asymmetric epistasis"
   ]
  },
  {
   "cell_type": "code",
   "execution_count": null,
   "metadata": {
    "vscode": {
     "languageId": "r"
    }
   },
   "outputs": [],
   "source": [
    "variant_M2_smoking_interaction_df %>% filter(epistatic_gt != \"WT\", signif) %>%\n",
    "  group_by(gene_set) %>% filter(n() == 2) %>%\n",
    "  filter(!all(gamma_mle < 1))"
   ]
  },
  {
   "cell_type": "code",
   "execution_count": null,
   "metadata": {
    "vscode": {
     "languageId": "r"
    }
   },
   "outputs": [],
   "source": [
    "variant_M2_smoking_interaction_df %>% filter(gene_set == \"KEAP1_STK11\")"
   ]
  },
  {
   "cell_type": "markdown",
   "metadata": {},
   "source": [
    "# Figure 5: GxGxE"
   ]
  },
  {
   "cell_type": "code",
   "execution_count": null,
   "metadata": {
    "vscode": {
     "languageId": "r"
    }
   },
   "outputs": [],
   "source": [
    "options(repr.plot.width = 20, repr.plot.height = 6)\n",
    "\n",
    "env1_df = variant_M2_smoking_interaction_df\n",
    "env2_df = variant_M2_nonsmoking_interaction_df\n",
    "\n",
    "mg = \"RB1\"; gt = \"KRAS\"\n",
    "a = plot_gge_interaction(mg, gt, env1_df, env2_df)\n",
    "mg = \"RB1\"; gt = \"EGFR\"\n",
    "b = plot_gge_interaction(mg, gt, env1_df, env2_df) + theme(axis.title.y = element_blank())\n",
    "mg = \"PIK3CA\"; gt = \"KRAS\" # mg = \"MET\"; gt = \"TP53\"\n",
    "c = plot_gge_interaction(mg, gt, env1_df, env2_df) + theme(axis.title.y = element_blank())\n",
    "mg = \"EGFR\"; gt = \"TP53\"\n",
    "d = plot_gge_interaction(mg, gt, env1_df, env2_df) + theme(axis.title.y = element_blank()) + scale_y_continuous(breaks=seq(0,25,5)*1e5,labels=function(y)y*1e-5)\n",
    "\n",
    "p = plot_grid(a,b,c,d,nrow=1,rel_widths = c(1.08,1,1,1),label_size = 25)\n",
    "p"
   ]
  },
  {
   "cell_type": "code",
   "execution_count": 111,
   "metadata": {
    "vscode": {
     "languageId": "r"
    }
   },
   "outputs": [],
   "source": [
    "ggsave(paste0(location_figures, 'all_interaction_types.png'),p,width = 20, height=6)"
   ]
  },
  {
   "cell_type": "markdown",
   "metadata": {},
   "source": [
    "## Analysis for results text"
   ]
  },
  {
   "cell_type": "markdown",
   "metadata": {},
   "source": [
    "G"
   ]
  },
  {
   "cell_type": "code",
   "execution_count": null,
   "metadata": {
    "vscode": {
     "languageId": "r"
    }
   },
   "outputs": [],
   "source": [
    "variant_M2_smoking_interaction_df %>% bind_rows(variant_M2_nonsmoking_interaction_df) %>%\n",
    "    filter(!(mutated_gene %in% get_genes_with_gxe_effects(M1_results, \"variant\",include_panel_data = T)),\n",
    "           epistatic_gt != \"WT\", !signif) %>%\n",
    "    filter(gamma_mle > 1) %>%\n",
    "    group_by(tested_combo) %>% filter(n()>1) %>%\n",
    "    mutate(ratio_variance = var(ratio)) %>%\n",
    "    arrange(ratio_variance) %>%\n",
    "    head(20)"
   ]
  },
  {
   "cell_type": "code",
   "execution_count": null,
   "metadata": {
    "vscode": {
     "languageId": "r"
    }
   },
   "outputs": [],
   "source": [
    "options(repr.plot.width = 22, repr.plot.height = 5)\n",
    "\n",
    "# mg = \"APC\"; gt = \"KRAS\"\n",
    "# a = plot_gge_interaction(mg, gt, env1_df, env2_df) + theme(legend.position = \"none\", axis.title.y = element_blank())\n",
    "mg = \"BRCA2\"; gt = \"EGFR\"\n",
    "b = plot_gge_interaction(mg, gt, env1_df, env2_df) + theme(legend.position = \"none\", axis.title.y = element_blank())\n",
    "# mg = \"RBM10\"; gt = \"TP53\"\n",
    "# c = plot_gge_interaction(mg, gt, env1_df, env2_df) + theme(legend.position = \"none\", axis.title.y = element_blank())\n",
    "mg = \"RB1\"; gt = \"KRAS\"\n",
    "d = plot_gge_interaction(mg, gt, env1_df, env2_df) + theme(legend.position = \"none\", axis.title.y = element_blank())\n",
    "# mg = \"SMARCA4\"; gt = \"KRAS\"\n",
    "# e = plot_gge_interaction(mg, gt, env1_df, env2_df) + theme(legend.position = \"none\", axis.title.y = element_blank())\n",
    "mg = \"ATM\"; gt = \"EGFR\"\n",
    "f = plot_gge_interaction(mg, gt, env1_df, env2_df) + theme(legend.position = \"none\", axis.title.y = element_blank())\n",
    "# mg = \"RB1\"; gt = \"BRAF\"\n",
    "# g = plot_gge_interaction(mg, gt, env1_df, env2_df) + theme(legend.position = \"none\", axis.title.y = element_blank())\n",
    "# mg = \"SMARCA4\"; gt = \"EGFR\"\n",
    "# h = plot_gge_interaction(mg, gt, env1_df, env2_df) + theme(legend.position = \"none\", axis.title.y = element_blank())\n",
    "mg = \"BRCA2\"; gt = \"KRAS\"\n",
    "i = plot_gge_interaction(mg, gt, env1_df, env2_df) + theme(legend.position = \"none\", axis.title.y = element_blank())\n",
    "# mg = \"MGA\"; gt = \"CTNNB1\"\n",
    "# j = plot_gge_interaction(mg, gt, env1_df, env2_df) + theme(legend.position = \"none\", axis.title.y = element_blank())\n",
    "#plot_grid(a,b,c,d,e,f,g,h,i,j,nrow=2,label_size = 25)\n",
    "plot_grid(b,d,f,i,nrow=1)"
   ]
  },
  {
   "cell_type": "code",
   "execution_count": null,
   "metadata": {
    "vscode": {
     "languageId": "r"
    }
   },
   "outputs": [],
   "source": [
    "variant_M2_smoking_interaction_df %>% bind_rows(variant_M2_nonsmoking_interaction_df) %>% filter(mutated_gene == \"RB1\", epistatic_gt != \"WT\", signif) %>% \n",
    "    group_by(epistatic_gt) %>% filter(n() > 1)"
   ]
  },
  {
   "cell_type": "markdown",
   "metadata": {},
   "source": [
    "GxG"
   ]
  },
  {
   "cell_type": "code",
   "execution_count": null,
   "metadata": {
    "vscode": {
     "languageId": "r"
    }
   },
   "outputs": [],
   "source": [
    "variant_M2_smoking_interaction_df %>% bind_rows(variant_M2_nonsmoking_interaction_df) %>%\n",
    "    filter(!(mutated_gene %in% get_genes_with_gxe_effects(M1_results, \"variant\",include_panel_data = T)),\n",
    "           epistatic_gt != \"WT\", signif) %>% \n",
    "    filter(gamma_mle > 1) %>%\n",
    "    group_by(tested_combo) %>% filter(n()>1, (all(ratio>1) | all(ratio<1))) %>%\n",
    "    mutate(ratio_variance = var(ratio)) %>%\n",
    "    arrange(ratio_variance) %>%\n",
    "    head(20)"
   ]
  },
  {
   "cell_type": "code",
   "execution_count": null,
   "metadata": {
    "vscode": {
     "languageId": "r"
    }
   },
   "outputs": [],
   "source": [
    "variant_M2_smoking_interaction_df %>% bind_rows(variant_M2_nonsmoking_interaction_df) %>% filter(tested_combo == \"SMAD4_BRCA2\", epistatic_gt != \"WT\")"
   ]
  },
  {
   "cell_type": "markdown",
   "metadata": {},
   "source": [
    "GxE"
   ]
  },
  {
   "cell_type": "code",
   "execution_count": null,
   "metadata": {
    "vscode": {
     "languageId": "r"
    }
   },
   "outputs": [],
   "source": [
    "variant_M2_smoking_interaction_df %>% bind_rows(variant_M2_nonsmoking_interaction_df) %>%\n",
    "    filter(mutated_gene %in% get_genes_with_gxe_effects(M1_results, \"variant\",include_panel_data = T),\n",
    "           epistatic_gt != \"WT\", !signif) %>%\n",
    "    group_by(tested_combo) %>% filter(n()>1) %>%\n",
    "    mutate(max_abs_log_ratio = max(abs(log(ratio))),\n",
    "            ratio_variance = var(ratio)) %>%\n",
    "    arrange(max_abs_log_ratio) %>% \n",
    "    ungroup() %>%\n",
    "    slice(1:20)"
   ]
  },
  {
   "cell_type": "code",
   "execution_count": null,
   "metadata": {
    "vscode": {
     "languageId": "r"
    }
   },
   "outputs": [],
   "source": [
    "options(repr.plot.width = 22, repr.plot.height = 10)\n",
    "\n",
    "mg = \"SMAD4\"; gt = \"ATM\"\n",
    "a = plot_gge_interaction(mg, gt, env1_df, env2_df) + theme(legend.position = \"none\", axis.title.y = element_blank())\n",
    "mg = \"MET\"; gt = \"ARID1A\"\n",
    "b = plot_gge_interaction(mg, gt, env1_df, env2_df) + theme(legend.position = \"none\", axis.title.y = element_blank())\n",
    "mg = \"STK11\"; gt = \"TP53\"\n",
    "c = plot_gge_interaction(mg, gt, env1_df, env2_df) + theme(legend.position = \"none\", axis.title.y = element_blank())\n",
    "mg = \"MET\"; gt = \"TP53\"\n",
    "d = plot_gge_interaction(mg, gt, env1_df, env2_df) + theme(legend.position = \"none\", axis.title.y = element_blank())\n",
    "mg = \"KEAP1\"; gt = \"BRAF\"\n",
    "e = plot_gge_interaction(mg, gt, env1_df, env2_df) + theme(legend.position = \"none\", axis.title.y = element_blank())\n",
    "mg = \"SMAD4\"; gt = \"CTNNB1\"\n",
    "f = plot_gge_interaction(mg, gt, env1_df, env2_df) + theme(legend.position = \"none\", axis.title.y = element_blank())\n",
    "mg = \"PIK3CA\"; gt = \"ATM\"\n",
    "g = plot_gge_interaction(mg, gt, env1_df, env2_df) + theme(legend.position = \"none\", axis.title.y = element_blank())\n",
    "mg = \"PIK3CA\"; gt = \"KRAS\"\n",
    "h = plot_gge_interaction(mg, gt, env1_df, env2_df) + theme(legend.position = \"none\", axis.title.y = element_blank())\n",
    "mg = \"MET\"; gt = \"STK11\"\n",
    "i = plot_gge_interaction(mg, gt, env1_df, env2_df) + theme(legend.position = \"none\", axis.title.y = element_blank())\n",
    "mg = \"MET\"; gt = \"ALK\"\n",
    "j = plot_gge_interaction(mg, gt, env1_df, env2_df) + theme(legend.position = \"none\", axis.title.y = element_blank())\n",
    "plot_grid(a,b,c,d,e,f,g,h,i,j,nrow=2,label_size = 25)\n",
    "# plot_grid(b,d,f,i,nrow=1)"
   ]
  },
  {
   "cell_type": "markdown",
   "metadata": {},
   "source": [
    "GxGxE"
   ]
  },
  {
   "cell_type": "code",
   "execution_count": null,
   "metadata": {
    "vscode": {
     "languageId": "r"
    }
   },
   "outputs": [],
   "source": [
    "variant_M2_smoking_interaction_df %>% bind_rows(variant_M2_nonsmoking_interaction_df) %>%\n",
    "    filter(signif, epistatic_gt == \"WT\") %>% \n",
    "    group_by(tested_combo) %>% \n",
    "    filter(n()>1, (all(ratio>1) | all(ratio<1))) %>%\n",
    "    arrange(tested_combo) %>%\n",
    "    filter(max(gamma_ci_low) > min(gamma_ci_high)) %>% # test for GxE between mutations from WT\n",
    "    mutate(ratio_variance = var(ratio)) %>%\n",
    "    arrange(ratio_variance)"
   ]
  },
  {
   "cell_type": "code",
   "execution_count": null,
   "metadata": {
    "vscode": {
     "languageId": "r"
    }
   },
   "outputs": [],
   "source": [
    "options(repr.plot.width = 22, repr.plot.height = 5)\n",
    "mg = \"TP53\"; gt = \"KRAS\"\n",
    "a = plot_gge_interaction(mg, gt, env1_df, env2_df) + theme(legend.position = \"none\", axis.title.y = element_blank())\n",
    "mg = \"EGFR\"; gt = \"TP53\"\n",
    "b = plot_gge_interaction(mg, gt, env1_df, env2_df) + theme(legend.position = \"none\", axis.title.y = element_blank())\n",
    "mg = \"SMAD4\"; gt = \"BRCA2\"\n",
    "c = plot_gge_interaction(mg, gt, env1_df, env2_df) + theme(legend.position = \"none\", axis.title.y = element_blank())\n",
    "mg = \"STK11\"; gt = \"KEAP1\"\n",
    "d = plot_gge_interaction(mg, gt, env1_df, env2_df) + theme(legend.position = \"none\", axis.title.y = element_blank())\n",
    "mg = \"EGFR\"; gt = \"KRAS\"\n",
    "e = plot_gge_interaction(mg, gt, env1_df, env2_df) + theme(legend.position = \"none\", axis.title.y = element_blank())\n",
    "plot_grid(a,b,c,d,e,nrow=1)"
   ]
  },
  {
   "cell_type": "code",
   "execution_count": null,
   "metadata": {
    "vscode": {
     "languageId": "r"
    }
   },
   "outputs": [],
   "source": [
    "variant_M2_smoking_interaction_df %>% bind_rows(variant_M2_nonsmoking_interaction_df) %>% \n",
    "    filter(tested_combo == \"TP53_EGFR\")"
   ]
  },
  {
   "cell_type": "markdown",
   "metadata": {},
   "source": [
    "Opposite signs of epistasis between ES- and NS-LUAD"
   ]
  },
  {
   "cell_type": "code",
   "execution_count": null,
   "metadata": {
    "vscode": {
     "languageId": "r"
    }
   },
   "outputs": [],
   "source": [
    "variant_M2_smoking_interaction_df %>% bind_rows(variant_M2_nonsmoking_interaction_df) %>%\n",
    "    filter(!(mutated_gene %in% get_genes_with_gxe_effects(M1_results, \"variant\",include_panel_data = T)),\n",
    "           epistatic_gt != \"WT\", !signif) %>%\n",
    "    group_by(tested_combo) %>% filter(n()>1, (all(ratio>1) | all(ratio<1))) %>%\n",
    "    mutate(prop_diff_ratio = (max(ratio)-mean(ratio))/mean(ratio)) %>%\n",
    "    arrange(prop_diff_ratio)"
   ]
  },
  {
   "cell_type": "markdown",
   "metadata": {},
   "source": [
    "GxG"
   ]
  },
  {
   "cell_type": "code",
   "execution_count": null,
   "metadata": {
    "vscode": {
     "languageId": "r"
    }
   },
   "outputs": [],
   "source": [
    "variant_M2_smoking_interaction_df %>% filter(signif, epistatic_gt != \"WT\") %>% \n",
    "    bind_rows(variant_M2_nonsmoking_interaction_df %>% filter(signif, epistatic_gt != \"WT\")) %>%\n",
    "    arrange(tested_combo) %>%\n",
    "    group_by(tested_combo) %>% filter(n()>1, (all(ratio>1) | all(ratio<1))) %>%\n",
    "    filter(!(mutated_gene %in% get_genes_with_gxe_effects(M1_results, \"variant\",include_panel_data = T))) %>% \n",
    "    mutate(prop_diff_ratio = (max(ratio)-mean(ratio))/mean(ratio)) %>%\n",
    "    arrange(prop_diff_ratio) %>%\n",
    "    pull(tested_combo) %>% unique"
   ]
  },
  {
   "cell_type": "code",
   "execution_count": null,
   "metadata": {
    "vscode": {
     "languageId": "r"
    }
   },
   "outputs": [],
   "source": [
    "variant_M2_smoking_interaction_df %>% bind_rows(variant_M2_nonsmoking_interaction_df) %>%\n",
    "    filter(signif, epistatic_gt == \"WT\") %>% \n",
    "    group_by(tested_combo) %>% filter(n()>1) %>%\n",
    "    filter(max(gamma_ci_low) > min(gamma_ci_high)) %>%\n",
    "    filter(sum(ratio<1)==1)"
   ]
  },
  {
   "cell_type": "code",
   "execution_count": null,
   "metadata": {
    "vscode": {
     "languageId": "r"
    }
   },
   "outputs": [],
   "source": [
    "variant_M2_smoking_interaction_df %>% bind_rows(variant_M2_nonsmoking_interaction_df) %>%\n",
    "    filter(mutated_gene %in% get_genes_with_gxe_effects(M1_results, \"variant\",include_panel_data = T),\n",
    "           epistatic_gt != \"WT\", signif) %>%\n",
    "    group_by(tested_combo) %>% filter(n()>1, sum(ratio<1)==1) %>%\n",
    "    pull(tested_combo) %>% unique"
   ]
  },
  {
   "cell_type": "code",
   "execution_count": null,
   "metadata": {
    "vscode": {
     "languageId": "r"
    }
   },
   "outputs": [],
   "source": [
    "options(repr.plot.width = 5, repr.plot.height = 5)\n",
    "mg = \"MET\"; gt = \"SMAD4\"\n",
    "plot_gge_interaction(mg, gt, env1_df, env2_df) + theme(legend.position = \"none\", axis.title.y = element_blank())"
   ]
  },
  {
   "cell_type": "markdown",
   "metadata": {},
   "source": [
    "# Figure 6: GxGxG for KRAS, KEAP1, and STK11"
   ]
  },
  {
   "cell_type": "code",
   "execution_count": 112,
   "metadata": {
    "vscode": {
     "languageId": "r"
    }
   },
   "outputs": [],
   "source": [
    "variant_M3_data = load_M3_results(\"variant\")\n",
    "\n",
    "variant_M3_smoking_interaction_df = get_interaction_df(variant_M3_data %>% filter(key == \"smoking_plus\"))\n",
    "variant_M3_nonsmoking_interaction_df = get_interaction_df(variant_M3_data %>% filter(key == \"nonsmoking_plus\"))"
   ]
  },
  {
   "cell_type": "code",
   "execution_count": 113,
   "metadata": {
    "vscode": {
     "languageId": "r"
    }
   },
   "outputs": [],
   "source": [
    "smoking_plotting_df = get_multi_gene_effects_2(variant_M2_smoking_interaction_df %>% pull(tested_combo) %>% unique, variant_M3_smoking_interaction_df)\n",
    "nonsmoking_plotting_df = get_multi_gene_effects_2(variant_M2_nonsmoking_interaction_df %>% pull(tested_combo) %>% unique, variant_M3_nonsmoking_interaction_df)"
   ]
  },
  {
   "cell_type": "code",
   "execution_count": null,
   "metadata": {
    "vscode": {
     "languageId": "r"
    }
   },
   "outputs": [],
   "source": [
    "variant_M3_smoking_interaction_df %>% filter(gene_set == \"KRAS_KEAP1_STK11\") %>% distinct(epistatic_gt,mutated_gene, .keep_all = T)"
   ]
  },
  {
   "cell_type": "code",
   "execution_count": null,
   "metadata": {
    "vscode": {
     "languageId": "r"
    }
   },
   "outputs": [],
   "source": [
    "M1_results %>% filter(key==\"smoking_plus\",gene %in% c(\"KRAS\",\"KEAP1\",\"STK11\")) %>% select(gene, mu) %>% arrange(desc(mu))"
   ]
  },
  {
   "cell_type": "code",
   "execution_count": null,
   "metadata": {
    "vscode": {
     "languageId": "r"
    }
   },
   "outputs": [],
   "source": [
    "variant_M3_smoking_interaction_df %>% filter(gene_set == \"KRAS_KEAP1_STK11\", mutated_gene == \"STK11\") %>% distinct(epistatic_gt, .keep_all = T)"
   ]
  },
  {
   "cell_type": "markdown",
   "metadata": {},
   "source": [
    "# Figure 7: GxGxG"
   ]
  },
  {
   "cell_type": "code",
   "execution_count": null,
   "metadata": {
    "vscode": {
     "languageId": "r"
    }
   },
   "outputs": [],
   "source": [
    "smoking_plotting_df %>% filter(extra_effect_strict) %>% select(gene_set, mutated_gene) %>% distinct() %>%\n",
    "    left_join(variant_M3_smoking_interaction_df, by = c(\"gene_set\", \"mutated_gene\")) %>% \n",
    "    filter(epistatic_gt != \"WT\") %>% \n",
    "    arrange(gene_set) %>%\n",
    "    select(gene_set, mutated_gene, epistatic_gt, starts_with(\"gamma\"), ratio, signif)"
   ]
  },
  {
   "cell_type": "code",
   "execution_count": null,
   "metadata": {
    "vscode": {
     "languageId": "r"
    }
   },
   "outputs": [],
   "source": [
    "smoking_plotting_df %>% filter(extra_effect_strict) %>% select(gene_set, mutated_gene) %>% distinct() %>%\n",
    "    left_join(variant_M3_smoking_interaction_df, by = c(\"gene_set\", \"mutated_gene\")) %>% \n",
    "    filter(epistatic_gt != \"WT\") %>% \n",
    "    arrange(gene_set) %>%\n",
    "    select(gene_set, mutated_gene, epistatic_gt, starts_with(\"gamma\"), ratio, signif) %>%\n",
    "    group_by(gene_set, mutated_gene) %>%\n",
    "    filter(all(ratio>1)) %>%\n",
    "    arrange(ratio, .by_group = TRUE) %>% distinct(gene_set,.keep_all = TRUE) %>% arrange(ratio) %>%\n",
    "    mutate(rel_span = (gamma_ci_high - gamma_ci_low) / gamma_mle) %>% arrange(rel_span)"
   ]
  },
  {
   "cell_type": "code",
   "execution_count": null,
   "metadata": {
    "vscode": {
     "languageId": "r"
    }
   },
   "outputs": [],
   "source": [
    "nonsmoking_plotting_df %>% filter(extra_effect_strict) %>% select(gene_set, mutated_gene) %>% distinct() %>%\n",
    "    left_join(variant_M3_nonsmoking_interaction_df, by = c(\"gene_set\", \"mutated_gene\")) %>% \n",
    "    filter(epistatic_gt != \"WT\") %>% \n",
    "    arrange(gene_set) %>%\n",
    "    select(gene_set, mutated_gene, epistatic_gt, starts_with(\"gamma\"), ratio, signif) %>%\n",
    "    group_by(gene_set, mutated_gene)"
   ]
  },
  {
   "cell_type": "code",
   "execution_count": null,
   "metadata": {
    "vscode": {
     "languageId": "r"
    }
   },
   "outputs": [],
   "source": [
    "smoking_plotting_df %>% filter(extra_effect_strict) %>% select(gene_set, mutated_gene) %>% distinct() %>%\n",
    "    left_join(variant_M3_smoking_interaction_df, by = c(\"gene_set\", \"mutated_gene\")) %>% \n",
    "    filter(epistatic_gt != \"WT\") %>% \n",
    "    arrange(gene_set) %>%\n",
    "    select(gene_set, mutated_gene, epistatic_gt, starts_with(\"gamma\"), ratio, signif) %>%\n",
    "    group_by(gene_set, mutated_gene) %>%\n",
    "    filter(all(ratio>1)) %>%\n",
    "    mutate(num_mutations = str_detect(epistatic_gt,'_')+1) %>%\n",
    "    group_by(gene_set, mutated_gene, num_mutations) %>%\n",
    "    summarize(combined_effect=prod(ratio), .groups=\"drop_last\") %>%\n",
    "    arrange(gene_set) %>%\n",
    "    pivot_wider(id_cols = c(gene_set, mutated_gene), names_from = num_mutations, values_from = combined_effect, names_prefix = \"epistatic_ratio_\") %>%\n",
    "    mutate(o_over_e = round(epistatic_ratio_2/epistatic_ratio_1,2)) %>%\n",
    "    arrange(desc(o_over_e))"
   ]
  },
  {
   "cell_type": "markdown",
   "metadata": {
    "vscode": {
     "languageId": "r"
    }
   },
   "source": [
    "Higher order epistasis"
   ]
  },
  {
   "cell_type": "code",
   "execution_count": null,
   "metadata": {
    "vscode": {
     "languageId": "r"
    }
   },
   "outputs": [],
   "source": [
    "# for each mutated gene in each gene set\n",
    "# need `epistatic ratio to WT` for all three non-WT genotypes\n",
    "# \n",
    "# only need to look at synergistic mutations\n",
    "# - defining sub-additive epistasis as synergistic effect of\n",
    "#   two mutations on a third that is less than the product of\n",
    "#   the individual synergistic effects of the two mutations\n",
    "exp_and_obs_ratios = \n",
    "    variant_M3_smoking_interaction_df %>% \n",
    "    filter(epistatic_gt != \"WT\", ratio > 1) %>% \n",
    "    filter(case_when(!str_detect(epistatic_gt,'_') ~ signif,\n",
    "                     TRUE ~ TRUE)) %>%\n",
    "    group_by(gene_set, mutated_gene) %>%\n",
    "    filter(n()==3) %>%\n",
    "    mutate(num_mutations = str_detect(epistatic_gt,'_')+1) %>%\n",
    "    select(gene_set, num_mutations, mutated_gene, ratio, signif) %>%\n",
    "    group_by(gene_set, mutated_gene, num_mutations) %>%\n",
    "    summarize(combined_effect=prod(ratio), .groups=\"drop_last\") %>%\n",
    "    spread(key = num_mutations, value = combined_effect) %>%\n",
    "    mutate(obs_over_exp_ratio = `2`/`1`) %>% \n",
    "    arrange(obs_over_exp_ratio)\n",
    "\n",
    "exp_and_obs_ratios %>%\n",
    "    select(gene_set, mutated_gene, obs_over_exp_ratio) %>%\n",
    "    ggplot(aes(x=reorder(paste0(mutated_gene,' [',gene_set,']'), -obs_over_exp_ratio), y=obs_over_exp_ratio)) +\n",
    "        geom_bar(stat='identity') + \n",
    "        geom_hline(yintercept = 1, lty=2, color=\"red\") +\n",
    "        theme(axis.title.x=element_blank(), axis.text.x = element_blank())"
   ]
  },
  {
   "cell_type": "code",
   "execution_count": null,
   "metadata": {
    "vscode": {
     "languageId": "r"
    }
   },
   "outputs": [],
   "source": [
    "# for each mutated gene in each gene set\n",
    "# need `epistatic ratio to WT` for all three non-WT genotypes\n",
    "# \n",
    "# only need to look at synergistic mutations\n",
    "# - defining sub-additive epistasis as synergistic effect of\n",
    "#   two mutations on a third that is less than the product of\n",
    "#   the individual synergistic effects of the two mutations\n",
    "exp_and_obs_ratios = \n",
    "    variant_M3_nonsmoking_interaction_df %>% \n",
    "    filter(epistatic_gt != \"WT\", ratio > 1) %>% \n",
    "    filter(case_when(!str_detect(epistatic_gt,'_') ~ signif,\n",
    "                     TRUE ~ TRUE)) %>%\n",
    "    group_by(gene_set, mutated_gene) %>%\n",
    "    filter(n()==3) %>%\n",
    "    mutate(num_mutations = str_detect(epistatic_gt,'_')+1) %>%\n",
    "    select(gene_set, num_mutations, mutated_gene, ratio, signif) %>%\n",
    "    group_by(gene_set, mutated_gene, num_mutations) %>%\n",
    "    summarize(combined_effect=prod(ratio), .groups=\"drop_last\") %>%\n",
    "    spread(key = num_mutations, value = combined_effect) %>%\n",
    "    mutate(obs_over_exp_ratio = `2`/`1`) %>% \n",
    "    arrange(obs_over_exp_ratio)\n",
    "\n",
    "exp_and_obs_ratios %>%\n",
    "    select(gene_set, mutated_gene, obs_over_exp_ratio) %>%\n",
    "    ggplot(aes(x=reorder(paste0(mutated_gene,' [',gene_set,']'), -obs_over_exp_ratio), y=obs_over_exp_ratio)) +\n",
    "        geom_bar(stat='identity') + \n",
    "        geom_hline(yintercept = 1, lty=2, color=\"red\") +\n",
    "        theme(axis.title.x=element_blank(), axis.text.x = element_blank())"
   ]
  },
  {
   "cell_type": "code",
   "execution_count": null,
   "metadata": {
    "vscode": {
     "languageId": "r"
    }
   },
   "outputs": [],
   "source": [
    "variant_M3_smoking_interaction_df %>% \n",
    "    filter(epistatic_gt != \"WT\") %>%\n",
    "    filter(case_when(!str_detect(epistatic_gt,'_') ~ !signif,\n",
    "                     str_detect(epistatic_gt,'_') ~ (signif & ratio<1))) %>%\n",
    "    group_by(gene_set, mutated_gene) %>%\n",
    "    filter(n()==3)"
   ]
  },
  {
   "cell_type": "code",
   "execution_count": null,
   "metadata": {
    "vscode": {
     "languageId": "r"
    }
   },
   "outputs": [],
   "source": [
    "variant_M3_nonsmoking_interaction_df %>% \n",
    "    filter(epistatic_gt != \"WT\") %>%\n",
    "    filter(case_when(!str_detect(epistatic_gt,'_') ~ !signif,\n",
    "                     str_detect(epistatic_gt,'_') ~ (signif & ratio<1))) %>%\n",
    "    group_by(gene_set, mutated_gene) %>%\n",
    "    filter(n()==3)"
   ]
  },
  {
   "cell_type": "code",
   "execution_count": null,
   "metadata": {
    "vscode": {
     "languageId": "r"
    }
   },
   "outputs": [],
   "source": [
    "variant_M3_smoking_interaction_df %>% \n",
    "    filter(epistatic_gt != \"WT\") %>%\n",
    "    filter(case_when(!str_detect(epistatic_gt,'_') ~ !signif,\n",
    "                     str_detect(epistatic_gt,'_') ~ (signif & ratio>1))) %>%\n",
    "    group_by(gene_set, mutated_gene) %>%\n",
    "    filter(n()==3)"
   ]
  },
  {
   "cell_type": "code",
   "execution_count": null,
   "metadata": {
    "vscode": {
     "languageId": "r"
    }
   },
   "outputs": [],
   "source": [
    "smoking_plotting_df %>% filter(extra_effect_strict) %>% select(gene_set, mutated_gene) %>% distinct() %>%\n",
    "    left_join(variant_M3_smoking_interaction_df, by = c(\"gene_set\", \"mutated_gene\")) %>%\n",
    "    filter(epistatic_gt != \"WT\") %>%\n",
    "    filter(case_when(!str_detect(epistatic_gt,'_') ~ !signif,\n",
    "                     str_detect(epistatic_gt,'_') ~ (signif & ratio>1))) %>%\n",
    "    group_by(gene_set, mutated_gene) %>%\n",
    "    filter(n()==3)"
   ]
  },
  {
   "cell_type": "code",
   "execution_count": null,
   "metadata": {
    "vscode": {
     "languageId": "r"
    }
   },
   "outputs": [],
   "source": [
    "nonsmoking_plotting_df %>% filter(extra_effect_strict) %>% select(gene_set, mutated_gene) %>% distinct() %>%\n",
    "    left_join(variant_M3_nonsmoking_interaction_df, by = c(\"gene_set\", \"mutated_gene\")) %>%\n",
    "    filter(epistatic_gt != \"WT\") %>%\n",
    "    arrange(gene_set) %>%\n",
    "    select(gene_set, mutated_gene, epistatic_gt, starts_with(\"gamma\"), ratio, signif)"
   ]
  },
  {
   "cell_type": "code",
   "execution_count": null,
   "metadata": {
    "vscode": {
     "languageId": "r"
    }
   },
   "outputs": [],
   "source": [
    "options(repr.plot.width = 22, repr.plot.height = 5.1)\n",
    "smoking_interactions_to_plot =c(\"KRAS [TP53]\", \"STK11 [KRAS]\", \"SMARCA4 [KRAS]\", \"BRCA2 [KEAP1]\",\n",
    "                                \"BRCA2 [TP53]\", \"SETD2 [TP53]\", \"APC [STK11]\", \"APC [KRAS]\",\n",
    "                                \"RB1 [KEAP1]\", \"EGFR [TP53]\")\n",
    "\n",
    "tmp_df = \n",
    "    smoking_plotting_df %>% filter(extra_effect_strict) %>%\n",
    "    bind_rows(variant_M3_smoking_interaction_df %>% filter(epistatic_gt==\"WT\") %>% mutate(pairwise_combo = combo_name)) %>%\n",
    "    #filter(pairwise_combo %in% smoking_interactions_to_plot) %>% \n",
    "    group_by(gene_set, pairwise_combo) %>% filter(n()==3) %>% ungroup() %>%\n",
    "    mutate(group = ifelse(epistatic_gt==\"WT\",\"WT\", ifelse(str_detect(epistatic_gt, \"_\"), \"Double-mutant\",\"Single-mutant\")),\n",
    "            nudge_dist = ifelse(group==\"Double-mutant\",0.1,ifelse(group==\"WT\",-0.1,0)), \n",
    "            label_nudge_dist = case_when(\n",
    "                nudge_dist<0 ~ nudge_dist-0.1,\n",
    "                nudge_dist==0 ~ 0.2,\n",
    "                nudge_dist>0 ~ nudge_dist+0.3#+0.27\n",
    "            )) %>%\n",
    "    select(gene_set, pairwise_combo, epistatic_gt, mutated_gene, starts_with(\"gamma\"), from_count, to_count, extra_effect_strict, group, ends_with(\"nudge_dist\")) %>%\n",
    "    #mutate(label = ifelse(epistatic_gt==\"WT\",'\\u00D8',gsub('_','+\\n',epistatic_gt))) %>%\n",
    "    rowwise() %>% mutate(label = ifelse(epistatic_gt==\"WT\",'',paste(sapply(strsplit(epistatic_gt, \"_\")[[1]], function(x) substr(x, 1, 1)), collapse = '+'))) %>% ungroup() %>%\n",
    "    group_by(gene_set, pairwise_combo) %>% mutate(max_gamma = max(gamma_mle)) %>% ungroup() %>%\n",
    "    mutate(order = ifelse(group==\"Double-mutant\", ifelse(gamma_mle == max_gamma, gamma_mle, -max_gamma), -Inf)) %>%\n",
    "    group_by(gene_set, pairwise_combo) %>% mutate(order = max(order), max_gamma = NULL) %>% ungroup() %>% \n",
    "    rowwise() %>% mutate(other_genes = gsub('(__|_)',',<br>',trimws(gsub(mutated_gene, '',gene_set), \"right\", '_'))) %>% ungroup() %>% \n",
    "    arrange(mutated_gene, other_genes, group) %>% mutate_cond(mutated_gene == \"SMARCA4\" & gene_set == \"KRAS_KEAP1_SMARCA4\" & group != \"WT\", label = c('KE+KR','KR'), label_nudge_dist = label_nudge_dist + c(0.15,0.075)) %>%\n",
    "    #mutate_cond(mutated_gene == \"BRCA2\" & gene_set == \"TP53_KEAP1_BRCA2\" & group == \"Single-mutant\", nudge_dist = c(-0.03,0.03), label_nudge_dist = nudge_dist+c(0.2,0.25)) %>%\n",
    "    distinct(epistatic_gt, mutated_gene, gene_set, .keep_all = T) # removes duplicate points from TP53_KEAP1_BRCA2 set\n",
    "\n",
    "p = tmp_df %>%\n",
    "    ggplot(aes(x=\n",
    "    reorder(paste0('**',mutated_gene,'**','<br>-------<br>',stringr::str_wrap(other_genes,10)),order), y=gamma_mle)) +\n",
    "        geom_errorbar(aes(ymin = gamma_ci_low, ymax = gamma_ci_high), position=position_nudge(tmp_df$nudge_dist), width=0) +\n",
    "        geom_point(aes(fill=group),position=position_nudge(tmp_df$nudge_dist),shape = 21,size=5) +\n",
    "        geom_text(aes(label=stringr::str_wrap(label,6)), nudge_x=tmp_df$label_nudge_dist, size=6,fontface=\"italic\") +\n",
    "        #geom_text_repel(aes(label=stringr::str_wrap(label,6)), nudge_x=tmp_df$label_nudge_dist, segment.color = NA, size=5, force=0.5) + #, position=position_nudge(tmp_df$label_nudge_dist), size=5) +\n",
    "        # scale_x_discrete(guide = guide_axis(n.dodge = 2)) +\n",
    "        #scale_x_discrete(labels = label_wrap(12)) +\n",
    "        scale_fill_brewer(palette = \"YlGnBu\",direction=1) +\n",
    "        ggbreak::scale_y_break(c(2.1e6, 3e6)) + \n",
    "        scale_y_continuous(breaks=c(seq(0,2e6,5e5),3e6), labels=scientific_expr) +\n",
    "        labs(x=\"Mutations within neighboring genotypes\",y=\"Scaled selection coefficient\") +\n",
    "        theme_classic() +\n",
    "        theme(axis.title = element_text(size = 22),\n",
    "                axis.text = element_text(size = 18),\n",
    "                axis.text.x = ggtext::element_markdown(size=18,face=\"italic\"),\n",
    "                axis.text.y.right = element_blank(),\n",
    "                axis.line.y.right = element_blank(),\n",
    "                axis.ticks.y.right = element_blank(),\n",
    "                legend.position = \"none\")\n",
    "                #panel.grid.major.x = element_line(color=\"gray\",linewidth=0.75, linetype=3))\n",
    "p"
   ]
  },
  {
   "cell_type": "code",
   "execution_count": 118,
   "metadata": {
    "vscode": {
     "languageId": "r"
    }
   },
   "outputs": [],
   "source": [
    "ggsave(paste0(location_figures, 'GxGxG_smoker_new.png'),p,width = 22, height=5.1)"
   ]
  },
  {
   "cell_type": "code",
   "execution_count": null,
   "metadata": {
    "vscode": {
     "languageId": "r"
    }
   },
   "outputs": [],
   "source": [
    "options(repr.plot.width = 5, repr.plot.height = 5.6)\n",
    "tmp_df = \n",
    "    nonsmoking_plotting_df %>% filter(extra_effect_strict) %>%\n",
    "    bind_rows(variant_M3_nonsmoking_interaction_df %>% filter(epistatic_gt==\"WT\") %>% mutate(pairwise_combo = combo_name)) %>%\n",
    "    group_by(gene_set, pairwise_combo) %>% filter(n()==3) %>% ungroup() %>%\n",
    "    mutate(group = ifelse(epistatic_gt==\"WT\",\"WT\", ifelse(str_detect(epistatic_gt, \"_\"), \"Double-mutant\",\"Single-mutant\")),\n",
    "            nudge_dist = ifelse(group==\"Double-mutant\",0.1,ifelse(group==\"WT\",-0.1,0)), \n",
    "            label_nudge_dist = case_when(\n",
    "                nudge_dist<0 ~ nudge_dist-0.1,\n",
    "                nudge_dist==0 ~ 0.2,\n",
    "                nudge_dist>0 ~ nudge_dist+0.3#+0.27\n",
    "            )) %>%\n",
    "    select(gene_set, pairwise_combo, epistatic_gt, mutated_gene, starts_with(\"gamma\"), from_count, to_count, extra_effect_strict, group, ends_with(\"nudge_dist\")) %>%\n",
    "    #mutate(label = ifelse(epistatic_gt==\"WT\",'\\u00D8',gsub('_','+\\n',epistatic_gt))) %>%\n",
    "    rowwise() %>% mutate(label = ifelse(epistatic_gt==\"WT\",'',paste(sapply(strsplit(epistatic_gt, \"_\")[[1]], function(x) substr(x, 1, 1)), collapse = '+'))) %>% ungroup() %>%\n",
    "    rowwise() %>% mutate(other_genes = gsub('(__|_)',',<br>',trimws(gsub(mutated_gene, '',gene_set), \"right\", '_'))) %>% ungroup()\n",
    "\n",
    "p = tmp_df %>%\n",
    "    ggplot(aes(x=paste0('**',mutated_gene,'**','<br>-------<br>',stringr::str_wrap(other_genes,12)), y=gamma_mle)) +\n",
    "        geom_errorbar(aes(ymin = gamma_ci_low, ymax = gamma_ci_high), position=position_nudge(tmp_df$nudge_dist), width=0) +\n",
    "        geom_point(aes(fill=group),position=position_nudge(tmp_df$nudge_dist),shape = 21,size=5) +\n",
    "        geom_text(aes(label=stringr::str_wrap(label,6)), nudge_x=tmp_df$label_nudge_dist, size=6, fontface=\"italic\") +\n",
    "        #geom_text_repel(aes(label=stringr::str_wrap(label,6)), nudge_x=tmp_df$label_nudge_dist, segment.color = NA, size=5, force=0.5) + #, position=position_nudge(tmp_df$label_nudge_dist), size=5) +\n",
    "        # scale_x_discrete(guide = guide_axis(n.dodge = 2)) +\n",
    "        #scale_x_discrete(labels = label_wrap(12)) +\n",
    "        scale_fill_brewer(palette = \"YlGnBu\",direction=1) +\n",
    "        ggbreak::scale_y_break(c(7e6, 1.9e7)) + \n",
    "        scale_y_continuous(breaks=c(seq(0,7e6,2e6),1.9e7), labels=scientific_expr) +\n",
    "        labs(x=stringr::str_wrap(\"Mutations within neighboring genotypes\",25),y=\"Scaled selection coefficient\") +\n",
    "        theme_classic() +\n",
    "        theme(axis.title = element_text(size = 22),\n",
    "                axis.text.y = element_text(size = 18),\n",
    "                axis.text.x = ggtext::element_markdown(size=18, face=\"italic\"),\n",
    "                axis.text.y.right = element_blank(),\n",
    "                axis.line.y.right = element_blank(),\n",
    "                axis.ticks.y.right = element_blank(),\n",
    "                legend.position = \"none\")\n",
    "                #panel.grid.major.x = element_line(color=\"gray\",linewidth=0.75, linetype=3))\n",
    "p"
   ]
  },
  {
   "cell_type": "code",
   "execution_count": 121,
   "metadata": {
    "vscode": {
     "languageId": "r"
    }
   },
   "outputs": [],
   "source": [
    "ggsave(paste0(location_figures, 'GxGxG_nonsmoker_new.png'),p,width = 5, height=5.6)"
   ]
  },
  {
   "cell_type": "code",
   "execution_count": null,
   "metadata": {
    "vscode": {
     "languageId": "r"
    }
   },
   "outputs": [],
   "source": [
    "options(repr.plot.width = 8, repr.plot.height = 8)\n",
    "variant_M3_nonsmoking_interaction_df %>% filter(gene_set == \"EGFR_PIK3CA_ARID1A\", mutated_gene == \"ARID1A\") %>% distinct(epistatic_gt, .keep_all = T) %>%\n",
    "ggplot(aes(x=epistatic_gt, y=gamma_mle)) + \n",
    "    geom_point() +\n",
    "    geom_errorbar(aes(ymin=gamma_ci_low, ymax=gamma_ci_high), width=0) +\n",
    "    theme_bw()"
   ]
  }
 ],
 "metadata": {
  "kernelspec": {
   "display_name": "R",
   "language": "R",
   "name": "ir"
  },
  "language_info": {
   "codemirror_mode": "r",
   "file_extension": ".r",
   "mimetype": "text/x-r-source",
   "name": "R",
   "pygments_lexer": "r",
   "version": "4.3.0"
  }
 },
 "nbformat": 4,
 "nbformat_minor": 2
}
