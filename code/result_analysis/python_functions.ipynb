{
 "cells": [
  {
   "cell_type": "markdown",
   "metadata": {},
   "source": [
    "# Convert numpy arrays to dataframes to work with in R"
   ]
  },
  {
   "cell_type": "code",
   "execution_count": 6,
   "metadata": {},
   "outputs": [
    {
     "name": "stdout",
     "output_type": "stream",
     "text": [
      "/home/jorge/documents/projects/lung-smoking/output\n"
     ]
    }
   ],
   "source": [
    "import os\n",
    "import sys\n",
    "import pandas as pd\n",
    "import numpy as np\n",
    "\n",
    "sys.path.insert(0, '../')\n",
    "\n",
    "from locations import location_output"
   ]
  },
  {
   "cell_type": "code",
   "execution_count": 7,
   "metadata": {},
   "outputs": [
    {
     "ename": "IndexError",
     "evalue": "tuple index out of range",
     "output_type": "error",
     "traceback": [
      "\u001b[0;31m---------------------------------------------------------------------------\u001b[0m",
      "\u001b[0;31mIndexError\u001b[0m                                Traceback (most recent call last)",
      "Input \u001b[0;32mIn [7]\u001b[0m, in \u001b[0;36m<cell line: 36>\u001b[0;34m()\u001b[0m\n\u001b[1;32m     51\u001b[0m         \u001b[38;5;28;01mfor\u001b[39;00m mutation, selection_mle \u001b[38;5;129;01min\u001b[39;00m mutations\u001b[38;5;241m.\u001b[39mitems():\n\u001b[1;32m     52\u001b[0m             selection_ci \u001b[38;5;241m=\u001b[39m selection_cis[key][combo][mutation]\n\u001b[0;32m---> 53\u001b[0m             selection_row \u001b[38;5;241m=\u001b[39m [method, key, combo[\u001b[38;5;241m0\u001b[39m], \u001b[43mcombo\u001b[49m\u001b[43m[\u001b[49m\u001b[38;5;241;43m1\u001b[39;49m\u001b[43m]\u001b[49m, mutation, selection_mle, selection_ci[\u001b[38;5;241m0\u001b[39m], selection_ci[\u001b[38;5;241m1\u001b[39m]]\n\u001b[1;32m     54\u001b[0m             selection_rows\u001b[38;5;241m.\u001b[39mappend(selection_row)\n\u001b[1;32m     56\u001b[0m \u001b[38;5;28;01mfor\u001b[39;00m key, gene_data \u001b[38;5;129;01min\u001b[39;00m fluxes_mles\u001b[38;5;241m.\u001b[39mitems():\n",
      "\u001b[0;31mIndexError\u001b[0m: tuple index out of range"
     ]
    }
   ],
   "source": [
    "selection_rows = []\n",
    "flux_rows = []\n",
    "results_keys = [\"pan_data\",\"smoking\",\"nonsmoking\",\"smoking_plus\",\"nonsmoking_plus\"]\n",
    "# results_keys = [\"pan_data\",\"smoking_plus\",\"nonsmoking_plus\"]\n",
    "# results_keys = [\"smoking_plus\"]\n",
    "Mk = \"M2\"\n",
    "gene_or_pathway = \"genes\"\n",
    "\n",
    "#for method in [\"variant\",\"cesR\"]:\n",
    "for method in [\"cesR\"]:\n",
    "\n",
    "    directory = location_output + \"/output_for_transfer/\" + gene_or_pathway + \"/\" + method + \"/\" + Mk + \"/\"\n",
    "    \n",
    "    fluxes_mles = {\n",
    "        key: np.load(directory + key + \"_\" + \"fluxes_mles.npy\", allow_pickle=True).item()\n",
    "        for key in results_keys\n",
    "    }\n",
    "\n",
    "    fluxes_cis = {\n",
    "        key: np.load(directory + key + \"_\" + \"fluxes_cis.npy\", allow_pickle=True).item()\n",
    "        for key in results_keys\n",
    "    }\n",
    "\n",
    "    selection_mles = {\n",
    "        key: np.load(directory + key + \"_\" + \"selections_mles.npy\", allow_pickle=True).item()\n",
    "        for key in results_keys\n",
    "    }\n",
    "\n",
    "    selection_cis = {\n",
    "        key: np.load(directory + key + \"_\" + \"selections_cis.npy\", allow_pickle=True).item()\n",
    "        for key in results_keys\n",
    "    }\n",
    "\n",
    "\n",
    "\n",
    "if Mk == \"M1\" or Mk == \"M1_all\":\n",
    "    for key, gene_data in selection_mles.items():\n",
    "        for gene, selection in gene_data.items():\n",
    "            selection_ci = list(selection_cis[key][gene].values())[0]\n",
    "            selection_row = [method, key, gene[0], list(selection.values())[0], selection_ci[0], selection_ci[1]]\n",
    "            selection_rows.append(selection_row)\n",
    "\n",
    "    for key, gene_data in fluxes_mles.items():\n",
    "        for gene, flux in gene_data.items():\n",
    "            flux_ci = list(fluxes_cis[key][gene].values())[0]\n",
    "            flux_row = [method, key, gene[0], list(flux.values())[0], flux_ci[0], flux_ci[1]]\n",
    "            flux_rows.append(flux_row)\n",
    "elif Mk == \"M2\":\n",
    "    for key, gene_data in selection_mles.items():\n",
    "        for combo, mutations in gene_data.items():\n",
    "            for mutation, selection_mle in mutations.items():\n",
    "                selection_ci = selection_cis[key][combo][mutation]\n",
    "                selection_row = [method, key, combo[0], combo[1], mutation, selection_mle, selection_ci[0], selection_ci[1]]\n",
    "                selection_rows.append(selection_row)\n",
    "\n",
    "    for key, gene_data in fluxes_mles.items():\n",
    "        for combo, mutations in gene_data.items():\n",
    "            for mutation, flux_mle in mutations.items():\n",
    "                flux_ci = fluxes_cis[key][combo][mutation]\n",
    "                flux_row = [method, key, combo[0], combo[1], mutation, flux_mle, flux_ci[0], flux_ci[1]]\n",
    "                flux_rows.append(flux_row)\n",
    "elif Mk == \"M3\":\n",
    "    for key, gene_data in selection_mles.items():\n",
    "        for combo, mutations in gene_data.items():\n",
    "            for mutation, selection_mle in mutations.items():\n",
    "                selection_ci = selection_cis[key][combo][mutation]\n",
    "                selection_row = [method, key, combo[0], combo[1], combo[2], mutation, selection_mle, selection_ci[0], selection_ci[1]]\n",
    "                selection_rows.append(selection_row)\n",
    "\n",
    "    for key, gene_data in fluxes_mles.items():\n",
    "        for combo, mutations in gene_data.items():\n",
    "            for mutation, flux_mle in mutations.items():\n",
    "                flux_ci = fluxes_cis[key][combo][mutation]\n",
    "                flux_row = [method, key, combo[0], combo[1], combo[2], mutation, flux_mle, flux_ci[0], flux_ci[1]]\n",
    "                flux_rows.append(flux_row)\n",
    "else:\n",
    "    raise Exception('invalid Mk')"
   ]
  },
  {
   "cell_type": "code",
   "execution_count": 32,
   "metadata": {},
   "outputs": [],
   "source": [
    "if Mk == \"M1\" or Mk == \"M1_all\":\n",
    "    selection_df = pd.DataFrame(selection_rows, columns=['method', 'key', 'gene', 'gamma_mle', 'gamma_ci_low', 'gamma_ci_high'])\n",
    "    flux_df = pd.DataFrame(flux_rows, columns=['method', 'key', 'gene', 'flux_mle', 'flux_ci_low', 'flux_ci_high'])\n",
    "elif Mk == \"M2\":\n",
    "    selection_df = pd.DataFrame(selection_rows, columns=['method', 'key', 'first_gene', 'second_gene', 'mutation', 'gamma_mle', 'gamma_ci_low', 'gamma_ci_high'])\n",
    "    flux_df = pd.DataFrame(flux_rows, columns=['method', 'key', 'first_gene', 'second_gene', 'mutation', 'flux_mle', 'flux_ci_low', 'flux_ci_high'])\n",
    "elif Mk == \"M3\":\n",
    "    selection_df = pd.DataFrame(selection_rows, columns=['method', 'key', 'first_gene', 'second_gene', 'third_gene', 'mutation', 'gamma_mle', 'gamma_ci_low', 'gamma_ci_high'])\n",
    "    flux_df = pd.DataFrame(flux_rows, columns=['method', 'key', 'first_gene', 'second_gene', 'third_gene', 'mutation', 'flux_mle', 'flux_ci_low', 'flux_ci_high'])\n",
    "else:\n",
    "    raise Exception('invalid Mk')"
   ]
  },
  {
   "cell_type": "code",
   "execution_count": 33,
   "metadata": {},
   "outputs": [],
   "source": [
    "selection_df.to_csv(Mk + \"_gene_gammas.csv\", index=False)\n",
    "flux_df.to_csv(Mk + \"_gene_fluxes.csv\", index=False)\n",
    "mutation_rates_df.to_csv(\"mutation_rates.csv\", index=False)"
   ]
  },
  {
   "cell_type": "code",
   "execution_count": 34,
   "metadata": {},
   "outputs": [],
   "source": [
    "cesR_mu_df = pd.read_csv(os.path.join(location_output, 'output_for_transfer/genes/mus',\n",
    "                                                          'pan_data_mutation_rates.txt'),\n",
    "                                                          index_col=0).assign(key = \"pan_data\")\n",
    "cesR_mu_df = pd.concat([cesR_mu_df,\n",
    "                       pd.read_csv(os.path.join(location_output, 'output_for_transfer/genes/mus',\n",
    "                                                          'smoking_mutation_rates.txt'),\n",
    "                                                          index_col=0).assign(key = \"smoking\")])\n",
    "cesR_mu_df = pd.concat([cesR_mu_df,\n",
    "                       pd.read_csv(os.path.join(location_output, 'output_for_transfer/genes/mus',\n",
    "                                                          'nonsmoking_mutation_rates.txt'),\n",
    "                                                          index_col=0).assign(key = \"nonsmoking\")])\n",
    "\n",
    "cesR_mu_df = cesR_mu_df.assign(method = \"cesR\")\n",
    "cesR_mu_df = cesR_mu_df.reset_index()\n",
    "cesR_mu_df.columns = \"gene\", \"rate\", \"rate_ci_low\", \"rate_ci_high\", \"key\", \"method\""
   ]
  },
  {
   "cell_type": "code",
   "execution_count": 36,
   "metadata": {},
   "outputs": [],
   "source": [
    "variant_based_mutation_rates = pd.read_csv(os.path.join(location_output, 'output_for_transfer/genes/mus',\n",
    "                                                        'variant_based_mutation_rates.txt'),\n",
    "                                                        index_col=0)\n",
    "variant_based_mutation_rates.columns = \"pan_data\",\"smoking\",\"nonsmoking\"\n",
    "variant_based_mutation_rates = variant_based_mutation_rates.to_dict()\n",
    "\n",
    "variant_mu_data = [(\"variant\",key, gene, rate) for key, gene_rates in variant_based_mutation_rates.items()\n",
    "        for gene, rate in gene_rates.items()]\n",
    "\n",
    "variant_mu_df = pd.DataFrame(variant_mu_data, columns=['method', 'key', 'gene', 'rate'])"
   ]
  },
  {
   "cell_type": "code",
   "execution_count": 39,
   "metadata": {},
   "outputs": [],
   "source": [
    "mutation_rates_df = pd.concat([cesR_mu_df, variant_mu_df])"
   ]
  },
  {
   "cell_type": "code",
   "execution_count": 41,
   "metadata": {},
   "outputs": [],
   "source": [
    "selection_df.to_csv(Mk + \"_gene_gammas.csv\", index=False)\n",
    "flux_df.to_csv(Mk + \"_gene_fluxes.csv\", index=False)\n",
    "mutation_rates_df.to_csv(\"mutation_rates.csv\", index=False)"
   ]
  },
  {
   "cell_type": "code",
   "execution_count": 40,
   "metadata": {},
   "outputs": [
    {
     "data": {
      "text/html": [
       "<div>\n",
       "<style scoped>\n",
       "    .dataframe tbody tr th:only-of-type {\n",
       "        vertical-align: middle;\n",
       "    }\n",
       "\n",
       "    .dataframe tbody tr th {\n",
       "        vertical-align: top;\n",
       "    }\n",
       "\n",
       "    .dataframe thead th {\n",
       "        text-align: right;\n",
       "    }\n",
       "</style>\n",
       "<table border=\"1\" class=\"dataframe\">\n",
       "  <thead>\n",
       "    <tr style=\"text-align: right;\">\n",
       "      <th></th>\n",
       "      <th>gene</th>\n",
       "      <th>rate</th>\n",
       "      <th>rate_ci_low</th>\n",
       "      <th>rate_ci_high</th>\n",
       "      <th>key</th>\n",
       "      <th>method</th>\n",
       "    </tr>\n",
       "  </thead>\n",
       "  <tbody>\n",
       "    <tr>\n",
       "      <th>0</th>\n",
       "      <td>A1BG</td>\n",
       "      <td>1.672345e-06</td>\n",
       "      <td>0.000002</td>\n",
       "      <td>0.000002</td>\n",
       "      <td>pan_data</td>\n",
       "      <td>cesR</td>\n",
       "    </tr>\n",
       "    <tr>\n",
       "      <th>1</th>\n",
       "      <td>A1CF</td>\n",
       "      <td>3.495583e-06</td>\n",
       "      <td>0.000003</td>\n",
       "      <td>0.000004</td>\n",
       "      <td>pan_data</td>\n",
       "      <td>cesR</td>\n",
       "    </tr>\n",
       "    <tr>\n",
       "      <th>2</th>\n",
       "      <td>A2M</td>\n",
       "      <td>1.712413e-06</td>\n",
       "      <td>0.000002</td>\n",
       "      <td>0.000002</td>\n",
       "      <td>pan_data</td>\n",
       "      <td>cesR</td>\n",
       "    </tr>\n",
       "    <tr>\n",
       "      <th>3</th>\n",
       "      <td>A2ML1</td>\n",
       "      <td>2.495659e-06</td>\n",
       "      <td>0.000002</td>\n",
       "      <td>0.000003</td>\n",
       "      <td>pan_data</td>\n",
       "      <td>cesR</td>\n",
       "    </tr>\n",
       "    <tr>\n",
       "      <th>4</th>\n",
       "      <td>A3GALT2</td>\n",
       "      <td>1.056848e-06</td>\n",
       "      <td>0.000001</td>\n",
       "      <td>0.000001</td>\n",
       "      <td>pan_data</td>\n",
       "      <td>cesR</td>\n",
       "    </tr>\n",
       "    <tr>\n",
       "      <th>...</th>\n",
       "      <td>...</td>\n",
       "      <td>...</td>\n",
       "      <td>...</td>\n",
       "      <td>...</td>\n",
       "      <td>...</td>\n",
       "      <td>...</td>\n",
       "    </tr>\n",
       "    <tr>\n",
       "      <th>5824</th>\n",
       "      <td>AK4</td>\n",
       "      <td>NaN</td>\n",
       "      <td>NaN</td>\n",
       "      <td>NaN</td>\n",
       "      <td>nonsmoking</td>\n",
       "      <td>variant</td>\n",
       "    </tr>\n",
       "    <tr>\n",
       "      <th>5825</th>\n",
       "      <td>OXA1L</td>\n",
       "      <td>1.304412e-09</td>\n",
       "      <td>NaN</td>\n",
       "      <td>NaN</td>\n",
       "      <td>nonsmoking</td>\n",
       "      <td>variant</td>\n",
       "    </tr>\n",
       "    <tr>\n",
       "      <th>5826</th>\n",
       "      <td>IL1B</td>\n",
       "      <td>3.632504e-10</td>\n",
       "      <td>NaN</td>\n",
       "      <td>NaN</td>\n",
       "      <td>nonsmoking</td>\n",
       "      <td>variant</td>\n",
       "    </tr>\n",
       "    <tr>\n",
       "      <th>5827</th>\n",
       "      <td>CPEB3</td>\n",
       "      <td>NaN</td>\n",
       "      <td>NaN</td>\n",
       "      <td>NaN</td>\n",
       "      <td>nonsmoking</td>\n",
       "      <td>variant</td>\n",
       "    </tr>\n",
       "    <tr>\n",
       "      <th>5828</th>\n",
       "      <td>RRP9</td>\n",
       "      <td>7.817898e-10</td>\n",
       "      <td>NaN</td>\n",
       "      <td>NaN</td>\n",
       "      <td>nonsmoking</td>\n",
       "      <td>variant</td>\n",
       "    </tr>\n",
       "  </tbody>\n",
       "</table>\n",
       "<p>66102 rows × 6 columns</p>\n",
       "</div>"
      ],
      "text/plain": [
       "         gene          rate  rate_ci_low  rate_ci_high         key   method\n",
       "0        A1BG  1.672345e-06     0.000002      0.000002    pan_data     cesR\n",
       "1        A1CF  3.495583e-06     0.000003      0.000004    pan_data     cesR\n",
       "2         A2M  1.712413e-06     0.000002      0.000002    pan_data     cesR\n",
       "3       A2ML1  2.495659e-06     0.000002      0.000003    pan_data     cesR\n",
       "4     A3GALT2  1.056848e-06     0.000001      0.000001    pan_data     cesR\n",
       "...       ...           ...          ...           ...         ...      ...\n",
       "5824      AK4           NaN          NaN           NaN  nonsmoking  variant\n",
       "5825    OXA1L  1.304412e-09          NaN           NaN  nonsmoking  variant\n",
       "5826     IL1B  3.632504e-10          NaN           NaN  nonsmoking  variant\n",
       "5827    CPEB3           NaN          NaN           NaN  nonsmoking  variant\n",
       "5828     RRP9  7.817898e-10          NaN           NaN  nonsmoking  variant\n",
       "\n",
       "[66102 rows x 6 columns]"
      ]
     },
     "execution_count": 40,
     "metadata": {},
     "output_type": "execute_result"
    }
   ],
   "source": [
    "mutation_rates_df"
   ]
  },
  {
   "cell_type": "markdown",
   "metadata": {},
   "source": [
    "# Plotting trajectories"
   ]
  },
  {
   "cell_type": "code",
   "execution_count": 49,
   "metadata": {},
   "outputs": [],
   "source": [
    "import os\n",
    "import sys\n",
    "import pandas as pd\n",
    "import numpy as np\n",
    "\n",
    "from cancer_epistasis import convert_samples_to_dict\n",
    "\n",
    "from locations import location_output\n",
    "\n",
    "from landscape_plotting import plot_landscape\n",
    "from landscape_plotting import positions_landscape\n",
    "\n",
    "from theory import order_pos_lambdas\n",
    "from theory import build_S_as_array\n",
    "\n",
    "fluxes_mles = {key: np.load(location_output + \"/\" + key + \"_\" + \"fluxes_mles.npy\", allow_pickle=True).item()\n",
    "            for key in results_keys}\n",
    "fluxes_cis = {key: np.load(location_output + \"/\" + key + \"_\" + \"fluxes_cis.npy\", allow_pickle=True).item()\n",
    "            for key in results_keys}\n",
    "selection_mles = {key: np.load(location_output + \"/\" + key + \"_\" + \"selections_mles.npy\", allow_pickle=True).item()\n",
    "            for key in results_keys}\n",
    "selection_cis = {key: np.load(location_output + \"/\" + key + \"_\" + \"selections_cis.npy\", allow_pickle=True).item()\n",
    "            for key in results_keys}"
   ]
  },
  {
   "cell_type": "code",
   "execution_count": 39,
   "metadata": {},
   "outputs": [],
   "source": [
    "cesR_mu_df = pd.read_csv(os.path.join(location_output, \n",
    "                                      'pan_data_mutation_rates.txt'),\n",
    "                         index_col=0).assign(key = \"pan_data\")\n",
    "cesR_mu_df = pd.concat([cesR_mu_df,\n",
    "                       pd.read_csv(os.path.join(location_output, \n",
    "                                                'smoking_mutation_rates.txt'),\n",
    "                                   index_col=0).assign(key = \"smoking\")])\n",
    "cesR_mu_df = pd.concat([cesR_mu_df,\n",
    "                       pd.read_csv(os.path.join(location_output,\n",
    "                                                'nonsmoking_mutation_rates.txt'),\n",
    "                                   index_col=0).assign(key = \"nonsmoking\")])\n",
    "\n",
    "cesR_mu_df = cesR_mu_df.assign(method = \"cesR\")\n",
    "cesR_mu_df = cesR_mu_df.reset_index()\n",
    "cesR_mu_df.columns = \"gene\", \"rate\", \"rate_ci_low\", \"rate_ci_high\", \"key\", \"method\"\n",
    "\n",
    "cesR_mu_dict = cesR_mu_df.drop([\"method\",\"rate_ci_low\",\"rate_ci_high\"],axis=1).groupby('key').apply(lambda x: dict(zip(x.gene, x.rate))).to_dict()"
   ]
  },
  {
   "cell_type": "code",
   "execution_count": 40,
   "metadata": {},
   "outputs": [],
   "source": [
    "all_samples = {dataset_key: np.load(location_output + \"/\" + dataset_key + \"_samples.npy\", allow_pickle=True).item()\n",
    "              for dataset_key in results_keys}\n",
    "\n",
    "# sample_dict = {M:{key:value for key,value in all_samples.items() if len(key) == M} for M in [1,2,3]}\n",
    "# for k in range(2,4):\n",
    "#     Mk = \"M\"+str(k)\n",
    "#     sample_dict[Mk] = dict()\n",
    "\n",
    "#     sample_keys = list(positions_landscape(k, 'left_to_right').keys())\n",
    "#     empty_keys = np.where([-1 in tup for tup in list(positions_landscape(k, 'left_to_right').keys())])[0]\n",
    "\n",
    "#     for dataset_key in results_keys:\n",
    "#         sample_dict[Mk][dataset_key] = dict()\n",
    "\n",
    "#         sample_dict = np.load(location_output + \"/\" + dataset_key + \"_samples.npy\", allow_pickle=True).item()\n",
    "        # gene_combos = list(Mk_samples.keys())\n",
    "        # for row in range(len(gene_combos)):\n",
    "        #     #gene_combo_key_name = tuple(gene_combos[row].strip('()').split(\",\"))\n",
    "        #     gene_combo_key_name = gene_combos[row]\n",
    "        #     sample_dict[Mk][dataset_key][gene_combo_key_name] = dict()\n",
    "        #     for i in range(len(sample_keys)):\n",
    "        #         if i in empty_keys:\n",
    "        #             sample_dict[Mk][dataset_key][gene_combo_key_name][sample_keys[i]] = 0\n",
    "        #         else: \n",
    "        #             sample_dict[Mk][dataset_key][gene_combo_key_name][sample_keys[i]] = Mk_samples.loc[row,str(sample_keys[i])]\n",
    "\n",
    "# sample_dict\n"
   ]
  },
  {
   "cell_type": "code",
   "execution_count": 50,
   "metadata": {},
   "outputs": [],
   "source": [
    "def plot_trajectory(gene_list, dataset_key, param=\"selection\", scale_circle_areas=0.01,multiplier_font_size=1.5,scale_arrows=None):\n",
    "    if not isinstance(gene_list,list):\n",
    "        raise TypeError(\"`gene_list` must be a list of genes\")\n",
    "    if param not in [\"fixation\",\"mutation\",\"selection\"]: \n",
    "        raise ValueError(\"`param` must be one of 'fixation','mutation','selection'\")\n",
    "    if scale_arrows is None:\n",
    "        if param == \"fixation\": scale_arrows = 1\n",
    "        elif param == \"mutation\": scale_arrows = 1*10**5\n",
    "        elif param == \"selection\": scale_arrows = 0.5*10**(-6)\n",
    "    \n",
    "    Mk = \"M\" + str(len(gene_list))\n",
    "    gene_tuple = tuple(gene_list)\n",
    "\n",
    "    if param == \"fixation\": values = fluxes_mles[dataset_key][gene_tuple]\n",
    "    elif param == \"mutation\": \n",
    "        T = order_pos_lambdas(build_S_as_array(len(gene_list))) # list of transitions\n",
    "        T_ = np.array(T)\n",
    "        mutated_indices = np.where(T_[:,1] - T_[:,0])[1] # mutated gene for each transition\n",
    "        values = {T[i]: cesR_mu_dict[dataset_key][gene_tuple[mutated_indices[i]]] for i in range(len(T))} # create dictionary with mutation rates\n",
    "    elif param == \"selection\": values = selection_mles[dataset_key][gene_tuple]\n",
    "\n",
    "    p = plot_landscape(\n",
    "        arrows = values,\n",
    "        circle_areas = convert_samples_to_dict(all_samples[dataset_key][gene_tuple]),\n",
    "        mutation_names = gene_tuple,\n",
    "        scale_arrows=scale_arrows,\n",
    "        positions=\"left_to_right\",\n",
    "        include_n_circles=True,\n",
    "        scale_circle_areas=scale_circle_areas,\n",
    "        multiplier_font_size=multiplier_font_size,\n",
    "        plot_name='trajectory' + dataset_key + '_'.join(gene_tuple) + param\n",
    "    )\n",
    "    return p"
   ]
  },
  {
   "cell_type": "code",
   "execution_count": 66,
   "metadata": {},
   "outputs": [
    {
     "data": {
      "text/plain": [
       "{((0, 0), (0, 1)): 0.10680725084048852,\n",
       " ((0, 0), (1, 0)): 0.5384930562994666,\n",
       " ((0, 1), (1, 1)): 2.0127656806856186e-30,\n",
       " ((1, 0), (1, 1)): 0.3215811610988313}"
      ]
     },
     "execution_count": 66,
     "metadata": {},
     "output_type": "execute_result"
    }
   ],
   "source": [
    "fluxes_mles['pan_data'][('TP53', 'EGFR')]"
   ]
  },
  {
   "cell_type": "code",
   "execution_count": 64,
   "metadata": {},
   "outputs": [
    {
     "name": "stderr",
     "output_type": "stream",
     "text": [
      "/home/jorge/documents/projects/lung-smoking/code/result_analysis/../landscape_plotting.py:38: RuntimeWarning: divide by zero encountered in double_scalars\n",
      "  step_unit = 0.5*M/(+ max_edges_per_col//2\n",
      "/home/jorge/documents/projects/lung-smoking/code/result_analysis/../landscape_plotting.py:44: RuntimeWarning: invalid value encountered in double_scalars\n",
      "  start_pos = (+ len(x_with_m)//2\n",
      "/home/jorge/documents/projects/lung-smoking/code/result_analysis/../landscape_plotting.py:48: RuntimeWarning: invalid value encountered in double_scalars\n",
      "  positions[x] = np.array([m, start_pos - i*step_unit])\n",
      "posx and posy should be finite values\n",
      "posx and posy should be finite values\n"
     ]
    },
    {
     "ename": "ValueError",
     "evalue": "need at least one array to concatenate",
     "output_type": "error",
     "traceback": [
      "\u001b[0;31m---------------------------------------------------------------------------\u001b[0m",
      "\u001b[0;31mValueError\u001b[0m                                Traceback (most recent call last)",
      "File \u001b[0;32m~/opt/pyenv/versions/3.9.5/lib/python3.9/site-packages/IPython/core/formatters.py:339\u001b[0m, in \u001b[0;36mBaseFormatter.__call__\u001b[0;34m(self, obj)\u001b[0m\n\u001b[1;32m    337\u001b[0m     \u001b[38;5;28;01mpass\u001b[39;00m\n\u001b[1;32m    338\u001b[0m \u001b[38;5;28;01melse\u001b[39;00m:\n\u001b[0;32m--> 339\u001b[0m     \u001b[38;5;28;01mreturn\u001b[39;00m \u001b[43mprinter\u001b[49m\u001b[43m(\u001b[49m\u001b[43mobj\u001b[49m\u001b[43m)\u001b[49m\n\u001b[1;32m    340\u001b[0m \u001b[38;5;66;03m# Finally look for special method names\u001b[39;00m\n\u001b[1;32m    341\u001b[0m method \u001b[38;5;241m=\u001b[39m get_real_method(obj, \u001b[38;5;28mself\u001b[39m\u001b[38;5;241m.\u001b[39mprint_method)\n",
      "File \u001b[0;32m~/opt/pyenv/versions/3.9.5/lib/python3.9/site-packages/IPython/core/pylabtools.py:151\u001b[0m, in \u001b[0;36mprint_figure\u001b[0;34m(fig, fmt, bbox_inches, base64, **kwargs)\u001b[0m\n\u001b[1;32m    148\u001b[0m     \u001b[38;5;28;01mfrom\u001b[39;00m \u001b[38;5;21;01mmatplotlib\u001b[39;00m\u001b[38;5;21;01m.\u001b[39;00m\u001b[38;5;21;01mbackend_bases\u001b[39;00m \u001b[38;5;28;01mimport\u001b[39;00m FigureCanvasBase\n\u001b[1;32m    149\u001b[0m     FigureCanvasBase(fig)\n\u001b[0;32m--> 151\u001b[0m \u001b[43mfig\u001b[49m\u001b[38;5;241;43m.\u001b[39;49m\u001b[43mcanvas\u001b[49m\u001b[38;5;241;43m.\u001b[39;49m\u001b[43mprint_figure\u001b[49m\u001b[43m(\u001b[49m\u001b[43mbytes_io\u001b[49m\u001b[43m,\u001b[49m\u001b[43m \u001b[49m\u001b[38;5;241;43m*\u001b[39;49m\u001b[38;5;241;43m*\u001b[39;49m\u001b[43mkw\u001b[49m\u001b[43m)\u001b[49m\n\u001b[1;32m    152\u001b[0m data \u001b[38;5;241m=\u001b[39m bytes_io\u001b[38;5;241m.\u001b[39mgetvalue()\n\u001b[1;32m    153\u001b[0m \u001b[38;5;28;01mif\u001b[39;00m fmt \u001b[38;5;241m==\u001b[39m \u001b[38;5;124m'\u001b[39m\u001b[38;5;124msvg\u001b[39m\u001b[38;5;124m'\u001b[39m:\n",
      "File \u001b[0;32m~/opt/pyenv/versions/3.9.5/lib/python3.9/site-packages/matplotlib/backend_bases.py:2299\u001b[0m, in \u001b[0;36mFigureCanvasBase.print_figure\u001b[0;34m(self, filename, dpi, facecolor, edgecolor, orientation, format, bbox_inches, pad_inches, bbox_extra_artists, backend, **kwargs)\u001b[0m\n\u001b[1;32m   2297\u001b[0m \u001b[38;5;28;01mif\u001b[39;00m bbox_inches:\n\u001b[1;32m   2298\u001b[0m     \u001b[38;5;28;01mif\u001b[39;00m bbox_inches \u001b[38;5;241m==\u001b[39m \u001b[38;5;124m\"\u001b[39m\u001b[38;5;124mtight\u001b[39m\u001b[38;5;124m\"\u001b[39m:\n\u001b[0;32m-> 2299\u001b[0m         bbox_inches \u001b[38;5;241m=\u001b[39m \u001b[38;5;28;43mself\u001b[39;49m\u001b[38;5;241;43m.\u001b[39;49m\u001b[43mfigure\u001b[49m\u001b[38;5;241;43m.\u001b[39;49m\u001b[43mget_tightbbox\u001b[49m\u001b[43m(\u001b[49m\n\u001b[1;32m   2300\u001b[0m \u001b[43m            \u001b[49m\u001b[43mrenderer\u001b[49m\u001b[43m,\u001b[49m\u001b[43m \u001b[49m\u001b[43mbbox_extra_artists\u001b[49m\u001b[38;5;241;43m=\u001b[39;49m\u001b[43mbbox_extra_artists\u001b[49m\u001b[43m)\u001b[49m\n\u001b[1;32m   2301\u001b[0m         \u001b[38;5;28;01mif\u001b[39;00m pad_inches \u001b[38;5;129;01mis\u001b[39;00m \u001b[38;5;28;01mNone\u001b[39;00m:\n\u001b[1;32m   2302\u001b[0m             pad_inches \u001b[38;5;241m=\u001b[39m rcParams[\u001b[38;5;124m'\u001b[39m\u001b[38;5;124msavefig.pad_inches\u001b[39m\u001b[38;5;124m'\u001b[39m]\n",
      "File \u001b[0;32m~/opt/pyenv/versions/3.9.5/lib/python3.9/site-packages/matplotlib/figure.py:1684\u001b[0m, in \u001b[0;36mFigureBase.get_tightbbox\u001b[0;34m(self, renderer, bbox_extra_artists)\u001b[0m\n\u001b[1;32m   1681\u001b[0m     artists \u001b[38;5;241m=\u001b[39m bbox_extra_artists\n\u001b[1;32m   1683\u001b[0m \u001b[38;5;28;01mfor\u001b[39;00m a \u001b[38;5;129;01min\u001b[39;00m artists:\n\u001b[0;32m-> 1684\u001b[0m     bbox \u001b[38;5;241m=\u001b[39m \u001b[43ma\u001b[49m\u001b[38;5;241;43m.\u001b[39;49m\u001b[43mget_tightbbox\u001b[49m\u001b[43m(\u001b[49m\u001b[43mrenderer\u001b[49m\u001b[43m)\u001b[49m\n\u001b[1;32m   1685\u001b[0m     \u001b[38;5;28;01mif\u001b[39;00m bbox \u001b[38;5;129;01mis\u001b[39;00m \u001b[38;5;129;01mnot\u001b[39;00m \u001b[38;5;28;01mNone\u001b[39;00m \u001b[38;5;129;01mand\u001b[39;00m (bbox\u001b[38;5;241m.\u001b[39mwidth \u001b[38;5;241m!=\u001b[39m \u001b[38;5;241m0\u001b[39m \u001b[38;5;129;01mor\u001b[39;00m bbox\u001b[38;5;241m.\u001b[39mheight \u001b[38;5;241m!=\u001b[39m \u001b[38;5;241m0\u001b[39m):\n\u001b[1;32m   1686\u001b[0m         bb\u001b[38;5;241m.\u001b[39mappend(bbox)\n",
      "File \u001b[0;32m~/opt/pyenv/versions/3.9.5/lib/python3.9/site-packages/matplotlib/artist.py:355\u001b[0m, in \u001b[0;36mArtist.get_tightbbox\u001b[0;34m(self, renderer)\u001b[0m\n\u001b[1;32m    340\u001b[0m \u001b[38;5;28;01mdef\u001b[39;00m \u001b[38;5;21mget_tightbbox\u001b[39m(\u001b[38;5;28mself\u001b[39m, renderer):\n\u001b[1;32m    341\u001b[0m     \u001b[38;5;124;03m\"\"\"\u001b[39;00m\n\u001b[1;32m    342\u001b[0m \u001b[38;5;124;03m    Like `.Artist.get_window_extent`, but includes any clipping.\u001b[39;00m\n\u001b[1;32m    343\u001b[0m \n\u001b[0;32m   (...)\u001b[0m\n\u001b[1;32m    353\u001b[0m \u001b[38;5;124;03m        The enclosing bounding box (in figure pixel coordinates).\u001b[39;00m\n\u001b[1;32m    354\u001b[0m \u001b[38;5;124;03m    \"\"\"\u001b[39;00m\n\u001b[0;32m--> 355\u001b[0m     bbox \u001b[38;5;241m=\u001b[39m \u001b[38;5;28;43mself\u001b[39;49m\u001b[38;5;241;43m.\u001b[39;49m\u001b[43mget_window_extent\u001b[49m\u001b[43m(\u001b[49m\u001b[43mrenderer\u001b[49m\u001b[43m)\u001b[49m\n\u001b[1;32m    356\u001b[0m     \u001b[38;5;28;01mif\u001b[39;00m \u001b[38;5;28mself\u001b[39m\u001b[38;5;241m.\u001b[39mget_clip_on():\n\u001b[1;32m    357\u001b[0m         clip_box \u001b[38;5;241m=\u001b[39m \u001b[38;5;28mself\u001b[39m\u001b[38;5;241m.\u001b[39mget_clip_box()\n",
      "File \u001b[0;32m~/opt/pyenv/versions/3.9.5/lib/python3.9/site-packages/matplotlib/patches.py:629\u001b[0m, in \u001b[0;36mPatch.get_window_extent\u001b[0;34m(self, renderer)\u001b[0m\n\u001b[1;32m    628\u001b[0m \u001b[38;5;28;01mdef\u001b[39;00m \u001b[38;5;21mget_window_extent\u001b[39m(\u001b[38;5;28mself\u001b[39m, renderer\u001b[38;5;241m=\u001b[39m\u001b[38;5;28;01mNone\u001b[39;00m):\n\u001b[0;32m--> 629\u001b[0m     \u001b[38;5;28;01mreturn\u001b[39;00m \u001b[38;5;28;43mself\u001b[39;49m\u001b[38;5;241;43m.\u001b[39;49m\u001b[43mget_path\u001b[49m\u001b[43m(\u001b[49m\u001b[43m)\u001b[49m\u001b[38;5;241;43m.\u001b[39;49m\u001b[43mget_extents\u001b[49m\u001b[43m(\u001b[49m\u001b[38;5;28;43mself\u001b[39;49m\u001b[38;5;241;43m.\u001b[39;49m\u001b[43mget_transform\u001b[49m\u001b[43m(\u001b[49m\u001b[43m)\u001b[49m\u001b[43m)\u001b[49m\n",
      "File \u001b[0;32m~/opt/pyenv/versions/3.9.5/lib/python3.9/site-packages/matplotlib/path.py:631\u001b[0m, in \u001b[0;36mPath.get_extents\u001b[0;34m(self, transform, **kwargs)\u001b[0m\n\u001b[1;32m    629\u001b[0m         \u001b[38;5;66;03m# as can the ends of the curve\u001b[39;00m\n\u001b[1;32m    630\u001b[0m         xys\u001b[38;5;241m.\u001b[39mappend(curve([\u001b[38;5;241m0\u001b[39m, \u001b[38;5;241m*\u001b[39mdzeros, \u001b[38;5;241m1\u001b[39m]))\n\u001b[0;32m--> 631\u001b[0m     xys \u001b[38;5;241m=\u001b[39m \u001b[43mnp\u001b[49m\u001b[38;5;241;43m.\u001b[39;49m\u001b[43mconcatenate\u001b[49m\u001b[43m(\u001b[49m\u001b[43mxys\u001b[49m\u001b[43m)\u001b[49m\n\u001b[1;32m    632\u001b[0m \u001b[38;5;28;01mif\u001b[39;00m \u001b[38;5;28mlen\u001b[39m(xys):\n\u001b[1;32m    633\u001b[0m     \u001b[38;5;28;01mreturn\u001b[39;00m Bbox([xys\u001b[38;5;241m.\u001b[39mmin(axis\u001b[38;5;241m=\u001b[39m\u001b[38;5;241m0\u001b[39m), xys\u001b[38;5;241m.\u001b[39mmax(axis\u001b[38;5;241m=\u001b[39m\u001b[38;5;241m0\u001b[39m)])\n",
      "File \u001b[0;32m<__array_function__ internals>:180\u001b[0m, in \u001b[0;36mconcatenate\u001b[0;34m(*args, **kwargs)\u001b[0m\n",
      "\u001b[0;31mValueError\u001b[0m: need at least one array to concatenate"
     ]
    },
    {
     "data": {
      "text/plain": [
       "<Figure size 2997.92x2790.28 with 1 Axes>"
      ]
     },
     "execution_count": 64,
     "metadata": {},
     "output_type": "execute_result"
    }
   ],
   "source": [
    "plot_trajectory(['TP53'],'pan_data','selection')"
   ]
  },
  {
   "cell_type": "code",
   "execution_count": 60,
   "metadata": {},
   "outputs": [
    {
     "data": {
      "text/plain": [
       "{(0, 0, 0): 2810,\n",
       " (0, 0, 1): 159,\n",
       " (0, 1, 0): 1822,\n",
       " (0, 1, 1): 284,\n",
       " (1, 0, 0): 2315,\n",
       " (1, 0, 1): 111,\n",
       " (1, 1, 0): 825,\n",
       " (1, 1, 1): 58}"
      ]
     },
     "execution_count": 60,
     "metadata": {},
     "output_type": "execute_result"
    }
   ],
   "source": [
    "convert_samples_to_dict(all_samples['pan_data'][('TP53', 'KRAS', 'ATM')])"
   ]
  },
  {
   "cell_type": "markdown",
   "metadata": {},
   "source": [
    "## For higher order interaction plot"
   ]
  },
  {
   "cell_type": "markdown",
   "metadata": {},
   "source": [
    "### Fitness Rescue\n",
    "#### CTNNB1 ['BRAF', 'CTNNB1', 'KEAP1']"
   ]
  },
  {
   "cell_type": "markdown",
   "metadata": {},
   "source": [
    "### Super-synergism"
   ]
  },
  {
   "cell_type": "markdown",
   "metadata": {},
   "source": [
    "#### RB1 ['TP53', 'PIK3CA', 'RB1']"
   ]
  },
  {
   "cell_type": "markdown",
   "metadata": {},
   "source": [
    "#### APC ['TP53', 'ATM', 'APC']"
   ]
  },
  {
   "cell_type": "markdown",
   "metadata": {},
   "source": [
    "### Less benefit than expected"
   ]
  },
  {
   "cell_type": "markdown",
   "metadata": {},
   "source": [
    "#### CTNNB1 ['TP53', 'EGFR', 'CTNNB1']"
   ]
  },
  {
   "cell_type": "markdown",
   "metadata": {},
   "source": [
    "#### KEAP1 ['KRAS', 'CTNNB1', 'KEAP1']"
   ]
  },
  {
   "cell_type": "markdown",
   "metadata": {},
   "source": [
    "# Pathways"
   ]
  },
  {
   "cell_type": "code",
   "execution_count": 21,
   "metadata": {},
   "outputs": [],
   "source": [
    "hm_df = pd.read_csv(\"../../data/gene_sets/hallmark_pathway_df.csv\")\n",
    "\n",
    "#HALLMARK_TNFA_SIGNALING_VIA_NFKB = list(hm_df[hm_df[\"pathway\"]==\"HALLMARK_TNFA_SIGNALING_VIA_NFKB\"][\"genes\"])[0].split(\"|\")\n",
    "HALLMARK_HYPOXIA = list(hm_df[hm_df[\"pathway\"]==\"HALLMARK_HYPOXIA\"][\"genes\"])[0].split(\"|\")\n",
    "HALLMARK_WNT_BETA_CATENIN_SIGNALING = list(hm_df[hm_df[\"pathway\"]==\"HALLMARK_WNT_BETA_CATENIN_SIGNALING\"][\"genes\"])[0].split(\"|\")\n",
    "HALLMARK_DNA_REPAIR = list(hm_df[hm_df[\"pathway\"]==\"HALLMARK_DNA_REPAIR\"][\"genes\"])[0].split(\"|\")\n",
    "HALLMARK_G2M_CHECKPOINT = list(hm_df[hm_df[\"pathway\"]==\"HALLMARK_G2M_CHECKPOINT\"][\"genes\"])[0].split(\"|\")\n",
    "\n",
    "HALLMARK_PI3K_AKT_MTOR_SIGNALING = list(hm_df[hm_df[\"pathway\"]==\"HALLMARK_PI3K_AKT_MTOR_SIGNALING\"][\"genes\"])[0].split(\"|\")\n",
    "HALLMARK_MYC_TARGETS_V2 = list(hm_df[hm_df[\"pathway\"]==\"HALLMARK_MYC_TARGETS_V2\"][\"genes\"])[0].split(\"|\")\n",
    "HALLMARK_EPITHELIAL_MESENCHYMAL_TRANSITION = list(hm_df[hm_df[\"pathway\"]==\"HALLMARK_EPITHELIAL_MESENCHYMAL_TRANSITION\"][\"genes\"])[0].split(\"|\")\n",
    "HALLMARK_INFLAMMATORY_RESPONSE = list(hm_df[hm_df[\"pathway\"]==\"HALLMARK_INFLAMMATORY_RESPONSE\"][\"genes\"])[0].split(\"|\")\n",
    "HALLMARK_METABOLISM = list(hm_df[hm_df[\"pathway\"]==\"HALLMARK_OXIDATIVE_PHOSPHORYLATION\"][\"genes\"])[0].split(\"|\") + list(hm_df[hm_df[\"pathway\"]==\"HALLMARK_GLYCOLYSIS\"][\"genes\"])[0].split(\"|\")\n",
    "\n",
    "HALLMARK_REACTIVE_OXYGEN_SPECIES_PATHWAY = list(hm_df[hm_df[\"pathway\"]==\"HALLMARK_REACTIVE_OXYGEN_SPECIES_PATHWAY\"][\"genes\"])[0].split(\"|\")\n",
    "HALLMARK_P53_PATHWAY = list(hm_df[hm_df[\"pathway\"]==\"HALLMARK_P53_PATHWAY\"][\"genes\"])[0].split(\"|\")\n",
    "HALLMARK_ANGIOGENESIS = list(hm_df[hm_df[\"pathway\"]==\"HALLMARK_ANGIOGENESIS\"][\"genes\"])[0].split(\"|\")\n",
    "HALLMARK_KRAS = list(hm_df[hm_df[\"pathway\"]==\"HALLMARK_KRAS_SIGNALING_UP\"][\"genes\"])[0].split(\"|\") + list(hm_df[hm_df[\"pathway\"]==\"HALLMARK_KRAS_SIGNALING_DN\"][\"genes\"])[0].split(\"|\")"
   ]
  }
 ],
 "metadata": {
  "kernelspec": {
   "display_name": "Python 3 (ipykernel)",
   "language": "python",
   "name": "python3"
  },
  "language_info": {
   "codemirror_mode": {
    "name": "ipython",
    "version": 3
   },
   "file_extension": ".py",
   "mimetype": "text/x-python",
   "name": "python",
   "nbconvert_exporter": "python",
   "pygments_lexer": "ipython3",
   "version": "3.9.5"
  }
 },
 "nbformat": 4,
 "nbformat_minor": 4
}
