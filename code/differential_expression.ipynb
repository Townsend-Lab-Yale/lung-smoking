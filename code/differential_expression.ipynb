{
 "cells": [
  {
   "cell_type": "markdown",
   "metadata": {},
   "source": [
    "# Data preparation"
   ]
  },
  {
   "cell_type": "code",
   "execution_count": null,
   "metadata": {
    "vscode": {
     "languageId": "r"
    }
   },
   "outputs": [],
   "source": [
    ".libPaths(\"variants/.Rlibs\")\n",
    "library(data.table)\n",
    "# DESeq\n",
    "library(TCGAbiolinks)\n",
    "library(SummarizedExperiment)\n",
    "library(DESeq2)\n",
    "# Plotting\n",
    "library(ggplot2)\n",
    "library(cowplot)\n",
    "# GSEA\n",
    "library(fgsea)\n",
    "\n",
    "source('de_functions.R')\n",
    "\n",
    "location_data <- \"../data\"\n",
    "location_gene_expression <- file.path(location_data, \"gene_expression\")"
   ]
  },
  {
   "cell_type": "code",
   "execution_count": null,
   "metadata": {
    "vscode": {
     "languageId": "r"
    }
   },
   "outputs": [],
   "source": [
    "query <- GDCquery(\n",
    "    project = \"TCGA-LUAD\",\n",
    "    data.category = \"Transcriptome Profiling\",\n",
    "    data.type = \"Gene Expression Quantification\",\n",
    "    workflow.type = \"STAR - Counts\"\n",
    ")\n",
    "GDCdownload(query)\n",
    "expr_data <- GDCprepare(query)\n",
    "\n",
    "query <- GDCquery(\n",
    "    project = \"TCGA-LUAD\",\n",
    "    data.category = \"Simple Nucleotide Variation\",\n",
    "    data.type = \"Masked Somatic Mutation\",\n",
    "    access = \"open\"\n",
    ")\n",
    "GDCdownload(query)\n",
    "tcga_maf <- GDCprepare(query)"
   ]
  },
  {
   "cell_type": "code",
   "execution_count": null,
   "metadata": {
    "vscode": {
     "languageId": "r"
    }
   },
   "outputs": [],
   "source": [
    "# Extract counts and metadata\n",
    "tcga_counts <- assay(expr_data)\n",
    "tcga_metadata <- colData(expr_data)\n",
    "tcga_gene_data <- rowData(expr_data)\n",
    "\n",
    "# Obtain mutation status for EGFR, KRAS, and KEAP1 for each patient\n",
    "tcga_maf <- as.data.table(tcga_maf)\n",
    "tcga_maf_filtered <- tcga_maf[!Variant_Classification %in% c(\"Silent\",\"IGR\",\"Intron\")]\n",
    "tcga_gps <- produce_genes_per_sample(tcga_maf_filtered, c(\"EGFR\",\"KRAS\",\"KEAP1\"))\n",
    "any(!(tcga_gps[, mean(EGFR == \"Mut\"), by = case_id]$V1 %in% c(0, 1)))\n",
    "any(!(tcga_gps[, mean(KRAS == \"Mut\"), by = case_id]$V1 %in% c(0, 1)))\n",
    "any(!(tcga_gps[, mean(KEAP1 == \"Mut\"), by = case_id]$V1 %in% c(0, 1)))\n",
    "tcga_gps[, .(percent_mutant = mean(KRAS == \"Mut\"), N = .N), by = case_id][!percent_mutant %in% c(0, 1)][order(percent_mutant)]\n",
    "tcga_gps[, .(percent_mutant = mean(KEAP1 == \"Mut\"), N = .N), by = case_id][!percent_mutant %in% c(0, 1)][order(percent_mutant)]\n",
    "tcga_gpp <- tcga_gps[, .(EGFR = ifelse(any(EGFR == \"Mut\"), \"Mut\", \"WT\"), \n",
    "                         KRAS = ifelse(any(KRAS == \"Mut\"), \"Mut\", \"WT\"),\n",
    "                         KEAP1 = ifelse(any(KEAP1 == \"Mut\"), \"Mut\", \"WT\")), by = case_id]\n",
    "\n",
    "tcga_samples <- fread(file.path(location_data, \"luad_tcga\", \"clinical.tsv\")) # tcga_samples contained the case_submitter_id needed to join with tcga_metadata\n",
    "tcga_samples <- unique(tcga_samples[, .(case_id, case_submitter_id)])\n",
    "tcga_samples <- tcga_gpp[tcga_samples, on = \"case_id\"] # left join gpp onto tcga_samples\n",
    "\n",
    "# Obtain smoking status for each patient\n",
    "smoking_samples <- fread(\"../data/smoking_sample_ids.txt\", header = F)[[1]]\n",
    "nonsmoking_samples <- fread(\"../data/nonsmoking_sample_ids.txt\", header = F)[[1]]\n",
    "tcga_samples[case_id %in% smoking_samples, smoking_status := \"smoking\"]\n",
    "tcga_samples[case_id %in% nonsmoking_samples, smoking_status := \"nonsmoking\"]\n",
    "\n",
    "# Add mutation and smoking history information to metadata\n",
    "tcga_metadata[c(\"egfr_status\", \"kras_status\", \"keap1_status\", \"smoking_status\")] <- tcga_samples[match(tcga_metadata$patient, tcga_samples$case_submitter_id), c(\"EGFR\", \"KRAS\", \"KEAP1\", \"smoking_status\")]\n",
    "\n",
    "# Set mutation status for normal samples to WT\n",
    "tcga_metadata$egfr_status <- ifelse(tcga_metadata$sample_type == \"Solid Tissue Normal\", \"WT\", tcga_metadata$egfr_status)\n",
    "tcga_metadata$kras_status <- ifelse(tcga_metadata$sample_type == \"Solid Tissue Normal\", \"WT\", tcga_metadata$kras_status)\n",
    "tcga_metadata$keap1_status <- ifelse(tcga_metadata$sample_type == \"Solid Tissue Normal\", \"WT\", tcga_metadata$keap1_status)\n",
    "\n",
    "# Factor all relevant metadata columns to set reference\n",
    "tcga_metadata$egfr_status <- factor(tcga_metadata$egfr_status, levels = c(\"WT\", \"Mut\"))\n",
    "tcga_metadata$kras_status <- factor(tcga_metadata$kras_status, levels = c(\"WT\", \"Mut\"))\n",
    "tcga_metadata$keap1_status <- factor(tcga_metadata$keap1_status, levels = c(\"WT\", \"Mut\"))\n",
    "tcga_metadata$smoking_status <- factor(tcga_metadata$smoking_status, levels = c(\"nonsmoking\", \"smoking\"))\n",
    "tcga_metadata$prior_treatment <- factor(tcga_metadata$prior_treatment, levels = c(\"No\", \"Yes\"))\n",
    "tcga_metadata$sample_type <- factor(tcga_metadata$sample_type, levels = c(\"Solid Tissue Normal\", \"Primary Tumor\"))"
   ]
  },
  {
   "cell_type": "code",
   "execution_count": null,
   "metadata": {
    "vscode": {
     "languageId": "r"
    }
   },
   "outputs": [],
   "source": [
    "# Remove samples with NA values for key variables\n",
    "# Filter out FFPE samples and samples that have received prior treatment\n",
    "filtered_cases <- !is.na(tcga_metadata$smoking_status) & \n",
    "                    !is.na(tcga_metadata$egfr_status) & \n",
    "                    !is.na(tcga_metadata$kras_status) &\n",
    "                    !is.na(tcga_metadata$keap1_status) &\n",
    "                    !is.na(tcga_metadata$sample_type) &\n",
    "                    !tcga_metadata$is_ffpe &\n",
    "                    !is.na(tcga_metadata$prior_treatment) &\n",
    "                    tcga_metadata$prior_treatment == \"No\"\n",
    "\n",
    "tcga_metadata_clean <- tcga_metadata[filtered_cases,]\n",
    "tcga_counts_clean <- tcga_counts[,filtered_cases]\n",
    "\n",
    "# Filter out genes with low counts across all samples\n",
    "tcga_counts_clean <- tcga_counts_clean[rowSums(tcga_counts_clean) >= 10,]"
   ]
  },
  {
   "cell_type": "code",
   "execution_count": null,
   "metadata": {
    "vscode": {
     "languageId": "r"
    }
   },
   "outputs": [],
   "source": [
    "dcast(dplyr::count(as.data.frame(tcga_metadata_clean), sample_type, smoking_status, egfr_status, keap1_status), sample_type+smoking_status~egfr_status+keap1_status, value.var='n',fill=0)"
   ]
  },
  {
   "cell_type": "markdown",
   "metadata": {},
   "source": [
    "# DESeq Analysis for gene-specific transcriptional effects of EGFR mutation in ES- and NS-LUAD"
   ]
  },
  {
   "cell_type": "code",
   "execution_count": null,
   "metadata": {
    "vscode": {
     "languageId": "r"
    }
   },
   "outputs": [],
   "source": [
    "dds <- DESeqDataSetFromMatrix(countData = tcga_counts_clean, colData = tcga_metadata_clean, design = ~ sample_type + smoking_status + egfr_status + kras_status + smoking_status:egfr_status + smoking_status:kras_status)"
   ]
  },
  {
   "cell_type": "code",
   "execution_count": null,
   "metadata": {
    "vscode": {
     "languageId": "r"
    }
   },
   "outputs": [],
   "source": [
    "options(repr.plot.width = 10, repr.plot.height = 10)\n",
    "vsd <- vst(dds[,dds$sample_type==\"Primary Tumor\"], blind = TRUE)  \n",
    "plotPCA(vsd,intgroup=c(\"smoking_status\", \"egfr_status\")) + theme_bw()"
   ]
  },
  {
   "cell_type": "code",
   "execution_count": null,
   "metadata": {
    "vscode": {
     "languageId": "r"
    }
   },
   "outputs": [],
   "source": [
    "dds <- DESeq(dds)\n",
    "\n",
    "options(repr.plot.width = 8, repr.plot.height = 8)\n",
    "plotDispEsts(dds)"
   ]
  },
  {
   "cell_type": "code",
   "execution_count": null,
   "metadata": {
    "vscode": {
     "languageId": "r"
    }
   },
   "outputs": [],
   "source": [
    "# Results for EGFR-Smoking status interaction term\n",
    "results <- results(dds, contrast = list(\"smoking_statussmoking.egfr_statusMut\"))\n",
    "results_lfc <- lfcShrink(dds, contrast = list(\"smoking_statussmoking.egfr_statusMut\"), res = results, type = \"ashr\")\n",
    "results_lfc$stat <- results[match(rownames(results_lfc), rownames(results)),\"stat\"]\n",
    "rownames(results_lfc) <- tcga_gene_data[match(rownames(results_lfc), rownames(tcga_gene_data)),\"gene_name\"]\n",
    "summary(results_lfc)\n",
    "\n",
    "res = setDT(as.data.frame(results_lfc), keep.rownames = TRUE)[]\n",
    "setnames(res,'rn','gene')\n",
    "\n",
    "# Tumor vs Normal\n",
    "results_tvn <- results(dds, contrast = list(\"sample_type_Primary.Tumor_vs_Solid.Tissue.Normal\"))\n",
    "results_tvn_lfc <- lfcShrink(dds, contrast = list(\"sample_type_Primary.Tumor_vs_Solid.Tissue.Normal\"), res = results_tvn, type = \"ashr\")\n",
    "results_tvn_lfc$stat <- results_tvn[match(rownames(results_tvn_lfc), rownames(results_tvn)),\"stat\"]\n",
    "rownames(results_tvn_lfc) <- tcga_gene_data[match(rownames(results_tvn_lfc), rownames(tcga_gene_data)),\"gene_name\"]\n",
    "# summary(results_tvn_lfc)\n",
    "\n",
    "res_tvn = setDT(as.data.frame(results_tvn_lfc), keep.rownames = TRUE)[]\n",
    "setnames(res_tvn,'rn','gene')\n",
    "\n",
    "# Combining EGFR-Smoking & TvN results\n",
    "alpha <- 0.05\n",
    "tvn_tmp <- res_tvn[order(match(gene, res$gene))][,.(gene, log2FoldChange, padj)]\n",
    "setnames(tvn_tmp, c(\"log2FoldChange\", \"padj\"), c(\"log2FoldChange_tvn\", \"padj_tvn\"))\n",
    "res <- tvn_tmp[res,on=\"gene\"]\n",
    "res[,fc_match:=ifelse(padj_tvn<alpha,sign(log2FoldChange)==sign(log2FoldChange_tvn),NA)]"
   ]
  },
  {
   "cell_type": "markdown",
   "metadata": {},
   "source": [
    "## GSEA"
   ]
  },
  {
   "cell_type": "code",
   "execution_count": null,
   "metadata": {
    "vscode": {
     "languageId": "r"
    }
   },
   "outputs": [],
   "source": [
    "egfr_t_stats = results_lfc$stat\n",
    "names(egfr_t_stats) = rownames(results_lfc)\n",
    "egfr_t_stats = egfr_t_stats[order(egfr_t_stats,decreasing=TRUE)]\n",
    "\n",
    "pathways.hallmark = gmtPathways(file.path(location_data,'msigdb_gene_sets','h.all.v2024.1.Hs.symbols.gmt'))\n",
    "pathways.canonical = gmtPathways(file.path(location_data,'msigdb_gene_sets','c2.cp.v2024.1.Hs.symbols.gmt'))\n",
    "pathways.ontology = gmtPathways(file.path(location_data,'msigdb_gene_sets','c5.go.v2024.1.Hs.symbols.gmt'))\n",
    "pathways.oncogenic = gmtPathways(file.path(location_data,'msigdb_gene_sets','c6.all.v2024.1.Hs.symbols.gmt'))\n",
    "\n",
    "# Interesting genes will compile genes that drove signal of GSEA for pathways of interests (EMT, WNT, TGF-beta, ECM/Adhesion, PI3K-AKT)\n",
    "interesting_genes <- data.table()"
   ]
  },
  {
   "cell_type": "code",
   "execution_count": null,
   "metadata": {
    "vscode": {
     "languageId": "r"
    }
   },
   "outputs": [],
   "source": [
    "options(repr.plot.width=20, repr.plot.height = 6)\n",
    "fgseaRes <- fgsea(pathways = pathways.hallmark, \n",
    "                  stats = egfr_t_stats,\n",
    "                  minSize  = 10,\n",
    "                  maxSize  = 500)\n",
    "p1 <- ggplot(fgseaRes[padj<0.1], aes(reorder(pathway, NES), NES)) +\n",
    "  geom_col(aes(fill=padj<0.05)) +\n",
    "  coord_flip() +\n",
    "  labs(x=\"Pathway\", y=\"Normalized Enrichment Score\",\n",
    "       title=\"Hallmark pathways NES from GSEA\") + \n",
    "  theme_minimal()\n",
    "p2 <- plotEnrichment(pathways.hallmark$HALLMARK_EPITHELIAL_MESENCHYMAL_TRANSITION, egfr_t_stats)\n",
    "plot_grid(p1,p2,nrow=1, rel_widths = c(1, 0.5))"
   ]
  },
  {
   "cell_type": "markdown",
   "metadata": {},
   "source": [
    "Manually identifying gene sets of interest and extracting leading edge genes (genes that drive GSEA signal) for each of those gene sets."
   ]
  },
  {
   "cell_type": "code",
   "execution_count": null,
   "metadata": {
    "vscode": {
     "languageId": "r"
    }
   },
   "outputs": [],
   "source": [
    "leading_edges <- fgseaRes$leadingEdge\n",
    "names(leading_edges) <- fgseaRes$pathway\n",
    "gene_intersections <- table(unlist(leading_edges[c('HALLMARK_WNT_BETA_CATENIN_SIGNALING','HALLMARK_EPITHELIAL_MESENCHYMAL_TRANSITION','HALLMARK_MYC_TARGETS_V2','HALLMARK_HEDGEHOG_SIGNALING','HALLMARK_TGF_BETA_SIGNALING','HALLMARK_APICAL_JUNCTION','HALLMARK_G2M_CHECKPOINT')]))\n",
    "gene_intersections <- gene_intersections[gene_intersections > 1]\n",
    "res[gene %in% names(gene_intersections) & padj<0.1][order(log2FoldChange)]\n",
    "\n",
    "tmp <- leading_edges[c('HALLMARK_WNT_BETA_CATENIN_SIGNALING','HALLMARK_EPITHELIAL_MESENCHYMAL_TRANSITION','HALLMARK_MYC_TARGETS_V2','HALLMARK_HEDGEHOG_SIGNALING','HALLMARK_TGF_BETA_SIGNALING','HALLMARK_APICAL_JUNCTION','HALLMARK_G2M_CHECKPOINT')]\n",
    "tmp_df <- as.data.table(unlist(tmp),keep.rownames=T)\n",
    "setnames(tmp_df,c(\"V1\",\"V2\"),c(\"pathway\",\"gene\"))\n",
    "tmp_df[,pathway:=gsub('[0-9]+$','',pathway)]\n",
    "\n",
    "interesting_genes <- rbind(interesting_genes,tmp_df)"
   ]
  },
  {
   "cell_type": "code",
   "execution_count": null,
   "metadata": {
    "vscode": {
     "languageId": "r"
    }
   },
   "outputs": [],
   "source": [
    "fgseaRes <- fgsea(pathways = pathways.oncogenic, \n",
    "                  stats = egfr_t_stats,\n",
    "                  minSize  = 10,\n",
    "                  maxSize  = 500)\n",
    "\n",
    "leading_edges <- fgseaRes$leadingEdge\n",
    "names(leading_edges) <- fgseaRes$pathway\n",
    "gene_intersections <- table(unlist(leading_edges[fgseaRes[padj<alpha,pathway]]))\n",
    "gene_intersections <- gene_intersections[gene_intersections > 1]\n",
    "res[gene %in% names(gene_intersections) & padj<alpha][order(log2FoldChange)][1:10]\n",
    "\n",
    "pathways_of_interest <- c('CYCLIN_D1_UP.V1_UP','TGFB_UP.V1_DN','KRAS.LUNG.BREAST_UP.V1_DN','PDGF_ERK_DN.V1_DN','WNT_UP.V1_UP','PTEN_DN.V2_UP','AKT_UP.V1_DN')\n",
    "tmp <- leading_edges[pathways_of_interest]\n",
    "tmp_df <- as.data.table(unlist(tmp),keep.rownames=T)\n",
    "setnames(tmp_df,c(\"V1\",\"V2\"),c(\"pathway\",\"gene\"))\n",
    "tmp_df[,pathway:=gsub('[0-9]+$','',pathway)]\n",
    "\n",
    "interesting_genes <- rbind(interesting_genes,tmp_df)\n",
    "\n",
    "#~~~~~~~~~~~~~~~~~~~~~~~~~~~~~~~~~~~~~~~~~~~~~~#\n",
    "\n",
    "fgseaRes <- fgsea(pathways = pathways.ontology, \n",
    "                  stats = egfr_t_stats,\n",
    "                  minSize  = 10,\n",
    "                  maxSize  = 500)\n",
    "\n",
    "leading_edges <- fgseaRes$leadingEdge\n",
    "names(leading_edges) <- fgseaRes$pathway\n",
    "gene_intersections <- table(unlist(leading_edges[fgseaRes[padj<alpha,pathway]]))\n",
    "gene_intersections <- gene_intersections[gene_intersections > 1]\n",
    "res[gene %in% names(gene_intersections) & padj<alpha][order(log2FoldChange)][1:10]\n",
    "\n",
    "pathways_of_interest <- fgseaRes[padj<alpha & stringr::str_detect(pathway,\"(TGF)|(TRANSFORMING_GROWTH_FACTOR)|(WNT)|(CATENIN)|(EMT)|(MESENCHYMAL_TRANSITION)|(ADHESION)|(EXTRACELLULAR_MATRIX)|(PI3)|(EGFR)\"),pathway]\n",
    "tmp <- leading_edges[pathways_of_interest]\n",
    "tmp_df <- as.data.table(unlist(tmp),keep.rownames=T)\n",
    "setnames(tmp_df,c(\"V1\",\"V2\"),c(\"pathway\",\"gene\"))\n",
    "tmp_df[,pathway:=gsub('[0-9]+$','',pathway)]\n",
    "\n",
    "interesting_genes <- rbind(interesting_genes,tmp_df)\n",
    "\n",
    "#~~~~~~~~~~~~~~~~~~~~~~~~~~~~~~~~~~~~~~~~~~~~~~#\n",
    "\n",
    "fgseaRes <- fgsea(pathways = pathways.canonical, \n",
    "                  stats = egfr_t_stats,\n",
    "                  minSize  = 10,\n",
    "                  maxSize  = 500)\n",
    "\n",
    "leading_edges <- fgseaRes$leadingEdge\n",
    "names(leading_edges) <- fgseaRes$pathway\n",
    "gene_intersections <- table(unlist(leading_edges[fgseaRes[padj<alpha,pathway]]))\n",
    "gene_intersections <- gene_intersections[gene_intersections > 1]\n",
    "res[gene %in% names(gene_intersections) & padj<alpha][order(log2FoldChange)][1:10]\n",
    "\n",
    "pathways_of_interest <- fgseaRes[padj<alpha & stringr::str_detect(pathway,\"(TGF)|(TRANSFORMING_GROWTH_FACTOR)|(WNT)|(CATENIN)|(HEDGEHOG)|(EMT)|(MESENCHYMAL_TRANSITION)|(ADHESION)|(ECM)|(COLLAGEN)|(FIBRES)|(EXTRACELLULAR_MATRIX)|(PI3)|(EGFR)\"), pathway]\n",
    "tmp <- leading_edges[pathways_of_interest]\n",
    "tmp_df <- as.data.table(unlist(tmp),keep.rownames=T)\n",
    "setnames(tmp_df,c(\"V1\",\"V2\"),c(\"pathway\",\"gene\"))\n",
    "tmp_df[,pathway:=gsub('[0-9]+$','',pathway)]\n",
    "\n",
    "interesting_genes <- rbind(interesting_genes,tmp_df)\n",
    "\n",
    "interesting_genes <- unique(interesting_genes)\n",
    "interesting_genes <- res[,.(gene,padj,log2FoldChange)][interesting_genes,on=\"gene\"][order(gene)]"
   ]
  },
  {
   "cell_type": "markdown",
   "metadata": {},
   "source": [
    "## Postprocessing"
   ]
  },
  {
   "cell_type": "code",
   "execution_count": null,
   "metadata": {
    "vscode": {
     "languageId": "r"
    }
   },
   "outputs": [],
   "source": [
    "interesting_genes_subset <- interesting_genes[padj<alpha*4]\n",
    "\n",
    "tgf_beta <- interesting_genes_subset[stringr::str_detect(pathway,\"(TGF)|(TRANSFORMING)\"), .(gene=unique(gene),pathway=\"TGF_BETA\")]\n",
    "wnt <- interesting_genes_subset[stringr::str_detect(pathway,\"(WNT)|(CATENIN)\"), .(gene=unique(gene),pathway=\"WNT\")]\n",
    "hedgehog <- interesting_genes_subset[stringr::str_detect(pathway,\"(HEDGEHOG)\"), .(gene=unique(gene),pathway=\"HEDGEHOG\")]\n",
    "# wnt_and_hedgehog <- interesting_genes_subset[stringr::str_detect(pathway,\"(WNT)|(CATENIN)|(HEDGEHOG)\"), .(gene=unique(gene),pathway=\"WNT_AND_HH\")]\n",
    "emt <- interesting_genes_subset[stringr::str_detect(pathway,\"(EMT)|(MESENCHYMAL_TRANSITION)\"), .(gene=unique(gene),pathway=\"EMT\")]\n",
    "ecm <- interesting_genes_subset[stringr::str_detect(pathway,\"(ADHESION)|(ECM)|(COLLAGEN)|(FIBRES)|(EXTRACELLULAR_MATRIX)\"), .(gene=unique(gene),pathway=\"TM / ECM\")]\n",
    "pi3k <- interesting_genes_subset[stringr::str_detect(pathway,\"(PI3)|(EGF)|(AKT)|(MEK)\"), .(gene=unique(gene),pathway=\"PI3K\")]\n",
    "\n",
    "all <- rbind(tgf_beta, wnt, emt, ecm)\n",
    "\n",
    "# Manually editing pathway assignments based on literature search\n",
    "all <- rbind(all, data.table(\n",
    "    gene = c(\"COL9A1\",\"TM4SF4\",\"S1PR3\"),\n",
    "    pathway = c(\"TM / ECM\")\n",
    "))\n",
    "all <- rbind(all, data.table(\n",
    "    gene = c(\"SMAD3\",\"H19\", \"CAMK2B\", \"FZD10-AS1\", \"MYLK4\", \"PCDHA6\", \"HHIP\", \"PRSS2\", \n",
    "             \"IQGAP1\", \"SOX21\", \"S100A7\", \"TM4SF4\", \"TNFSF11\", \"FGF18\", \"S1PR3\", \"CD36\"),\n",
    "    pathway = c(\"EMT\")\n",
    "))\n",
    "all <- rbind(all, data.table(\n",
    "    gene = c(\"FZD10-AS1\", \"IQGAP1\", \"TRO\", \"LGALS4\", \"MUC6\", \"PCDHA6\", \"TENM3\", \"UNC5D\",\n",
    "             \"TM4SF4\", \"PCDHGA3\", \"CD36\"),\n",
    "    pathway = c(\"WNT\")\n",
    "))\n",
    "all <- rbind(all, data.table(\n",
    "    gene = c(\"SMAD3\", \"HHIP\", \"PRG4\", \"FBLN5\", \"SOX21\", \"S100A7\", \"EMILIN3\", \"TNFSF11\", \"FGF18\",\n",
    "             \"S1PR3\"),\n",
    "    pathway = c(\"TGF_BETA\")\n",
    "))\n",
    "# all <- rbind(all, data.table(\n",
    "#     gene = c(\"MYLK4\", \"F2\", \"F7\", \"CHAD\"),\n",
    "#     pathway = c(\"Other\")\n",
    "# ))\n",
    "\n",
    "all[gene == \"HEY2\", pathway := c(\"TGF_BETA\", \"EMT\")]\n",
    "all[gene == \"IL17RD\", pathway := c(\"WNT\", \"EMT\")]\n",
    "\n",
    "all[,pathway:=factor(pathway, levels=c(\"TM / ECM\",\"WNT\",\"TGF_BETA\",\"EMT\",\"Other\"))]"
   ]
  },
  {
   "cell_type": "code",
   "execution_count": null,
   "metadata": {
    "vscode": {
     "languageId": "r"
    }
   },
   "outputs": [],
   "source": [
    "options(repr.plot.width = 4, repr.plot.height = 4)\n",
    "pathway_mat <- dcast(all,gene~pathway,value.var=\"pathway\",fun.aggregate=length)\n",
    "# Transpose the data.table to cluster columns based on row values\n",
    "pathway_mat_t <- t(as.matrix(pathway_mat[, -1, with = FALSE]))\n",
    "colnames(pathway_mat_t) <- pathway_mat$gene\n",
    "\n",
    "# Perform hierarchical clustering\n",
    "dist_matrix <- dist(pathway_mat_t, method = \"binary\")\n",
    "hclust_res <- hclust(dist_matrix, method = \"ward.D2\")\n",
    "\n",
    "# Plot the dendrogram\n",
    "plot(hclust_res, main = \"Hierarchical Clustering of Columns\", xlab = \"\", sub = \"\", cex = 0.9)\n",
    "\n",
    "# Order columns based on clustering\n",
    "ordered_columns <- rownames(pathway_mat_t)[hclust_res$order]\n",
    "pathway_mat <- pathway_mat[, c(\"gene\", ordered_columns), with = FALSE]"
   ]
  },
  {
   "cell_type": "code",
   "execution_count": null,
   "metadata": {
    "vscode": {
     "languageId": "r"
    }
   },
   "outputs": [],
   "source": [
    "norm_counts_mat <- counts(dds, normalized=TRUE)\n",
    "rownames(norm_counts_mat) <- tcga_gene_data[match(rownames(norm_counts_mat), rownames(tcga_gene_data)),\"gene_name\"]\n",
    "norm_counts_mat <- as.data.table(norm_counts_mat, keep.rownames = TRUE)\n",
    "setnames(norm_counts_mat,'rn','gene')\n",
    "counts <- melt(norm_counts_mat, id.vars = \"gene\", variable.name = \"barcode\", value.name = \"count\")\n",
    "counts <- as.data.table(colData(dds)[,c(\"barcode\",\"smoking_status\", \"egfr_status\", \"kras_status\")])[counts, on=\"barcode\"]\n",
    "counts$barcode <- NULL"
   ]
  },
  {
   "cell_type": "code",
   "execution_count": null,
   "metadata": {
    "vscode": {
     "languageId": "r"
    }
   },
   "outputs": [],
   "source": [
    "# compute median counts for each group\n",
    "median_counts = counts[,.(median_count=median(count)),by=.(smoking_status,egfr_status,gene)]\n",
    "# reshape data\n",
    "median_counts_x <- dcast(median_counts,gene+smoking_status~egfr_status,value.var=\"median_count\")\n",
    "# compute log2 fold change from EGFR WT to Mutant\n",
    "median_counts_x[,log2fc:=log2(Mut)-log2(WT)]\n",
    "# order genes by log2 fold change\n",
    "median_counts_x$gene <- factor(median_counts_x$gene, levels=res[order(log2FoldChange,decreasing = T), gene])\n",
    "# add info on change in expression from normal to tumor\n",
    "median_counts_x <- res_tvn[,.(gene,tvn_change=ifelse(padj<alpha,ifelse(log2FoldChange>0,'+','-'),'none'))][median_counts_x,on=\"gene\"]\n",
    "# factor for ordering\n",
    "median_counts_x$tvn_change <- factor(median_counts_x$tvn_change, levels=c('-','none','+')) \n",
    "# reshape to compare change in expression between smokers and nonsmokers\n",
    "median_counts_x <- dcast(median_counts_x, gene~smoking_status, value.var=\"log2fc\")[,.(gene,ratio_of_fc=2**(nonsmoking-smoking))][median_counts_x, on=\"gene\"]\n",
    "# add adjusted p-values for interaction term between smoking status and EGFR mutation status\n",
    "median_counts_x <- res[,.(gene,padj)][median_counts_x,on=\"gene\"]\n",
    "\n",
    "# same with mean counts to check agreement (DESeq2 uses mean counts)\n",
    "mean_counts = counts[,.(mean_count=mean(count)),by=.(smoking_status,egfr_status,gene)]\n",
    "mean_counts_x <- dcast(mean_counts,gene+smoking_status~egfr_status,value.var=\"mean_count\")\n",
    "mean_counts_x[,log2fc:=log2(Mut)-log2(WT)]\n",
    "mean_counts_x$gene <- factor(mean_counts_x$gene, levels=res[order(log2FoldChange,decreasing = T), gene])\n",
    "mean_counts_x <- res[,.(gene,greater_in_ns=log2FoldChange<0,tvn_change=ifelse(padj_tvn<alpha,ifelse(log2FoldChange_tvn>0,'+','-'),'none'),padj)][mean_counts_x,on=\"gene\"]\n",
    "mean_counts_x$tvn_change <- factor(mean_counts_x$tvn_change, levels=c('-','none','+'))"
   ]
  },
  {
   "cell_type": "code",
   "execution_count": null,
   "metadata": {
    "vscode": {
     "languageId": "r"
    }
   },
   "outputs": [],
   "source": [
    "smoking_status_abbrev <- c(\"nonsmoking\" = \"NS\", \"smoking\" = \"ES\")\n",
    "\n",
    "# median_counts_x$gene_name <- glue::glue(\"<i style='color:{ifelse(median_counts_x$padj<alpha,ifelse(median_counts_x$ratio_of_fc>1, 'red', 'blue'),'grey30')};'>{median_counts_filtered$gene}</i>\")\n",
    "median_counts_x$gene_name <- glue::glue(\"<i style='color:{ifelse(median_counts_x$ratio_of_fc>1, 'red', 'blue')};'>{median_counts_x$gene}</i>\")\n",
    "gene_name_order <- median_counts_x[smoking_status==\"nonsmoking\"][order(ratio_of_fc>1,tvn_change,log2fc),gene_name]\n",
    "median_counts_x[,gene_name:=factor(gene_name, levels=gene_name_order)]\n",
    "median_counts_x <- median_counts_x[order(gene_name)]\n",
    "median_counts_x[,smoking_status:=factor(as.character(smoking_status_abbrev[smoking_status]),levels=c(\"ES\",\"NS\"))]\n",
    "\n",
    "# mean_counts_x$gene_name <- glue::glue(\"<i style='color:{ifelse(mean_counts_x$padj<alpha,ifelse(mean_counts_x$greater_in_ns, 'red', 'blue'),'grey30')};'>{mean_counts_filtered$gene}</i>\")\n",
    "mean_counts_x$gene_name <- glue::glue(\"<i style='color:{ifelse(mean_counts_x$greater_in_ns, 'red', 'blue')};'>{mean_counts_x$gene}</i>\")\n",
    "gene_name_order <- mean_counts_x[smoking_status==\"nonsmoking\"][order(greater_in_ns,tvn_change,log2fc),gene_name]\n",
    "mean_counts_x[,gene_name:=factor(gene_name, levels=gene_name_order)]\n",
    "mean_counts_x <- mean_counts_x[order(gene_name)]\n",
    "mean_counts_x[,smoking_status:=factor(as.character(smoking_status_abbrev[smoking_status]),levels=c(\"ES\",\"NS\"))]\n",
    "\n",
    "tmp <- rbind(median_counts_x[,.(method=\"median\",gene,greater_in_ns=ratio_of_fc>1,padj)], mean_counts_x[,.(method=\"mean\",gene,greater_in_ns,padj)])\n",
    "tmp <- unique(tmp)\n",
    "\n",
    "genes_to_plot <- interesting_genes[padj<alpha*2 & pathway!=\"GOBP_LEUKOCYTE_CELL_CELL_ADHESION\" & !(gene %in% c(\"MYPN\",\"GRIN2B\")),unique(gene)]\n",
    "genes_to_plot <- c(genes_to_plot, \"FZD10-AS1\",\"SOX21\")#, \"PIK3C2G\", \"SMAD1\")\n",
    "# Only include genes for which the differential expression signal is consistent between median and mean counts\n",
    "agreed_genes <- dcast(tmp, gene+padj~method,value.var=\"greater_in_ns\")[mean==median & gene %in% genes_to_plot,gene]\n",
    "agreed_genes <- agreed_genes[!agreed_genes %in% c(\"F2\",\"F7\",\"PROC\",\"DEFB1\",\"PENK\",\"UNC5D\",\"TLL2\",\"HLX\",\"DENND2A\",\"BRMS1L\")]\n",
    "\n",
    "median_counts_filtered <- median_counts_x[gene %in% agreed_genes]\n",
    "mean_counts_filtered <- mean_counts_x[gene %in% agreed_genes]\n",
    "\n",
    "all_x <- rbind(all, data.table(gene=setdiff(agreed_genes,all$gene),pathway='Other'))"
   ]
  },
  {
   "cell_type": "markdown",
   "metadata": {},
   "source": [
    "## Plotting transcriptional effects of EGFR mutation in ES- and NS-LUAD"
   ]
  },
  {
   "cell_type": "code",
   "execution_count": null,
   "metadata": {
    "vscode": {
     "languageId": "r"
    }
   },
   "outputs": [],
   "source": [
    "options(repr.plot.width = 3.2, repr.plot.height = 10)\n",
    "# genes_to_plot <- c(genes_to_plot, \"SMAD3\", \"HHIP\", \"FZD10\", \"PRSS2\",\"IQGAP1\", \"SOX21\")\n",
    "# agreed_genes <- c(agreed_genes, \"SMAD3\", \"HHIP\", \"FZD10\", \"PRSS2\",\"IQGAP1\", \"SOX21\")\n",
    "\n",
    "p1 = ggplot(median_counts_filtered, aes(x=smoking_status,y=gene_name)) + \n",
    "        geom_tile(fill=ifelse(median_counts_filtered$tvn_change=='+','red',ifelse(median_counts_filtered$tvn_change=='-','blue','gray')),alpha=0.1) +\n",
    "        geom_point(aes(fill=log2fc, size=log2(Mut)),shape=21,color=\"black\",alpha=1) + \n",
    "        geom_text(aes(label=fcase(\n",
    "                smoking_status==\"NS\" & padj < alpha,   \"*\", \n",
    "                smoking_status==\"NS\" & padj < alpha*2, \".\"\n",
    "                #smoking_status==\"NS\" & padj < alpha*3, \".\"\n",
    "            ), vjust=ifelse(padj<alpha, 0.725, 0.1)), \n",
    "            hjust=0.5, size=4, nudge_x=-0.5) +\n",
    "        scale_fill_gradient2(low=\"blue\",mid=\"white\",high=\"red\",midpoint=0, breaks=c(-1.5,-0.5,0.5,1.3), labels=c(-1.5,-0.5,0.5,1.3)) + \n",
    "        scale_x_discrete(labels=c(\"NS\"=\"NS-LUAD\", \"ES\"=\"ES-LUAD\")) +\n",
    "        labs(x =\"\",\n",
    "            y=\"\", # \"Gene\",\n",
    "            size = \"log2(median expression) in<br>*EGFR* mutant samples\",\n",
    "            # fill = \"Change in expression\\nfrom Normal to Tumor\",\n",
    "            fill = \"log2FC from<br>*EGFR* WT to mutant\") +\n",
    "        theme_minimal() + \n",
    "        theme(axis.text.y = ggtext::element_markdown(size=12, hjust=0.5),\n",
    "                axis.text.x = element_text(size=12, angle=45, hjust=1),\n",
    "                panel.grid.major = element_blank())\n",
    "p2 = ggplot(all_x[gene %in% median_counts_filtered$gene][, gene := factor(gene, levels = unique(median_counts_filtered$gene))], aes(x=pathway, y=gene)) + \n",
    "        geom_tile(aes(fill=pathway),color=\"black\",width=0.75,height=0.75) +\n",
    "        scale_fill_brewer(palette=\"Pastel2\") +\n",
    "        scale_x_discrete(labels=c(\"TM / ECM\"=\"TM / ECM\",\"WNT\"=\"  Wnt\",\n",
    "                                    \"TGF_BETA\"=expression(paste(\"  TGF-\",beta)),\n",
    "                                    \"EMT\"=\"  EMT\")) + \n",
    "        labs(x=\"\", y=\"\") +\n",
    "        theme_bw() + \n",
    "        theme(panel.grid = element_blank(), panel.border = element_blank(),\n",
    "                plot.margin = margin(, , , 5, \"mm\"),\n",
    "                axis.text.y = element_blank(), axis.ticks = element_blank(),\n",
    "                axis.text.x = element_text(size=12, angle=45, hjust=1),\n",
    "                legend.position = \"none\", legend.title =  ggtext::element_markdown(size=12, hjust=0.5))\n",
    "\n",
    "plot_grid(p2, p1 + theme(legend.position=\"none\"), nrow = 1, rel_widths = c(1, 1.35))"
   ]
  },
  {
   "cell_type": "markdown",
   "metadata": {},
   "source": [
    "# GSVA for pathway-level transcriptional effects of KEAP1 mutation in ES- and NS-LUAD"
   ]
  },
  {
   "cell_type": "code",
   "execution_count": null,
   "metadata": {
    "vscode": {
     "languageId": "r"
    }
   },
   "outputs": [],
   "source": [
    "library(GSVA)\n",
    "library(GSEABase)"
   ]
  },
  {
   "cell_type": "code",
   "execution_count": null,
   "metadata": {
    "vscode": {
     "languageId": "r"
    }
   },
   "outputs": [],
   "source": [
    "hallmark_sets <- getGmt(file.path(location_data,'msigdb_gene_sets','h.all.v2024.1.Hs.symbols.gmt'),\n",
    "                        geneIdType=SymbolIdentifier(),\n",
    "                        collectionType = BroadCollection(category=\"h\"))\n",
    "canonical_sets <- getGmt(file.path(location_data,'msigdb_gene_sets','c2.cp.v2024.1.Hs.symbols.gmt'),\n",
    "                        geneIdType=SymbolIdentifier(),\n",
    "                        collectionType = BroadCollection(category=\"c2\"))\n",
    "combined_sets <- GeneSetCollection(c(hallmark_sets, canonical_sets))"
   ]
  },
  {
   "cell_type": "code",
   "execution_count": null,
   "metadata": {
    "vscode": {
     "languageId": "r"
    }
   },
   "outputs": [],
   "source": [
    "options(repr.plot.width = 10, repr.plot.height = 10)\n",
    "dds <- DESeqDataSetFromMatrix(countData = tcga_counts_clean, colData = tcga_metadata_clean, design = ~ sample_type + smoking_status + keap1_status + smoking_status:keap1_status)\n",
    "\n",
    "vsd <- vst(dds[,dds$sample_type==\"Primary Tumor\"], blind = TRUE)\n",
    "plotPCA(vsd,intgroup=c(\"smoking_status\", \"keap1_status\")) + theme_bw()"
   ]
  },
  {
   "cell_type": "code",
   "execution_count": null,
   "metadata": {
    "vscode": {
     "languageId": "r"
    }
   },
   "outputs": [],
   "source": [
    "vsd_copy <- copy(vsd)\n",
    "rownames(vsd_copy) <- tcga_gene_data[match(rownames(vsd_copy),rownames(tcga_gene_data)),\"gene_name\"]\n",
    "assayNames(vsd_copy) <- \"counts\""
   ]
  },
  {
   "cell_type": "code",
   "execution_count": null,
   "metadata": {
    "vscode": {
     "languageId": "r"
    }
   },
   "outputs": [],
   "source": [
    "keap1_par <- gsvaParam(exprData=vsd_copy[,vsd_copy$sample_type==\"Primary Tumor\"],geneSets=combined_sets,kcdf=\"Gaussian\",assay='counts')\n",
    "keap1_es <- gsva(keap1_par)"
   ]
  },
  {
   "cell_type": "code",
   "execution_count": null,
   "metadata": {
    "vscode": {
     "languageId": "r"
    }
   },
   "outputs": [],
   "source": [
    "gsva_res <- as.data.table(t(assay(keap1_es)),keep.rownames = T)\n",
    "setnames(gsva_res,'rn','barcode')\n",
    "gsva_res <- as.data.table(tcga_metadata_clean)[,.(barcode,sample_type,smoking_status,keap1_status)][gsva_res,on=\"barcode\"]\n",
    "\n",
    "smoking_status_abbrev <- c(\"nonsmoking\" = \"NS-LUAD\", \"smoking\" = \"ES-LUAD\")\n",
    "gsva_res_to_plot <- gsva_res[sample_type==\"Primary Tumor\"]\n",
    "gsva_res_to_plot[,smoking_status:=as.character(smoking_status_abbrev[smoking_status])]\n",
    "gsva_res_to_plot[,group := paste0(smoking_status,'\\n',keap1_status)]\n",
    "gsva_res_to_plot[,group := factor(group, levels = c('NS-LUAD\\nWT','NS-LUAD\\nMut','ES-LUAD\\nWT','ES-LUAD\\nMut'))]\n",
    "\n",
    "gsva_res_to_plot_2 <- copy(gsva_res_to_plot)\n",
    "gsva_res_to_plot_2[,smoking_status:=fcase(\n",
    "    smoking_status == \"NS-LUAD\", \"NS-\\nLUAD\",\n",
    "    smoking_status == \"ES-LUAD\", \"ES-\\nLUAD\"\n",
    ")]"
   ]
  },
  {
   "cell_type": "code",
   "execution_count": null,
   "metadata": {
    "vscode": {
     "languageId": "r"
    }
   },
   "outputs": [],
   "source": [
    "options(repr.plot.width = 5, repr.plot.height = 6)\n",
    "p = ggplot(gsva_res_to_plot_2,\n",
    "        aes(x=group,\n",
    "            y=KEGG_DNA_REPLICATION)) + \n",
    "    # geom_violin(scale=\"count\",draw_quantiles = c(0.25, 0.5, 0.75)) +\n",
    "    geom_boxplot(aes(color=smoking_status),varwidth = T,outlier.shape=NA) +\n",
    "    geom_jitter(aes(color=smoking_status),width=0.1) +\n",
    "    geom_vline(xintercept=2.5,lty=2) +\n",
    "    ggsignif::geom_signif(comparison = list(c('NS-LUAD\\nWT','NS-LUAD\\nMut'),\n",
    "                                            c('ES-LUAD\\nWT','ES-LUAD\\nMut')),\n",
    "                            map_signif_level = T,\n",
    "                            textsize = 6) +\n",
    "    scale_x_discrete(labels=rep(c(\"WT\",'Mut'),2)) +\n",
    "    labs(x=\"*KEAP1* status\", y = \"DNA Replication enrichment score\") +\n",
    "    theme_classic() +\n",
    "    theme(axis.title.y = element_text(size=18), axis.text.y = element_text(size=12), axis.title.x = ggtext::element_markdown(size=18), axis.text.x = element_text(size=16),\n",
    "            legend.position = c(0.35,0.75), legend.title=element_blank(), legend.text = element_text(size=14))\n",
    "p"
   ]
  }
 ],
 "metadata": {
  "kernelspec": {
   "display_name": "R",
   "language": "R",
   "name": "ir"
  },
  "language_info": {
   "codemirror_mode": "r",
   "file_extension": ".r",
   "mimetype": "text/x-r-source",
   "name": "R",
   "pygments_lexer": "r",
   "version": "4.3.0"
  }
 },
 "nbformat": 4,
 "nbformat_minor": 2
}
